{
 "cells": [
  {
   "cell_type": "code",
   "execution_count": 198,
   "id": "6ea24ad8",
   "metadata": {},
   "outputs": [],
   "source": [
    "import pandas as pd\n",
    "import numpy as np\n",
    "import matplotlib.pyplot as plt\n",
    "import seaborn as sns\n",
    "import datetime as datetime"
   ]
  },
  {
   "cell_type": "code",
   "execution_count": 66,
   "id": "faec8f00",
   "metadata": {},
   "outputs": [],
   "source": [
    "Customer_Acqusition=pd.read_excel('C:/Users/hp/Credit_Card_Data.xlsx',sheet_name=0)"
   ]
  },
  {
   "cell_type": "code",
   "execution_count": 27,
   "id": "6cd21d94",
   "metadata": {},
   "outputs": [],
   "source": [
    "Spend=pd.read_excel('C:/Users/hp/Credit_Card_Data.xlsx',sheet_name=1)"
   ]
  },
  {
   "cell_type": "code",
   "execution_count": 28,
   "id": "69fd43a2",
   "metadata": {},
   "outputs": [],
   "source": [
    "Repayment=pd.read_excel('C:/Users/hp/Credit_Card_Data.xlsx',sheet_name=2)"
   ]
  },
  {
   "cell_type": "code",
   "execution_count": 31,
   "id": "6a526254",
   "metadata": {},
   "outputs": [
    {
     "data": {
      "text/html": [
       "<div>\n",
       "<style scoped>\n",
       "    .dataframe tbody tr th:only-of-type {\n",
       "        vertical-align: middle;\n",
       "    }\n",
       "\n",
       "    .dataframe tbody tr th {\n",
       "        vertical-align: top;\n",
       "    }\n",
       "\n",
       "    .dataframe thead th {\n",
       "        text-align: right;\n",
       "    }\n",
       "</style>\n",
       "<table border=\"1\" class=\"dataframe\">\n",
       "  <thead>\n",
       "    <tr style=\"text-align: right;\">\n",
       "      <th></th>\n",
       "      <th>No</th>\n",
       "      <th>Customer</th>\n",
       "      <th>Age</th>\n",
       "      <th>City</th>\n",
       "      <th>Product</th>\n",
       "      <th>Limit</th>\n",
       "      <th>Company</th>\n",
       "      <th>Segment</th>\n",
       "    </tr>\n",
       "  </thead>\n",
       "  <tbody>\n",
       "    <tr>\n",
       "      <th>0</th>\n",
       "      <td>1</td>\n",
       "      <td>A1</td>\n",
       "      <td>34.012349</td>\n",
       "      <td>BANGALORE</td>\n",
       "      <td>Gold</td>\n",
       "      <td>500000</td>\n",
       "      <td>C1</td>\n",
       "      <td>Self Employed</td>\n",
       "    </tr>\n",
       "    <tr>\n",
       "      <th>1</th>\n",
       "      <td>2</td>\n",
       "      <td>A2</td>\n",
       "      <td>50.497350</td>\n",
       "      <td>CALCUTTA</td>\n",
       "      <td>Silver</td>\n",
       "      <td>100000</td>\n",
       "      <td>C2</td>\n",
       "      <td>Salaried_MNC</td>\n",
       "    </tr>\n",
       "    <tr>\n",
       "      <th>2</th>\n",
       "      <td>3</td>\n",
       "      <td>A3</td>\n",
       "      <td>35.855817</td>\n",
       "      <td>COCHIN</td>\n",
       "      <td>Platimum</td>\n",
       "      <td>10000</td>\n",
       "      <td>C3</td>\n",
       "      <td>Salaried_Pvt</td>\n",
       "    </tr>\n",
       "    <tr>\n",
       "      <th>3</th>\n",
       "      <td>4</td>\n",
       "      <td>A4</td>\n",
       "      <td>27.356821</td>\n",
       "      <td>BOMBAY</td>\n",
       "      <td>Platimum</td>\n",
       "      <td>10001</td>\n",
       "      <td>C4</td>\n",
       "      <td>Govt</td>\n",
       "    </tr>\n",
       "    <tr>\n",
       "      <th>4</th>\n",
       "      <td>5</td>\n",
       "      <td>A5</td>\n",
       "      <td>22.021249</td>\n",
       "      <td>BANGALORE</td>\n",
       "      <td>Platimum</td>\n",
       "      <td>10002</td>\n",
       "      <td>C5</td>\n",
       "      <td>Normal Salary</td>\n",
       "    </tr>\n",
       "  </tbody>\n",
       "</table>\n",
       "</div>"
      ],
      "text/plain": [
       "   No Customer        Age       City   Product   Limit Company        Segment\n",
       "0   1       A1  34.012349  BANGALORE      Gold  500000      C1  Self Employed\n",
       "1   2       A2  50.497350   CALCUTTA    Silver  100000      C2   Salaried_MNC\n",
       "2   3       A3  35.855817     COCHIN  Platimum   10000      C3   Salaried_Pvt\n",
       "3   4       A4  27.356821     BOMBAY  Platimum   10001      C4           Govt\n",
       "4   5       A5  22.021249  BANGALORE  Platimum   10002      C5  Normal Salary"
      ]
     },
     "execution_count": 31,
     "metadata": {},
     "output_type": "execute_result"
    }
   ],
   "source": [
    "Customer_Acqusition.head(5)"
   ]
  },
  {
   "cell_type": "code",
   "execution_count": 32,
   "id": "95b47fac",
   "metadata": {},
   "outputs": [
    {
     "data": {
      "text/html": [
       "<div>\n",
       "<style scoped>\n",
       "    .dataframe tbody tr th:only-of-type {\n",
       "        vertical-align: middle;\n",
       "    }\n",
       "\n",
       "    .dataframe tbody tr th {\n",
       "        vertical-align: top;\n",
       "    }\n",
       "\n",
       "    .dataframe thead th {\n",
       "        text-align: right;\n",
       "    }\n",
       "</style>\n",
       "<table border=\"1\" class=\"dataframe\">\n",
       "  <thead>\n",
       "    <tr style=\"text-align: right;\">\n",
       "      <th></th>\n",
       "      <th>Sl No:</th>\n",
       "      <th>Customer</th>\n",
       "      <th>Month</th>\n",
       "      <th>Type</th>\n",
       "      <th>Amount</th>\n",
       "    </tr>\n",
       "  </thead>\n",
       "  <tbody>\n",
       "    <tr>\n",
       "      <th>0</th>\n",
       "      <td>1</td>\n",
       "      <td>A1</td>\n",
       "      <td>2004-01-12</td>\n",
       "      <td>JEWELLERY</td>\n",
       "      <td>344054.980813</td>\n",
       "    </tr>\n",
       "    <tr>\n",
       "      <th>1</th>\n",
       "      <td>2</td>\n",
       "      <td>A1</td>\n",
       "      <td>2004-01-03</td>\n",
       "      <td>PETRO</td>\n",
       "      <td>467747.601626</td>\n",
       "    </tr>\n",
       "    <tr>\n",
       "      <th>2</th>\n",
       "      <td>3</td>\n",
       "      <td>A1</td>\n",
       "      <td>2004-01-15</td>\n",
       "      <td>CLOTHES</td>\n",
       "      <td>86878.954735</td>\n",
       "    </tr>\n",
       "    <tr>\n",
       "      <th>3</th>\n",
       "      <td>4</td>\n",
       "      <td>A1</td>\n",
       "      <td>2004-01-25</td>\n",
       "      <td>FOOD</td>\n",
       "      <td>269175.011875</td>\n",
       "    </tr>\n",
       "    <tr>\n",
       "      <th>4</th>\n",
       "      <td>5</td>\n",
       "      <td>A1</td>\n",
       "      <td>2005-01-17</td>\n",
       "      <td>CAMERA</td>\n",
       "      <td>3406.639477</td>\n",
       "    </tr>\n",
       "  </tbody>\n",
       "</table>\n",
       "</div>"
      ],
      "text/plain": [
       "   Sl No: Customer      Month       Type         Amount\n",
       "0       1       A1 2004-01-12  JEWELLERY  344054.980813\n",
       "1       2       A1 2004-01-03      PETRO  467747.601626\n",
       "2       3       A1 2004-01-15    CLOTHES   86878.954735\n",
       "3       4       A1 2004-01-25       FOOD  269175.011875\n",
       "4       5       A1 2005-01-17     CAMERA    3406.639477"
      ]
     },
     "execution_count": 32,
     "metadata": {},
     "output_type": "execute_result"
    }
   ],
   "source": [
    "Spend.head(5)"
   ]
  },
  {
   "cell_type": "code",
   "execution_count": 33,
   "id": "11de52f6",
   "metadata": {},
   "outputs": [
    {
     "data": {
      "text/html": [
       "<div>\n",
       "<style scoped>\n",
       "    .dataframe tbody tr th:only-of-type {\n",
       "        vertical-align: middle;\n",
       "    }\n",
       "\n",
       "    .dataframe tbody tr th {\n",
       "        vertical-align: top;\n",
       "    }\n",
       "\n",
       "    .dataframe thead th {\n",
       "        text-align: right;\n",
       "    }\n",
       "</style>\n",
       "<table border=\"1\" class=\"dataframe\">\n",
       "  <thead>\n",
       "    <tr style=\"text-align: right;\">\n",
       "      <th></th>\n",
       "      <th>SL No:</th>\n",
       "      <th>Customer</th>\n",
       "      <th>Month</th>\n",
       "      <th>Amount</th>\n",
       "    </tr>\n",
       "  </thead>\n",
       "  <tbody>\n",
       "    <tr>\n",
       "      <th>0</th>\n",
       "      <td>1</td>\n",
       "      <td>A1</td>\n",
       "      <td>2004-01-12</td>\n",
       "      <td>338932.141919</td>\n",
       "    </tr>\n",
       "    <tr>\n",
       "      <th>1</th>\n",
       "      <td>2</td>\n",
       "      <td>A1</td>\n",
       "      <td>2004-01-03</td>\n",
       "      <td>131778.688758</td>\n",
       "    </tr>\n",
       "    <tr>\n",
       "      <th>2</th>\n",
       "      <td>3</td>\n",
       "      <td>A1</td>\n",
       "      <td>2004-01-15</td>\n",
       "      <td>485981.516736</td>\n",
       "    </tr>\n",
       "    <tr>\n",
       "      <th>3</th>\n",
       "      <td>4</td>\n",
       "      <td>A1</td>\n",
       "      <td>2004-01-25</td>\n",
       "      <td>452865.826385</td>\n",
       "    </tr>\n",
       "    <tr>\n",
       "      <th>4</th>\n",
       "      <td>5</td>\n",
       "      <td>A1</td>\n",
       "      <td>2005-01-17</td>\n",
       "      <td>154684.838196</td>\n",
       "    </tr>\n",
       "  </tbody>\n",
       "</table>\n",
       "</div>"
      ],
      "text/plain": [
       "   SL No: Customer      Month         Amount\n",
       "0       1       A1 2004-01-12  338932.141919\n",
       "1       2       A1 2004-01-03  131778.688758\n",
       "2       3       A1 2004-01-15  485981.516736\n",
       "3       4       A1 2004-01-25  452865.826385\n",
       "4       5       A1 2005-01-17  154684.838196"
      ]
     },
     "execution_count": 33,
     "metadata": {},
     "output_type": "execute_result"
    }
   ],
   "source": [
    "Repayment.head(5)"
   ]
  },
  {
   "cell_type": "code",
   "execution_count": 34,
   "id": "eb3f8955",
   "metadata": {},
   "outputs": [
    {
     "data": {
      "text/plain": [
       "(100, 8)"
      ]
     },
     "execution_count": 34,
     "metadata": {},
     "output_type": "execute_result"
    }
   ],
   "source": [
    "Customer_Acqusition.shape"
   ]
  },
  {
   "cell_type": "code",
   "execution_count": 35,
   "id": "6c6a7a8e",
   "metadata": {},
   "outputs": [
    {
     "data": {
      "text/plain": [
       "(1500, 5)"
      ]
     },
     "execution_count": 35,
     "metadata": {},
     "output_type": "execute_result"
    }
   ],
   "source": [
    "Spend.shape"
   ]
  },
  {
   "cell_type": "code",
   "execution_count": 36,
   "id": "60b1bab9",
   "metadata": {},
   "outputs": [
    {
     "data": {
      "text/plain": [
       "(1500, 4)"
      ]
     },
     "execution_count": 36,
     "metadata": {},
     "output_type": "execute_result"
    }
   ],
   "source": [
    "Repayment.shape"
   ]
  },
  {
   "cell_type": "markdown",
   "id": "7625745b",
   "metadata": {},
   "source": [
    "# 1. In the above dataset,"
   ]
  },
  {
   "cell_type": "markdown",
   "id": "4d63fa2e",
   "metadata": {},
   "source": [
    "# a. In case age is less than 18, replace it with mean of age values."
   ]
  },
  {
   "cell_type": "code",
   "execution_count": 73,
   "id": "bd39f6ab",
   "metadata": {},
   "outputs": [],
   "source": [
    "Customer_Acqusition.loc[Customer_Acqusition.Age<18,'Age']=Customer_Acqusition.loc[Customer_Acqusition.Age<18,'Age'].mean()"
   ]
  },
  {
   "cell_type": "code",
   "execution_count": 74,
   "id": "958cd5b7",
   "metadata": {},
   "outputs": [
    {
     "data": {
      "text/plain": [
       "10    9.628219\n",
       "12    9.628219\n",
       "14    9.628219\n",
       "16    9.628219\n",
       "18    9.628219\n",
       "21    9.628219\n",
       "26    9.628219\n",
       "30    9.628219\n",
       "32    9.628219\n",
       "34    9.628219\n",
       "35    9.628219\n",
       "39    9.628219\n",
       "42    9.628219\n",
       "47    9.628219\n",
       "59    9.628219\n",
       "60    9.628219\n",
       "63    9.628219\n",
       "64    9.628219\n",
       "68    9.628219\n",
       "69    9.628219\n",
       "76    9.628219\n",
       "84    9.628219\n",
       "85    9.628219\n",
       "91    9.628219\n",
       "99    9.628219\n",
       "Name: Age, dtype: float64"
      ]
     },
     "execution_count": 74,
     "metadata": {},
     "output_type": "execute_result"
    }
   ],
   "source": [
    "Customer_Acqusition.loc[Customer_Acqusition.Age<18,'Age']"
   ]
  },
  {
   "cell_type": "markdown",
   "id": "9430342d",
   "metadata": {},
   "source": [
    "# b. In case spend amount is more than the limit, replace it with 50% of that customer’s limit.\n",
    "# (customer’s limit provided in acquisition table is the per transaction limit on his card)"
   ]
  },
  {
   "cell_type": "code",
   "execution_count": 120,
   "id": "a252378b",
   "metadata": {},
   "outputs": [],
   "source": [
    "join1=pd.merge(Customer_Acqusition,Spend,left_on='Customer',right_on='Customer',how='inner')"
   ]
  },
  {
   "cell_type": "code",
   "execution_count": 121,
   "id": "49391491",
   "metadata": {},
   "outputs": [],
   "source": [
    "Final_join=pd.merge(join1,Repayment,left_on='Customer',right_on='Customer',how='inner')"
   ]
  },
  {
   "cell_type": "code",
   "execution_count": 143,
   "id": "9b2263fd",
   "metadata": {},
   "outputs": [],
   "source": [
    "join1.loc[join1.Amount>join1.Limit,'Amount']=join1.loc[join1.Amount>join1.Limit,'Amount']*0.5"
   ]
  },
  {
   "cell_type": "code",
   "execution_count": 144,
   "id": "a83aac60",
   "metadata": {},
   "outputs": [
    {
     "data": {
      "text/plain": [
       "19      123641.926650\n",
       "21      220405.632211\n",
       "23      197775.636060\n",
       "24      152202.257852\n",
       "28      148255.063243\n",
       "            ...      \n",
       "1484    209975.788997\n",
       "1485    111664.064855\n",
       "1496     67202.333079\n",
       "1497    223055.460091\n",
       "1498     54068.597585\n",
       "Name: Amount, Length: 500, dtype: float64"
      ]
     },
     "execution_count": 144,
     "metadata": {},
     "output_type": "execute_result"
    }
   ],
   "source": [
    "join1.loc[join1.Amount>join1.Limit,'Amount']"
   ]
  },
  {
   "cell_type": "code",
   "execution_count": 146,
   "id": "fd270edc",
   "metadata": {},
   "outputs": [
    {
     "data": {
      "text/html": [
       "<div>\n",
       "<style scoped>\n",
       "    .dataframe tbody tr th:only-of-type {\n",
       "        vertical-align: middle;\n",
       "    }\n",
       "\n",
       "    .dataframe tbody tr th {\n",
       "        vertical-align: top;\n",
       "    }\n",
       "\n",
       "    .dataframe thead th {\n",
       "        text-align: right;\n",
       "    }\n",
       "</style>\n",
       "<table border=\"1\" class=\"dataframe\">\n",
       "  <thead>\n",
       "    <tr style=\"text-align: right;\">\n",
       "      <th></th>\n",
       "      <th>No</th>\n",
       "      <th>Customer</th>\n",
       "      <th>Age</th>\n",
       "      <th>City</th>\n",
       "      <th>Product</th>\n",
       "      <th>Limit</th>\n",
       "      <th>Company</th>\n",
       "      <th>Segment</th>\n",
       "      <th>Sl No:</th>\n",
       "      <th>Month</th>\n",
       "      <th>Type</th>\n",
       "      <th>Amount</th>\n",
       "    </tr>\n",
       "  </thead>\n",
       "  <tbody>\n",
       "    <tr>\n",
       "      <th>19</th>\n",
       "      <td>2</td>\n",
       "      <td>A2</td>\n",
       "      <td>50.497350</td>\n",
       "      <td>CALCUTTA</td>\n",
       "      <td>Silver</td>\n",
       "      <td>100000</td>\n",
       "      <td>C2</td>\n",
       "      <td>Salaried_MNC</td>\n",
       "      <td>118</td>\n",
       "      <td>2005-02-28</td>\n",
       "      <td>TRAIN TICKET</td>\n",
       "      <td>123641.926650</td>\n",
       "    </tr>\n",
       "    <tr>\n",
       "      <th>21</th>\n",
       "      <td>2</td>\n",
       "      <td>A2</td>\n",
       "      <td>50.497350</td>\n",
       "      <td>CALCUTTA</td>\n",
       "      <td>Silver</td>\n",
       "      <td>100000</td>\n",
       "      <td>C2</td>\n",
       "      <td>Salaried_MNC</td>\n",
       "      <td>146</td>\n",
       "      <td>2004-11-23</td>\n",
       "      <td>PETRO</td>\n",
       "      <td>220405.632211</td>\n",
       "    </tr>\n",
       "    <tr>\n",
       "      <th>23</th>\n",
       "      <td>2</td>\n",
       "      <td>A2</td>\n",
       "      <td>50.497350</td>\n",
       "      <td>CALCUTTA</td>\n",
       "      <td>Silver</td>\n",
       "      <td>100000</td>\n",
       "      <td>C2</td>\n",
       "      <td>Salaried_MNC</td>\n",
       "      <td>174</td>\n",
       "      <td>2006-11-03</td>\n",
       "      <td>MOVIE TICKET</td>\n",
       "      <td>197775.636060</td>\n",
       "    </tr>\n",
       "    <tr>\n",
       "      <th>24</th>\n",
       "      <td>2</td>\n",
       "      <td>A2</td>\n",
       "      <td>50.497350</td>\n",
       "      <td>CALCUTTA</td>\n",
       "      <td>Silver</td>\n",
       "      <td>100000</td>\n",
       "      <td>C2</td>\n",
       "      <td>Salaried_MNC</td>\n",
       "      <td>188</td>\n",
       "      <td>2006-02-04</td>\n",
       "      <td>FOOD</td>\n",
       "      <td>152202.257852</td>\n",
       "    </tr>\n",
       "    <tr>\n",
       "      <th>28</th>\n",
       "      <td>2</td>\n",
       "      <td>A2</td>\n",
       "      <td>50.497350</td>\n",
       "      <td>CALCUTTA</td>\n",
       "      <td>Silver</td>\n",
       "      <td>100000</td>\n",
       "      <td>C2</td>\n",
       "      <td>Salaried_MNC</td>\n",
       "      <td>244</td>\n",
       "      <td>2006-05-06</td>\n",
       "      <td>TRAIN TICKET</td>\n",
       "      <td>148255.063243</td>\n",
       "    </tr>\n",
       "    <tr>\n",
       "      <th>...</th>\n",
       "      <td>...</td>\n",
       "      <td>...</td>\n",
       "      <td>...</td>\n",
       "      <td>...</td>\n",
       "      <td>...</td>\n",
       "      <td>...</td>\n",
       "      <td>...</td>\n",
       "      <td>...</td>\n",
       "      <td>...</td>\n",
       "      <td>...</td>\n",
       "      <td>...</td>\n",
       "      <td>...</td>\n",
       "    </tr>\n",
       "    <tr>\n",
       "      <th>1484</th>\n",
       "      <td>85</td>\n",
       "      <td>A85</td>\n",
       "      <td>9.628219</td>\n",
       "      <td>CHENNAI</td>\n",
       "      <td>Silver</td>\n",
       "      <td>100001</td>\n",
       "      <td>C8</td>\n",
       "      <td>Govt</td>\n",
       "      <td>87</td>\n",
       "      <td>2006-03-28</td>\n",
       "      <td>BUS TICKET</td>\n",
       "      <td>209975.788997</td>\n",
       "    </tr>\n",
       "    <tr>\n",
       "      <th>1485</th>\n",
       "      <td>86</td>\n",
       "      <td>A86</td>\n",
       "      <td>9.628219</td>\n",
       "      <td>TRIVANDRUM</td>\n",
       "      <td>Silver</td>\n",
       "      <td>100002</td>\n",
       "      <td>C9</td>\n",
       "      <td>Govt</td>\n",
       "      <td>88</td>\n",
       "      <td>2006-03-29</td>\n",
       "      <td>TRAIN TICKET</td>\n",
       "      <td>111664.064855</td>\n",
       "    </tr>\n",
       "    <tr>\n",
       "      <th>1496</th>\n",
       "      <td>97</td>\n",
       "      <td>A97</td>\n",
       "      <td>69.880658</td>\n",
       "      <td>TRIVANDRUM</td>\n",
       "      <td>Platimum</td>\n",
       "      <td>10000</td>\n",
       "      <td>C20</td>\n",
       "      <td>Govt</td>\n",
       "      <td>99</td>\n",
       "      <td>2004-01-12</td>\n",
       "      <td>AUTO</td>\n",
       "      <td>67202.333079</td>\n",
       "    </tr>\n",
       "    <tr>\n",
       "      <th>1497</th>\n",
       "      <td>98</td>\n",
       "      <td>A98</td>\n",
       "      <td>20.951811</td>\n",
       "      <td>CALCUTTA</td>\n",
       "      <td>Platimum</td>\n",
       "      <td>10001</td>\n",
       "      <td>C21</td>\n",
       "      <td>Normal Salary</td>\n",
       "      <td>100</td>\n",
       "      <td>2004-01-03</td>\n",
       "      <td>SHOPPING</td>\n",
       "      <td>223055.460091</td>\n",
       "    </tr>\n",
       "    <tr>\n",
       "      <th>1498</th>\n",
       "      <td>99</td>\n",
       "      <td>A99</td>\n",
       "      <td>52.456908</td>\n",
       "      <td>CALCUTTA</td>\n",
       "      <td>Platimum</td>\n",
       "      <td>10002</td>\n",
       "      <td>C22</td>\n",
       "      <td>Self Employed</td>\n",
       "      <td>101</td>\n",
       "      <td>2004-01-15</td>\n",
       "      <td>AIR TICKET</td>\n",
       "      <td>54068.597585</td>\n",
       "    </tr>\n",
       "  </tbody>\n",
       "</table>\n",
       "<p>500 rows × 12 columns</p>\n",
       "</div>"
      ],
      "text/plain": [
       "      No Customer        Age        City   Product   Limit Company  \\\n",
       "19     2       A2  50.497350    CALCUTTA    Silver  100000      C2   \n",
       "21     2       A2  50.497350    CALCUTTA    Silver  100000      C2   \n",
       "23     2       A2  50.497350    CALCUTTA    Silver  100000      C2   \n",
       "24     2       A2  50.497350    CALCUTTA    Silver  100000      C2   \n",
       "28     2       A2  50.497350    CALCUTTA    Silver  100000      C2   \n",
       "...   ..      ...        ...         ...       ...     ...     ...   \n",
       "1484  85      A85   9.628219     CHENNAI    Silver  100001      C8   \n",
       "1485  86      A86   9.628219  TRIVANDRUM    Silver  100002      C9   \n",
       "1496  97      A97  69.880658  TRIVANDRUM  Platimum   10000     C20   \n",
       "1497  98      A98  20.951811    CALCUTTA  Platimum   10001     C21   \n",
       "1498  99      A99  52.456908    CALCUTTA  Platimum   10002     C22   \n",
       "\n",
       "            Segment  Sl No:      Month          Type         Amount  \n",
       "19     Salaried_MNC     118 2005-02-28  TRAIN TICKET  123641.926650  \n",
       "21     Salaried_MNC     146 2004-11-23         PETRO  220405.632211  \n",
       "23     Salaried_MNC     174 2006-11-03  MOVIE TICKET  197775.636060  \n",
       "24     Salaried_MNC     188 2006-02-04          FOOD  152202.257852  \n",
       "28     Salaried_MNC     244 2006-05-06  TRAIN TICKET  148255.063243  \n",
       "...             ...     ...        ...           ...            ...  \n",
       "1484           Govt      87 2006-03-28    BUS TICKET  209975.788997  \n",
       "1485           Govt      88 2006-03-29  TRAIN TICKET  111664.064855  \n",
       "1496           Govt      99 2004-01-12          AUTO   67202.333079  \n",
       "1497  Normal Salary     100 2004-01-03      SHOPPING  223055.460091  \n",
       "1498  Self Employed     101 2004-01-15    AIR TICKET   54068.597585  \n",
       "\n",
       "[500 rows x 12 columns]"
      ]
     },
     "execution_count": 146,
     "metadata": {},
     "output_type": "execute_result"
    }
   ],
   "source": [
    "join1.loc[join1.Amount>join1.Limit]"
   ]
  },
  {
   "cell_type": "markdown",
   "id": "370b513b",
   "metadata": {},
   "source": [
    "# c. Incase the repayment amount is more than the limit, replace the repayment with the limit."
   ]
  },
  {
   "cell_type": "code",
   "execution_count": 161,
   "id": "07caa436",
   "metadata": {},
   "outputs": [],
   "source": [
    "Final_join.loc[Final_join.Amount_y>Final_join.Limit,'Amount_y']=Final_join.loc[:,'Limit']"
   ]
  },
  {
   "cell_type": "code",
   "execution_count": 165,
   "id": "2b062803",
   "metadata": {},
   "outputs": [
    {
     "data": {
      "text/html": [
       "<div>\n",
       "<style scoped>\n",
       "    .dataframe tbody tr th:only-of-type {\n",
       "        vertical-align: middle;\n",
       "    }\n",
       "\n",
       "    .dataframe tbody tr th {\n",
       "        vertical-align: top;\n",
       "    }\n",
       "\n",
       "    .dataframe thead th {\n",
       "        text-align: right;\n",
       "    }\n",
       "</style>\n",
       "<table border=\"1\" class=\"dataframe\">\n",
       "  <thead>\n",
       "    <tr style=\"text-align: right;\">\n",
       "      <th></th>\n",
       "      <th>Limit</th>\n",
       "      <th>Amount_y</th>\n",
       "    </tr>\n",
       "  </thead>\n",
       "  <tbody>\n",
       "    <tr>\n",
       "      <th>324</th>\n",
       "      <td>100000</td>\n",
       "      <td>100000.0</td>\n",
       "    </tr>\n",
       "    <tr>\n",
       "      <th>325</th>\n",
       "      <td>100000</td>\n",
       "      <td>100000.0</td>\n",
       "    </tr>\n",
       "    <tr>\n",
       "      <th>326</th>\n",
       "      <td>100000</td>\n",
       "      <td>100000.0</td>\n",
       "    </tr>\n",
       "    <tr>\n",
       "      <th>327</th>\n",
       "      <td>100000</td>\n",
       "      <td>100000.0</td>\n",
       "    </tr>\n",
       "    <tr>\n",
       "      <th>328</th>\n",
       "      <td>100000</td>\n",
       "      <td>100000.0</td>\n",
       "    </tr>\n",
       "    <tr>\n",
       "      <th>...</th>\n",
       "      <td>...</td>\n",
       "      <td>...</td>\n",
       "    </tr>\n",
       "    <tr>\n",
       "      <th>37279</th>\n",
       "      <td>100000</td>\n",
       "      <td>100000.0</td>\n",
       "    </tr>\n",
       "    <tr>\n",
       "      <th>37280</th>\n",
       "      <td>10000</td>\n",
       "      <td>10000.0</td>\n",
       "    </tr>\n",
       "    <tr>\n",
       "      <th>37281</th>\n",
       "      <td>10001</td>\n",
       "      <td>10001.0</td>\n",
       "    </tr>\n",
       "    <tr>\n",
       "      <th>37282</th>\n",
       "      <td>10002</td>\n",
       "      <td>10002.0</td>\n",
       "    </tr>\n",
       "    <tr>\n",
       "      <th>37283</th>\n",
       "      <td>100000</td>\n",
       "      <td>100000.0</td>\n",
       "    </tr>\n",
       "  </tbody>\n",
       "</table>\n",
       "<p>13810 rows × 2 columns</p>\n",
       "</div>"
      ],
      "text/plain": [
       "        Limit  Amount_y\n",
       "324    100000  100000.0\n",
       "325    100000  100000.0\n",
       "326    100000  100000.0\n",
       "327    100000  100000.0\n",
       "328    100000  100000.0\n",
       "...       ...       ...\n",
       "37279  100000  100000.0\n",
       "37280   10000   10000.0\n",
       "37281   10001   10001.0\n",
       "37282   10002   10002.0\n",
       "37283  100000  100000.0\n",
       "\n",
       "[13810 rows x 2 columns]"
      ]
     },
     "execution_count": 165,
     "metadata": {},
     "output_type": "execute_result"
    }
   ],
   "source": [
    "Final_join.loc[Final_join.Amount_y==Final_join.Limit,['Limit','Amount_y']]"
   ]
  },
  {
   "cell_type": "markdown",
   "id": "d0c6ba4d",
   "metadata": {},
   "source": [
    "# 2. From the above dataset create the following summaries:"
   ]
  },
  {
   "cell_type": "markdown",
   "id": "101d9a97",
   "metadata": {},
   "source": [
    "# a. How many distinct customers exist?"
   ]
  },
  {
   "cell_type": "code",
   "execution_count": 185,
   "id": "aecd0c06",
   "metadata": {},
   "outputs": [
    {
     "data": {
      "text/plain": [
       "100"
      ]
     },
     "execution_count": 185,
     "metadata": {},
     "output_type": "execute_result"
    }
   ],
   "source": [
    "Final_join.Customer.nunique()"
   ]
  },
  {
   "cell_type": "markdown",
   "id": "665a70f4",
   "metadata": {},
   "source": [
    "# b. How many distinct categories exist?"
   ]
  },
  {
   "cell_type": "code",
   "execution_count": 186,
   "id": "1b6f4d86",
   "metadata": {},
   "outputs": [
    {
     "data": {
      "text/plain": [
       "15"
      ]
     },
     "execution_count": 186,
     "metadata": {},
     "output_type": "execute_result"
    }
   ],
   "source": [
    "Final_join.Type.nunique()"
   ]
  },
  {
   "cell_type": "markdown",
   "id": "27feac41",
   "metadata": {},
   "source": [
    "# c. What is the average monthly spend by customers?"
   ]
  },
  {
   "cell_type": "code",
   "execution_count": 226,
   "id": "d6fcb65b",
   "metadata": {},
   "outputs": [
    {
     "data": {
      "text/plain": [
       "Month\n",
       "1     258969.0\n",
       "2     241764.0\n",
       "3     265399.0\n",
       "4     251052.0\n",
       "5     238554.0\n",
       "6     250374.0\n",
       "7     292168.0\n",
       "8     257768.0\n",
       "9     241256.0\n",
       "10    202366.0\n",
       "11    251717.0\n",
       "12    208680.0\n",
       "Name: Amount, dtype: float64"
      ]
     },
     "execution_count": 226,
     "metadata": {},
     "output_type": "execute_result"
    }
   ],
   "source": [
    "round(Spend.groupby(Spend.Month.dt.month)['Amount'].mean(),0)"
   ]
  },
  {
   "cell_type": "markdown",
   "id": "ee48dbe1",
   "metadata": {},
   "source": [
    "# d. What is the average monthly repayment by customers?"
   ]
  },
  {
   "cell_type": "code",
   "execution_count": 228,
   "id": "dc6f5df7",
   "metadata": {},
   "outputs": [
    {
     "data": {
      "text/plain": [
       "Month\n",
       "1     250726.0\n",
       "2     245963.0\n",
       "3     251989.0\n",
       "4     231388.0\n",
       "5     249141.0\n",
       "6     267582.0\n",
       "7     251181.0\n",
       "8     269023.0\n",
       "9     212215.0\n",
       "10    258625.0\n",
       "11    268600.0\n",
       "12    207628.0\n",
       "Name: Amount, dtype: float64"
      ]
     },
     "execution_count": 228,
     "metadata": {},
     "output_type": "execute_result"
    }
   ],
   "source": [
    "round(Repayment.groupby(Repayment.Month.dt.month)['Amount'].mean(),0)"
   ]
  },
  {
   "cell_type": "markdown",
   "id": "6b0d0eda",
   "metadata": {},
   "source": [
    "# e. If the monthly rate of interest is 2.9%, what is the profit for the bank for each month?\n",
    "## (Profit is defined as interest earned on Monthly Profit. Monthly Profit = Monthly repayment– Monthly spend. Interest is earned only on positive profits and not on negative amounts)"
   ]
  },
  {
   "cell_type": "code",
   "execution_count": 625,
   "id": "a90b2e4f",
   "metadata": {},
   "outputs": [
    {
     "data": {
      "text/plain": [
       "0         -5122.838893\n",
       "1       -212276.292055\n",
       "2        141926.535923\n",
       "3        108810.845572\n",
       "4       -189370.142617\n",
       "             ...      \n",
       "37279      5630.821198\n",
       "37280   -124404.666159\n",
       "37281   -436109.920182\n",
       "37282    -98135.195169\n",
       "37283     53748.701769\n",
       "Length: 37284, dtype: float64"
      ]
     },
     "execution_count": 625,
     "metadata": {},
     "output_type": "execute_result"
    }
   ],
   "source": [
    "Monthly_profit=Final_join.loc[:,'Amount_y']-Final_join.loc[:,'Amount_x']\n",
    "Monthly_profit"
   ]
  },
  {
   "cell_type": "code",
   "execution_count": 629,
   "id": "5c99b01b",
   "metadata": {},
   "outputs": [],
   "source": [
    "Final_join.loc[:,'Monthly_profit']=Monthly_profit"
   ]
  },
  {
   "cell_type": "code",
   "execution_count": 636,
   "id": "0c7295b8",
   "metadata": {},
   "outputs": [],
   "source": [
    "interest=Monthly_profit.loc[Monthly_profit>0]*2.9/100\n",
    "Final_join.loc[:,'interest']=interest"
   ]
  },
  {
   "cell_type": "code",
   "execution_count": 647,
   "id": "85f9a94c",
   "metadata": {},
   "outputs": [
    {
     "data": {
      "text/html": [
       "<div>\n",
       "<style scoped>\n",
       "    .dataframe tbody tr th:only-of-type {\n",
       "        vertical-align: middle;\n",
       "    }\n",
       "\n",
       "    .dataframe tbody tr th {\n",
       "        vertical-align: top;\n",
       "    }\n",
       "\n",
       "    .dataframe thead th {\n",
       "        text-align: right;\n",
       "    }\n",
       "</style>\n",
       "<table border=\"1\" class=\"dataframe\">\n",
       "  <thead>\n",
       "    <tr style=\"text-align: right;\">\n",
       "      <th></th>\n",
       "      <th>Customer</th>\n",
       "      <th>Amount_x</th>\n",
       "      <th>Amount_y</th>\n",
       "      <th>Monthly_profit</th>\n",
       "      <th>interest</th>\n",
       "    </tr>\n",
       "  </thead>\n",
       "  <tbody>\n",
       "    <tr>\n",
       "      <th>2</th>\n",
       "      <td>A1</td>\n",
       "      <td>344054.980813</td>\n",
       "      <td>485981.516736</td>\n",
       "      <td>141926.535923</td>\n",
       "      <td>4115.869542</td>\n",
       "    </tr>\n",
       "    <tr>\n",
       "      <th>3</th>\n",
       "      <td>A1</td>\n",
       "      <td>344054.980813</td>\n",
       "      <td>452865.826385</td>\n",
       "      <td>108810.845572</td>\n",
       "      <td>3155.514522</td>\n",
       "    </tr>\n",
       "    <tr>\n",
       "      <th>10</th>\n",
       "      <td>A1</td>\n",
       "      <td>344054.980813</td>\n",
       "      <td>407382.385118</td>\n",
       "      <td>63327.404305</td>\n",
       "      <td>1836.494725</td>\n",
       "    </tr>\n",
       "    <tr>\n",
       "      <th>11</th>\n",
       "      <td>A1</td>\n",
       "      <td>344054.980813</td>\n",
       "      <td>435747.739802</td>\n",
       "      <td>91692.758989</td>\n",
       "      <td>2659.090011</td>\n",
       "    </tr>\n",
       "    <tr>\n",
       "      <th>15</th>\n",
       "      <td>A1</td>\n",
       "      <td>344054.980813</td>\n",
       "      <td>375968.963949</td>\n",
       "      <td>31913.983136</td>\n",
       "      <td>925.505511</td>\n",
       "    </tr>\n",
       "    <tr>\n",
       "      <th>...</th>\n",
       "      <td>...</td>\n",
       "      <td>...</td>\n",
       "      <td>...</td>\n",
       "      <td>...</td>\n",
       "      <td>...</td>\n",
       "    </tr>\n",
       "    <tr>\n",
       "      <th>37276</th>\n",
       "      <td>A93</td>\n",
       "      <td>164093.690713</td>\n",
       "      <td>491626.294677</td>\n",
       "      <td>327532.603964</td>\n",
       "      <td>9498.445515</td>\n",
       "    </tr>\n",
       "    <tr>\n",
       "      <th>37277</th>\n",
       "      <td>A94</td>\n",
       "      <td>38195.254289</td>\n",
       "      <td>388682.581736</td>\n",
       "      <td>350487.327448</td>\n",
       "      <td>10164.132496</td>\n",
       "    </tr>\n",
       "    <tr>\n",
       "      <th>37278</th>\n",
       "      <td>A95</td>\n",
       "      <td>281975.205712</td>\n",
       "      <td>381370.442582</td>\n",
       "      <td>99395.236870</td>\n",
       "      <td>2882.461869</td>\n",
       "    </tr>\n",
       "    <tr>\n",
       "      <th>37279</th>\n",
       "      <td>A96</td>\n",
       "      <td>94369.178802</td>\n",
       "      <td>100000.000000</td>\n",
       "      <td>5630.821198</td>\n",
       "      <td>163.293815</td>\n",
       "    </tr>\n",
       "    <tr>\n",
       "      <th>37283</th>\n",
       "      <td>A100</td>\n",
       "      <td>46251.298231</td>\n",
       "      <td>100000.000000</td>\n",
       "      <td>53748.701769</td>\n",
       "      <td>1558.712351</td>\n",
       "    </tr>\n",
       "  </tbody>\n",
       "</table>\n",
       "<p>12682 rows × 5 columns</p>\n",
       "</div>"
      ],
      "text/plain": [
       "      Customer       Amount_x       Amount_y  Monthly_profit      interest\n",
       "2           A1  344054.980813  485981.516736   141926.535923   4115.869542\n",
       "3           A1  344054.980813  452865.826385   108810.845572   3155.514522\n",
       "10          A1  344054.980813  407382.385118    63327.404305   1836.494725\n",
       "11          A1  344054.980813  435747.739802    91692.758989   2659.090011\n",
       "15          A1  344054.980813  375968.963949    31913.983136    925.505511\n",
       "...        ...            ...            ...             ...           ...\n",
       "37276      A93  164093.690713  491626.294677   327532.603964   9498.445515\n",
       "37277      A94   38195.254289  388682.581736   350487.327448  10164.132496\n",
       "37278      A95  281975.205712  381370.442582    99395.236870   2882.461869\n",
       "37279      A96   94369.178802  100000.000000     5630.821198    163.293815\n",
       "37283     A100   46251.298231  100000.000000    53748.701769   1558.712351\n",
       "\n",
       "[12682 rows x 5 columns]"
      ]
     },
     "execution_count": 647,
     "metadata": {},
     "output_type": "execute_result"
    }
   ],
   "source": [
    "Final_join.loc[Final_join.Monthly_profit>0,['Customer','Amount_x','Amount_y','Monthly_profit','interest']]"
   ]
  },
  {
   "cell_type": "markdown",
   "id": "d0274314",
   "metadata": {},
   "source": [
    "# f. What are the top 5 product types?"
   ]
  },
  {
   "cell_type": "code",
   "execution_count": 289,
   "id": "c9eae4c3",
   "metadata": {},
   "outputs": [
    {
     "data": {
      "text/html": [
       "<div>\n",
       "<style scoped>\n",
       "    .dataframe tbody tr th:only-of-type {\n",
       "        vertical-align: middle;\n",
       "    }\n",
       "\n",
       "    .dataframe tbody tr th {\n",
       "        vertical-align: top;\n",
       "    }\n",
       "\n",
       "    .dataframe thead th {\n",
       "        text-align: right;\n",
       "    }\n",
       "</style>\n",
       "<table border=\"1\" class=\"dataframe\">\n",
       "  <thead>\n",
       "    <tr style=\"text-align: right;\">\n",
       "      <th></th>\n",
       "      <th>No</th>\n",
       "      <th>Customer</th>\n",
       "      <th>Age</th>\n",
       "      <th>City</th>\n",
       "      <th>Product</th>\n",
       "      <th>Limit</th>\n",
       "      <th>Company</th>\n",
       "      <th>Segment</th>\n",
       "      <th>Sl No:</th>\n",
       "      <th>Month_x</th>\n",
       "      <th>Type</th>\n",
       "      <th>Amount_x</th>\n",
       "      <th>SL No:</th>\n",
       "      <th>Month_y</th>\n",
       "      <th>Amount_y</th>\n",
       "    </tr>\n",
       "  </thead>\n",
       "  <tbody>\n",
       "    <tr>\n",
       "      <th>0</th>\n",
       "      <td>1</td>\n",
       "      <td>A1</td>\n",
       "      <td>34.012349</td>\n",
       "      <td>BANGALORE</td>\n",
       "      <td>Gold</td>\n",
       "      <td>500000</td>\n",
       "      <td>C1</td>\n",
       "      <td>Self Employed</td>\n",
       "      <td>1</td>\n",
       "      <td>2004-01-12</td>\n",
       "      <td>JEWELLERY</td>\n",
       "      <td>344054.980813</td>\n",
       "      <td>1</td>\n",
       "      <td>2004-01-12</td>\n",
       "      <td>338932.141919</td>\n",
       "    </tr>\n",
       "    <tr>\n",
       "      <th>1</th>\n",
       "      <td>1</td>\n",
       "      <td>A1</td>\n",
       "      <td>34.012349</td>\n",
       "      <td>BANGALORE</td>\n",
       "      <td>Gold</td>\n",
       "      <td>500000</td>\n",
       "      <td>C1</td>\n",
       "      <td>Self Employed</td>\n",
       "      <td>1</td>\n",
       "      <td>2004-01-12</td>\n",
       "      <td>JEWELLERY</td>\n",
       "      <td>344054.980813</td>\n",
       "      <td>2</td>\n",
       "      <td>2004-01-03</td>\n",
       "      <td>131778.688758</td>\n",
       "    </tr>\n",
       "    <tr>\n",
       "      <th>2</th>\n",
       "      <td>1</td>\n",
       "      <td>A1</td>\n",
       "      <td>34.012349</td>\n",
       "      <td>BANGALORE</td>\n",
       "      <td>Gold</td>\n",
       "      <td>500000</td>\n",
       "      <td>C1</td>\n",
       "      <td>Self Employed</td>\n",
       "      <td>1</td>\n",
       "      <td>2004-01-12</td>\n",
       "      <td>JEWELLERY</td>\n",
       "      <td>344054.980813</td>\n",
       "      <td>3</td>\n",
       "      <td>2004-01-15</td>\n",
       "      <td>485981.516736</td>\n",
       "    </tr>\n",
       "    <tr>\n",
       "      <th>3</th>\n",
       "      <td>1</td>\n",
       "      <td>A1</td>\n",
       "      <td>34.012349</td>\n",
       "      <td>BANGALORE</td>\n",
       "      <td>Gold</td>\n",
       "      <td>500000</td>\n",
       "      <td>C1</td>\n",
       "      <td>Self Employed</td>\n",
       "      <td>1</td>\n",
       "      <td>2004-01-12</td>\n",
       "      <td>JEWELLERY</td>\n",
       "      <td>344054.980813</td>\n",
       "      <td>4</td>\n",
       "      <td>2004-01-25</td>\n",
       "      <td>452865.826385</td>\n",
       "    </tr>\n",
       "    <tr>\n",
       "      <th>4</th>\n",
       "      <td>1</td>\n",
       "      <td>A1</td>\n",
       "      <td>34.012349</td>\n",
       "      <td>BANGALORE</td>\n",
       "      <td>Gold</td>\n",
       "      <td>500000</td>\n",
       "      <td>C1</td>\n",
       "      <td>Self Employed</td>\n",
       "      <td>1</td>\n",
       "      <td>2004-01-12</td>\n",
       "      <td>JEWELLERY</td>\n",
       "      <td>344054.980813</td>\n",
       "      <td>5</td>\n",
       "      <td>2005-01-17</td>\n",
       "      <td>154684.838196</td>\n",
       "    </tr>\n",
       "    <tr>\n",
       "      <th>...</th>\n",
       "      <td>...</td>\n",
       "      <td>...</td>\n",
       "      <td>...</td>\n",
       "      <td>...</td>\n",
       "      <td>...</td>\n",
       "      <td>...</td>\n",
       "      <td>...</td>\n",
       "      <td>...</td>\n",
       "      <td>...</td>\n",
       "      <td>...</td>\n",
       "      <td>...</td>\n",
       "      <td>...</td>\n",
       "      <td>...</td>\n",
       "      <td>...</td>\n",
       "      <td>...</td>\n",
       "    </tr>\n",
       "    <tr>\n",
       "      <th>37279</th>\n",
       "      <td>96</td>\n",
       "      <td>A96</td>\n",
       "      <td>71.083162</td>\n",
       "      <td>CHENNAI</td>\n",
       "      <td>Silver</td>\n",
       "      <td>100000</td>\n",
       "      <td>C19</td>\n",
       "      <td>Salaried_Pvt</td>\n",
       "      <td>98</td>\n",
       "      <td>2004-01-25</td>\n",
       "      <td>BIKE</td>\n",
       "      <td>94369.178802</td>\n",
       "      <td>98</td>\n",
       "      <td>2004-01-25</td>\n",
       "      <td>100000.000000</td>\n",
       "    </tr>\n",
       "    <tr>\n",
       "      <th>37280</th>\n",
       "      <td>97</td>\n",
       "      <td>A97</td>\n",
       "      <td>69.880658</td>\n",
       "      <td>TRIVANDRUM</td>\n",
       "      <td>Platimum</td>\n",
       "      <td>10000</td>\n",
       "      <td>C20</td>\n",
       "      <td>Govt</td>\n",
       "      <td>99</td>\n",
       "      <td>2004-01-12</td>\n",
       "      <td>AUTO</td>\n",
       "      <td>134404.666159</td>\n",
       "      <td>99</td>\n",
       "      <td>2004-01-12</td>\n",
       "      <td>10000.000000</td>\n",
       "    </tr>\n",
       "    <tr>\n",
       "      <th>37281</th>\n",
       "      <td>98</td>\n",
       "      <td>A98</td>\n",
       "      <td>20.951811</td>\n",
       "      <td>CALCUTTA</td>\n",
       "      <td>Platimum</td>\n",
       "      <td>10001</td>\n",
       "      <td>C21</td>\n",
       "      <td>Normal Salary</td>\n",
       "      <td>100</td>\n",
       "      <td>2004-01-03</td>\n",
       "      <td>SHOPPING</td>\n",
       "      <td>446110.920182</td>\n",
       "      <td>100</td>\n",
       "      <td>2004-01-03</td>\n",
       "      <td>10001.000000</td>\n",
       "    </tr>\n",
       "    <tr>\n",
       "      <th>37282</th>\n",
       "      <td>99</td>\n",
       "      <td>A99</td>\n",
       "      <td>52.456908</td>\n",
       "      <td>CALCUTTA</td>\n",
       "      <td>Platimum</td>\n",
       "      <td>10002</td>\n",
       "      <td>C22</td>\n",
       "      <td>Self Employed</td>\n",
       "      <td>101</td>\n",
       "      <td>2004-01-15</td>\n",
       "      <td>AIR TICKET</td>\n",
       "      <td>108137.195169</td>\n",
       "      <td>101</td>\n",
       "      <td>2004-01-15</td>\n",
       "      <td>10002.000000</td>\n",
       "    </tr>\n",
       "    <tr>\n",
       "      <th>37283</th>\n",
       "      <td>100</td>\n",
       "      <td>A100</td>\n",
       "      <td>9.628219</td>\n",
       "      <td>COCHIN</td>\n",
       "      <td>Silver</td>\n",
       "      <td>100000</td>\n",
       "      <td>C5</td>\n",
       "      <td>Salaried_MNC</td>\n",
       "      <td>102</td>\n",
       "      <td>2004-01-25</td>\n",
       "      <td>BUS TICKET</td>\n",
       "      <td>46251.298231</td>\n",
       "      <td>102</td>\n",
       "      <td>2004-01-25</td>\n",
       "      <td>100000.000000</td>\n",
       "    </tr>\n",
       "  </tbody>\n",
       "</table>\n",
       "<p>37284 rows × 15 columns</p>\n",
       "</div>"
      ],
      "text/plain": [
       "        No Customer        Age        City   Product   Limit Company  \\\n",
       "0        1       A1  34.012349   BANGALORE      Gold  500000      C1   \n",
       "1        1       A1  34.012349   BANGALORE      Gold  500000      C1   \n",
       "2        1       A1  34.012349   BANGALORE      Gold  500000      C1   \n",
       "3        1       A1  34.012349   BANGALORE      Gold  500000      C1   \n",
       "4        1       A1  34.012349   BANGALORE      Gold  500000      C1   \n",
       "...    ...      ...        ...         ...       ...     ...     ...   \n",
       "37279   96      A96  71.083162     CHENNAI    Silver  100000     C19   \n",
       "37280   97      A97  69.880658  TRIVANDRUM  Platimum   10000     C20   \n",
       "37281   98      A98  20.951811    CALCUTTA  Platimum   10001     C21   \n",
       "37282   99      A99  52.456908    CALCUTTA  Platimum   10002     C22   \n",
       "37283  100     A100   9.628219      COCHIN    Silver  100000      C5   \n",
       "\n",
       "             Segment  Sl No:    Month_x        Type       Amount_x  SL No:  \\\n",
       "0      Self Employed       1 2004-01-12   JEWELLERY  344054.980813       1   \n",
       "1      Self Employed       1 2004-01-12   JEWELLERY  344054.980813       2   \n",
       "2      Self Employed       1 2004-01-12   JEWELLERY  344054.980813       3   \n",
       "3      Self Employed       1 2004-01-12   JEWELLERY  344054.980813       4   \n",
       "4      Self Employed       1 2004-01-12   JEWELLERY  344054.980813       5   \n",
       "...              ...     ...        ...         ...            ...     ...   \n",
       "37279   Salaried_Pvt      98 2004-01-25        BIKE   94369.178802      98   \n",
       "37280           Govt      99 2004-01-12        AUTO  134404.666159      99   \n",
       "37281  Normal Salary     100 2004-01-03    SHOPPING  446110.920182     100   \n",
       "37282  Self Employed     101 2004-01-15  AIR TICKET  108137.195169     101   \n",
       "37283   Salaried_MNC     102 2004-01-25  BUS TICKET   46251.298231     102   \n",
       "\n",
       "         Month_y       Amount_y  \n",
       "0     2004-01-12  338932.141919  \n",
       "1     2004-01-03  131778.688758  \n",
       "2     2004-01-15  485981.516736  \n",
       "3     2004-01-25  452865.826385  \n",
       "4     2005-01-17  154684.838196  \n",
       "...          ...            ...  \n",
       "37279 2004-01-25  100000.000000  \n",
       "37280 2004-01-12   10000.000000  \n",
       "37281 2004-01-03   10001.000000  \n",
       "37282 2004-01-15   10002.000000  \n",
       "37283 2004-01-25  100000.000000  \n",
       "\n",
       "[37284 rows x 15 columns]"
      ]
     },
     "execution_count": 289,
     "metadata": {},
     "output_type": "execute_result"
    }
   ],
   "source": [
    "Final_join"
   ]
  },
  {
   "cell_type": "code",
   "execution_count": 297,
   "id": "94668073",
   "metadata": {},
   "outputs": [],
   "source": [
    "Top5=Final_join.groupby(['Type'])['Amount_x'].max().sort_values(axis=0,ascending=False).head(5)"
   ]
  },
  {
   "cell_type": "code",
   "execution_count": 298,
   "id": "34c1997f",
   "metadata": {},
   "outputs": [
    {
     "data": {
      "text/plain": [
       "Type\n",
       "PETRO           499980.650083\n",
       "TRAIN TICKET    499899.232368\n",
       "AIR TICKET      499889.614388\n",
       "AUTO            499125.966923\n",
       "CLOTHES         498998.715662\n",
       "Name: Amount_x, dtype: float64"
      ]
     },
     "execution_count": 298,
     "metadata": {},
     "output_type": "execute_result"
    }
   ],
   "source": [
    "Top5"
   ]
  },
  {
   "cell_type": "markdown",
   "id": "7f3e5a54",
   "metadata": {},
   "source": [
    "# g. Which city is having maximum spend?"
   ]
  },
  {
   "cell_type": "code",
   "execution_count": 304,
   "id": "a599e311",
   "metadata": {},
   "outputs": [
    {
     "data": {
      "text/plain": [
       "City           TRIVANDRUM\n",
       "Amount_x    499980.650083\n",
       "dtype: object"
      ]
     },
     "execution_count": 304,
     "metadata": {},
     "output_type": "execute_result"
    }
   ],
   "source": [
    "Final_join.loc[:,['City','Amount_x']].max()"
   ]
  },
  {
   "cell_type": "markdown",
   "id": "7ef90204",
   "metadata": {},
   "source": [
    "# h. Which age group is spending more money?"
   ]
  },
  {
   "cell_type": "code",
   "execution_count": 313,
   "id": "b79768b9",
   "metadata": {},
   "outputs": [],
   "source": [
    "Age_group=pd.cut(Final_join.Age,bins=[5,25,45,65,85,100])"
   ]
  },
  {
   "cell_type": "code",
   "execution_count": 314,
   "id": "602caea9",
   "metadata": {},
   "outputs": [],
   "source": [
    "Final_join.loc[:,'Age_group']=Age_group"
   ]
  },
  {
   "cell_type": "code",
   "execution_count": 316,
   "id": "4e4bae1a",
   "metadata": {},
   "outputs": [
    {
     "data": {
      "text/plain": [
       "Age_group\n",
       "(5, 25]      499980.650083\n",
       "(25, 45]     499125.966923\n",
       "(45, 65]     499899.232368\n",
       "(65, 85]     499917.418986\n",
       "(85, 100]              NaN\n",
       "Name: Amount_x, dtype: float64"
      ]
     },
     "execution_count": 316,
     "metadata": {},
     "output_type": "execute_result"
    }
   ],
   "source": [
    "Final_join.groupby('Age_group')['Amount_x'].max()"
   ]
  },
  {
   "cell_type": "markdown",
   "id": "d42c9f55",
   "metadata": {},
   "source": [
    "# i. Who are the top 10 customers in terms of repayment?"
   ]
  },
  {
   "cell_type": "code",
   "execution_count": 320,
   "id": "e70da1b1",
   "metadata": {},
   "outputs": [
    {
     "data": {
      "text/html": [
       "<div>\n",
       "<style scoped>\n",
       "    .dataframe tbody tr th:only-of-type {\n",
       "        vertical-align: middle;\n",
       "    }\n",
       "\n",
       "    .dataframe tbody tr th {\n",
       "        vertical-align: top;\n",
       "    }\n",
       "\n",
       "    .dataframe thead th {\n",
       "        text-align: right;\n",
       "    }\n",
       "</style>\n",
       "<table border=\"1\" class=\"dataframe\">\n",
       "  <thead>\n",
       "    <tr style=\"text-align: right;\">\n",
       "      <th></th>\n",
       "      <th>SL No:</th>\n",
       "      <th>Customer</th>\n",
       "      <th>Month</th>\n",
       "      <th>Amount</th>\n",
       "    </tr>\n",
       "  </thead>\n",
       "  <tbody>\n",
       "    <tr>\n",
       "      <th>976</th>\n",
       "      <td>977</td>\n",
       "      <td>A38</td>\n",
       "      <td>2005-11-20</td>\n",
       "      <td>499405.488789</td>\n",
       "    </tr>\n",
       "    <tr>\n",
       "      <th>1269</th>\n",
       "      <td>1270</td>\n",
       "      <td>A56</td>\n",
       "      <td>2005-02-01</td>\n",
       "      <td>499284.509647</td>\n",
       "    </tr>\n",
       "    <tr>\n",
       "      <th>244</th>\n",
       "      <td>245</td>\n",
       "      <td>A3</td>\n",
       "      <td>2005-02-03</td>\n",
       "      <td>498554.425795</td>\n",
       "    </tr>\n",
       "    <tr>\n",
       "      <th>632</th>\n",
       "      <td>633</td>\n",
       "      <td>A42</td>\n",
       "      <td>2005-05-27</td>\n",
       "      <td>498112.117066</td>\n",
       "    </tr>\n",
       "    <tr>\n",
       "      <th>652</th>\n",
       "      <td>653</td>\n",
       "      <td>A33</td>\n",
       "      <td>2006-07-03</td>\n",
       "      <td>496965.294042</td>\n",
       "    </tr>\n",
       "    <tr>\n",
       "      <th>593</th>\n",
       "      <td>594</td>\n",
       "      <td>A13</td>\n",
       "      <td>2005-02-16</td>\n",
       "      <td>496905.458212</td>\n",
       "    </tr>\n",
       "    <tr>\n",
       "      <th>1260</th>\n",
       "      <td>1261</td>\n",
       "      <td>A47</td>\n",
       "      <td>2006-10-03</td>\n",
       "      <td>495872.025326</td>\n",
       "    </tr>\n",
       "    <tr>\n",
       "      <th>1053</th>\n",
       "      <td>1054</td>\n",
       "      <td>A43</td>\n",
       "      <td>2004-01-03</td>\n",
       "      <td>495074.577306</td>\n",
       "    </tr>\n",
       "    <tr>\n",
       "      <th>1438</th>\n",
       "      <td>1439</td>\n",
       "      <td>A51</td>\n",
       "      <td>2006-03-31</td>\n",
       "      <td>494578.452211</td>\n",
       "    </tr>\n",
       "    <tr>\n",
       "      <th>210</th>\n",
       "      <td>211</td>\n",
       "      <td>A11</td>\n",
       "      <td>2006-03-28</td>\n",
       "      <td>493830.393161</td>\n",
       "    </tr>\n",
       "  </tbody>\n",
       "</table>\n",
       "</div>"
      ],
      "text/plain": [
       "      SL No: Customer      Month         Amount\n",
       "976      977      A38 2005-11-20  499405.488789\n",
       "1269    1270      A56 2005-02-01  499284.509647\n",
       "244      245       A3 2005-02-03  498554.425795\n",
       "632      633      A42 2005-05-27  498112.117066\n",
       "652      653      A33 2006-07-03  496965.294042\n",
       "593      594      A13 2005-02-16  496905.458212\n",
       "1260    1261      A47 2006-10-03  495872.025326\n",
       "1053    1054      A43 2004-01-03  495074.577306\n",
       "1438    1439      A51 2006-03-31  494578.452211\n",
       "210      211      A11 2006-03-28  493830.393161"
      ]
     },
     "execution_count": 320,
     "metadata": {},
     "output_type": "execute_result"
    }
   ],
   "source": [
    "Repayment.sort_values(by='Amount',ascending=False).head(10)"
   ]
  },
  {
   "cell_type": "markdown",
   "id": "5f756e9f",
   "metadata": {},
   "source": [
    "# 3. Calculate the city wise spend on each product on yearly basis. Also include a graphical representation for the same."
   ]
  },
  {
   "cell_type": "code",
   "execution_count": 361,
   "id": "f0ba61bd",
   "metadata": {},
   "outputs": [
    {
     "data": {
      "text/plain": [
       "0        2004\n",
       "1        2004\n",
       "2        2004\n",
       "3        2004\n",
       "4        2004\n",
       "         ... \n",
       "37279    2004\n",
       "37280    2004\n",
       "37281    2004\n",
       "37282    2004\n",
       "37283    2004\n",
       "Name: Month_x, Length: 37284, dtype: object"
      ]
     },
     "execution_count": 361,
     "metadata": {},
     "output_type": "execute_result"
    }
   ],
   "source": [
    "year=Final_join.Month_x.dt.strftime('%Y')\n",
    "year"
   ]
  },
  {
   "cell_type": "code",
   "execution_count": 362,
   "id": "a1a6d39a",
   "metadata": {},
   "outputs": [],
   "source": [
    "Final_join.loc[:,'year']=year"
   ]
  },
  {
   "cell_type": "code",
   "execution_count": 480,
   "id": "1c791e9d",
   "metadata": {},
   "outputs": [
    {
     "data": {
      "text/plain": [
       "<Figure size 1080x720 with 0 Axes>"
      ]
     },
     "metadata": {},
     "output_type": "display_data"
    },
    {
     "data": {
      "image/png": "[encoded data removed]",
      "text/plain": [
       "<Figure size 432x288 with 1 Axes>"
      ]
     },
     "metadata": {
      "needs_background": "light"
     },
     "output_type": "display_data"
    }
   ],
   "source": [
    "plt.figure(figsize=(15,10))\n",
    "Final_join.pivot_table(index=['City','Product'],columns=['year'],values='Amount_x',aggfunc=sum).plot(kind='bar')\n",
    "plt.ylabel('Amount')\n",
    "plt.show()"
   ]
  },
  {
   "cell_type": "markdown",
   "id": "5dbee1fa",
   "metadata": {},
   "source": [
    "# 4. Create graphs for\n",
    "## a. Monthly comparison of total spends, city wise"
   ]
  },
  {
   "cell_type": "code",
   "execution_count": 479,
   "id": "8f127988",
   "metadata": {},
   "outputs": [
    {
     "data": {
      "text/plain": [
       "<AxesSubplot:xlabel='City'>"
      ]
     },
     "execution_count": 479,
     "metadata": {},
     "output_type": "execute_result"
    },
    {
     "data": {
      "image/png": "[encoded data removed]",
      "text/plain": [
       "<Figure size 1080x720 with 1 Axes>"
      ]
     },
     "metadata": {
      "needs_background": "light"
     },
     "output_type": "display_data"
    }
   ],
   "source": [
    "plt.figure(figsize=(15,10))\n",
    "\n",
    "Final_join.groupby(['City'])['Amount_x'].count().plot(kind='bar')\n"
   ]
  },
  {
   "cell_type": "markdown",
   "id": "13e8885a",
   "metadata": {},
   "source": [
    "# b. Comparison of yearly spend on air tickets"
   ]
  },
  {
   "cell_type": "code",
   "execution_count": 478,
   "id": "d434432f",
   "metadata": {},
   "outputs": [
    {
     "data": {
      "text/plain": [
       "<function matplotlib.pyplot.plot(*args, scalex=True, scaley=True, data=None, **kwargs)>"
      ]
     },
     "execution_count": 478,
     "metadata": {},
     "output_type": "execute_result"
    },
    {
     "data": {
      "image/png": "[encoded data removed]",
      "text/plain": [
       "<Figure size 1080x720 with 1 Axes>"
      ]
     },
     "metadata": {
      "needs_background": "light"
     },
     "output_type": "display_data"
    }
   ],
   "source": [
    "plt.figure(figsize=(15,10))\n",
    "Final_join.loc[Final_join.Type==\"AIR TICKET\"].groupby(['year','Type'])['Amount_x'].count().plot(kind='bar')\n",
    "plt.ylabel('Spend')\n",
    "plt.plot"
   ]
  },
  {
   "cell_type": "markdown",
   "id": "4192f71f",
   "metadata": {},
   "source": [
    "# c. Comparison of monthly spend for each product (look for any seasonality that exists in terms of spend)"
   ]
  },
  {
   "cell_type": "code",
   "execution_count": 454,
   "id": "c36b2aa2",
   "metadata": {},
   "outputs": [],
   "source": [
    "spendmonth=Final_join.Month_x.dt.month"
   ]
  },
  {
   "cell_type": "code",
   "execution_count": 455,
   "id": "a78a456d",
   "metadata": {},
   "outputs": [],
   "source": [
    "Final_join.loc[:,'spendmonth']=spendmonth"
   ]
  },
  {
   "cell_type": "code",
   "execution_count": 461,
   "id": "37f3624e",
   "metadata": {},
   "outputs": [
    {
     "data": {
      "text/plain": [
       "<AxesSubplot:xlabel='spendmonth,Product'>"
      ]
     },
     "execution_count": 461,
     "metadata": {},
     "output_type": "execute_result"
    },
    {
     "data": {
      "image/png": "[encoded data removed]",
      "text/plain": [
       "<Figure size 1080x720 with 1 Axes>"
      ]
     },
     "metadata": {
      "needs_background": "light"
     },
     "output_type": "display_data"
    }
   ],
   "source": [
    "plt.figure(figsize=(15,10))\n",
    "Final_join.groupby(['spendmonth','Product'])['Amount_x'].count().plot(kind='line')"
   ]
  },
  {
   "cell_type": "markdown",
   "id": "365185d7",
   "metadata": {},
   "source": [
    "# 5. Write user defined PYTHON function to perform the following analysis:\n",
    "## You need to find top 10 customers for each city in terms of their repayment amount by different products and by different time periods i.e. year or month. The user should be able to specify the product (Gold/Silver/Platinum) and time period (yearly or monthly) and the function should automatically take these inputs while identifying the top 10 customers."
   ]
  },
  {
   "cell_type": "code",
   "execution_count": 617,
   "id": "c9ef3fdd",
   "metadata": {},
   "outputs": [],
   "source": [
    "def top10(x,y):\n",
    "    x=str(input('Enter the Product '))\n",
    "    y=str(input('Enter the year '))\n",
    "    return Final_join.loc[(Final_join.Product==x)&(Final_join.year==y),['Customer','Product','year','Amount_y']].groupby('Customer').max().sort_values(by='Amount_y',axis=0,ascending=False).head(10)"
   ]
  },
  {
   "cell_type": "code",
   "execution_count": 618,
   "id": "07f71823",
   "metadata": {},
   "outputs": [
    {
     "name": "stdout",
     "output_type": "stream",
     "text": [
      "Enter the ProductGold\n",
      "Enter the year2006\n"
     ]
    },
    {
     "data": {
      "text/html": [
       "<div>\n",
       "<style scoped>\n",
       "    .dataframe tbody tr th:only-of-type {\n",
       "        vertical-align: middle;\n",
       "    }\n",
       "\n",
       "    .dataframe tbody tr th {\n",
       "        vertical-align: top;\n",
       "    }\n",
       "\n",
       "    .dataframe thead th {\n",
       "        text-align: right;\n",
       "    }\n",
       "</style>\n",
       "<table border=\"1\" class=\"dataframe\">\n",
       "  <thead>\n",
       "    <tr style=\"text-align: right;\">\n",
       "      <th></th>\n",
       "      <th>Product</th>\n",
       "      <th>year</th>\n",
       "      <th>Amount_y</th>\n",
       "    </tr>\n",
       "    <tr>\n",
       "      <th>Customer</th>\n",
       "      <th></th>\n",
       "      <th></th>\n",
       "      <th></th>\n",
       "    </tr>\n",
       "  </thead>\n",
       "  <tbody>\n",
       "    <tr>\n",
       "      <th>A42</th>\n",
       "      <td>Gold</td>\n",
       "      <td>2006</td>\n",
       "      <td>498112.117066</td>\n",
       "    </tr>\n",
       "    <tr>\n",
       "      <th>A13</th>\n",
       "      <td>Gold</td>\n",
       "      <td>2006</td>\n",
       "      <td>496905.458212</td>\n",
       "    </tr>\n",
       "    <tr>\n",
       "      <th>A43</th>\n",
       "      <td>Gold</td>\n",
       "      <td>2006</td>\n",
       "      <td>495074.577306</td>\n",
       "    </tr>\n",
       "    <tr>\n",
       "      <th>A11</th>\n",
       "      <td>Gold</td>\n",
       "      <td>2006</td>\n",
       "      <td>493830.393161</td>\n",
       "    </tr>\n",
       "    <tr>\n",
       "      <th>A28</th>\n",
       "      <td>Gold</td>\n",
       "      <td>2006</td>\n",
       "      <td>492990.122214</td>\n",
       "    </tr>\n",
       "    <tr>\n",
       "      <th>A14</th>\n",
       "      <td>Gold</td>\n",
       "      <td>2006</td>\n",
       "      <td>492500.440567</td>\n",
       "    </tr>\n",
       "    <tr>\n",
       "      <th>A10</th>\n",
       "      <td>Gold</td>\n",
       "      <td>2006</td>\n",
       "      <td>491107.004440</td>\n",
       "    </tr>\n",
       "    <tr>\n",
       "      <th>A12</th>\n",
       "      <td>Gold</td>\n",
       "      <td>2006</td>\n",
       "      <td>491017.662854</td>\n",
       "    </tr>\n",
       "    <tr>\n",
       "      <th>A29</th>\n",
       "      <td>Gold</td>\n",
       "      <td>2006</td>\n",
       "      <td>489652.083342</td>\n",
       "    </tr>\n",
       "    <tr>\n",
       "      <th>A15</th>\n",
       "      <td>Gold</td>\n",
       "      <td>2006</td>\n",
       "      <td>488333.988501</td>\n",
       "    </tr>\n",
       "  </tbody>\n",
       "</table>\n",
       "</div>"
      ],
      "text/plain": [
       "         Product  year       Amount_y\n",
       "Customer                             \n",
       "A42         Gold  2006  498112.117066\n",
       "A13         Gold  2006  496905.458212\n",
       "A43         Gold  2006  495074.577306\n",
       "A11         Gold  2006  493830.393161\n",
       "A28         Gold  2006  492990.122214\n",
       "A14         Gold  2006  492500.440567\n",
       "A10         Gold  2006  491107.004440\n",
       "A12         Gold  2006  491017.662854\n",
       "A29         Gold  2006  489652.083342\n",
       "A15         Gold  2006  488333.988501"
      ]
     },
     "execution_count": 618,
     "metadata": {},
     "output_type": "execute_result"
    }
   ],
   "source": [
    "top10(x,y)"
   ]
  },
  {
   "cell_type": "code",
   "execution_count": null,
   "id": "2d3da12d",
   "metadata": {},
   "outputs": [],
   "source": []
  }
 ],
 "metadata": {
  "kernelspec": {
   "display_name": "Python 3 (ipykernel)",
   "language": "python",
   "name": "python3"
  },
  "language_info": {
   "codemirror_mode": {
    "name": "ipython",
    "version": 3
   },
   "file_extension": ".py",
   "mimetype": "text/x-python",
   "name": "python",
   "nbconvert_exporter": "python",
   "pygments_lexer": "ipython3",
   "version": "3.9.12"
  }
 },
 "nbformat": 4,
 "nbformat_minor": 5
}
