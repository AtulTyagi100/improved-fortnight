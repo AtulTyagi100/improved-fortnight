{
 "cells": [
  {
   "cell_type": "markdown",
   "id": "e7a2d80e",
   "metadata": {},
   "source": [
    "# 1. Import claims_data.csv and cust_data.csv which is provided to you and combine the two datasets appropriately to create a 360-degree view of the data. Use the same for the subsequent questions."
   ]
  },
  {
   "cell_type": "code",
   "execution_count": 1,
   "id": "3f71b90c",
   "metadata": {},
   "outputs": [],
   "source": [
    "import pandas as pd\n",
    "import numpy as np\n",
    "import matplotlib.pyplot as plt\n",
    "import seaborn as sns\n",
    "import statsmodels.formula.api as smf\n",
    "import scipy.stats as stats\n",
    "from sklearn.linear_model import LinearRegression\n",
    "from sklearn.model_selection import train_test_split"
   ]
  },
  {
   "cell_type": "code",
   "execution_count": 2,
   "id": "176e728b",
   "metadata": {},
   "outputs": [
    {
     "data": {
      "text/html": [
       "<div>\n",
       "<style scoped>\n",
       "    .dataframe tbody tr th:only-of-type {\n",
       "        vertical-align: middle;\n",
       "    }\n",
       "\n",
       "    .dataframe tbody tr th {\n",
       "        vertical-align: top;\n",
       "    }\n",
       "\n",
       "    .dataframe thead th {\n",
       "        text-align: right;\n",
       "    }\n",
       "</style>\n",
       "<table border=\"1\" class=\"dataframe\">\n",
       "  <thead>\n",
       "    <tr style=\"text-align: right;\">\n",
       "      <th></th>\n",
       "      <th>claim_id</th>\n",
       "      <th>customer_id</th>\n",
       "      <th>incident_cause</th>\n",
       "      <th>claim_date</th>\n",
       "      <th>claim_area</th>\n",
       "      <th>police_report</th>\n",
       "      <th>claim_type</th>\n",
       "      <th>claim_amount</th>\n",
       "      <th>total_policy_claims</th>\n",
       "      <th>fraudulent</th>\n",
       "    </tr>\n",
       "  </thead>\n",
       "  <tbody>\n",
       "    <tr>\n",
       "      <th>0</th>\n",
       "      <td>54004764</td>\n",
       "      <td>21868593</td>\n",
       "      <td>Driver error</td>\n",
       "      <td>11/27/2017</td>\n",
       "      <td>Auto</td>\n",
       "      <td>No</td>\n",
       "      <td>Material only</td>\n",
       "      <td>$2980</td>\n",
       "      <td>1.0</td>\n",
       "      <td>No</td>\n",
       "    </tr>\n",
       "    <tr>\n",
       "      <th>1</th>\n",
       "      <td>33985796</td>\n",
       "      <td>75740424</td>\n",
       "      <td>Crime</td>\n",
       "      <td>10/03/2018</td>\n",
       "      <td>Home</td>\n",
       "      <td>Unknown</td>\n",
       "      <td>Material only</td>\n",
       "      <td>$2980</td>\n",
       "      <td>3.0</td>\n",
       "      <td>No</td>\n",
       "    </tr>\n",
       "    <tr>\n",
       "      <th>2</th>\n",
       "      <td>53522022</td>\n",
       "      <td>30308357</td>\n",
       "      <td>Other driver error</td>\n",
       "      <td>02/02/2018</td>\n",
       "      <td>Auto</td>\n",
       "      <td>No</td>\n",
       "      <td>Material only</td>\n",
       "      <td>$3369.5</td>\n",
       "      <td>1.0</td>\n",
       "      <td>Yes</td>\n",
       "    </tr>\n",
       "    <tr>\n",
       "      <th>3</th>\n",
       "      <td>13015401</td>\n",
       "      <td>47830476</td>\n",
       "      <td>Natural causes</td>\n",
       "      <td>06/17/2018</td>\n",
       "      <td>Auto</td>\n",
       "      <td>No</td>\n",
       "      <td>Material only</td>\n",
       "      <td>$1680</td>\n",
       "      <td>1.0</td>\n",
       "      <td>No</td>\n",
       "    </tr>\n",
       "    <tr>\n",
       "      <th>4</th>\n",
       "      <td>22890252</td>\n",
       "      <td>19269962</td>\n",
       "      <td>Crime</td>\n",
       "      <td>01/13/2018</td>\n",
       "      <td>Auto</td>\n",
       "      <td>No</td>\n",
       "      <td>Material only</td>\n",
       "      <td>$2680</td>\n",
       "      <td>1.0</td>\n",
       "      <td>No</td>\n",
       "    </tr>\n",
       "    <tr>\n",
       "      <th>...</th>\n",
       "      <td>...</td>\n",
       "      <td>...</td>\n",
       "      <td>...</td>\n",
       "      <td>...</td>\n",
       "      <td>...</td>\n",
       "      <td>...</td>\n",
       "      <td>...</td>\n",
       "      <td>...</td>\n",
       "      <td>...</td>\n",
       "      <td>...</td>\n",
       "    </tr>\n",
       "    <tr>\n",
       "      <th>1095</th>\n",
       "      <td>97727122</td>\n",
       "      <td>35951012</td>\n",
       "      <td>Other driver error</td>\n",
       "      <td>06/11/2017</td>\n",
       "      <td>Auto</td>\n",
       "      <td>No</td>\n",
       "      <td>Material only</td>\n",
       "      <td>$3059</td>\n",
       "      <td>4.0</td>\n",
       "      <td>Yes</td>\n",
       "    </tr>\n",
       "    <tr>\n",
       "      <th>1096</th>\n",
       "      <td>10247193</td>\n",
       "      <td>14818669</td>\n",
       "      <td>Natural causes</td>\n",
       "      <td>03/14/2018</td>\n",
       "      <td>Auto</td>\n",
       "      <td>No</td>\n",
       "      <td>Material only</td>\n",
       "      <td>$1520</td>\n",
       "      <td>2.0</td>\n",
       "      <td>No</td>\n",
       "    </tr>\n",
       "    <tr>\n",
       "      <th>1097</th>\n",
       "      <td>79807493</td>\n",
       "      <td>85322831</td>\n",
       "      <td>Other driver error</td>\n",
       "      <td>02/09/2018</td>\n",
       "      <td>Auto</td>\n",
       "      <td>No</td>\n",
       "      <td>Material and injury</td>\n",
       "      <td>$23575</td>\n",
       "      <td>2.0</td>\n",
       "      <td>Yes</td>\n",
       "    </tr>\n",
       "    <tr>\n",
       "      <th>1098</th>\n",
       "      <td>69299345</td>\n",
       "      <td>73449366</td>\n",
       "      <td>Other causes</td>\n",
       "      <td>03/21/2018</td>\n",
       "      <td>Auto</td>\n",
       "      <td>Unknown</td>\n",
       "      <td>Material and injury</td>\n",
       "      <td>$25120</td>\n",
       "      <td>1.0</td>\n",
       "      <td>No</td>\n",
       "    </tr>\n",
       "    <tr>\n",
       "      <th>1099</th>\n",
       "      <td>58809728</td>\n",
       "      <td>43020876</td>\n",
       "      <td>Other driver error</td>\n",
       "      <td>06/04/2017</td>\n",
       "      <td>Auto</td>\n",
       "      <td>Yes</td>\n",
       "      <td>Material and injury</td>\n",
       "      <td>$36685</td>\n",
       "      <td>3.0</td>\n",
       "      <td>Yes</td>\n",
       "    </tr>\n",
       "  </tbody>\n",
       "</table>\n",
       "<p>1100 rows × 10 columns</p>\n",
       "</div>"
      ],
      "text/plain": [
       "      claim_id  customer_id      incident_cause  claim_date claim_area  \\\n",
       "0     54004764     21868593        Driver error  11/27/2017       Auto   \n",
       "1     33985796     75740424               Crime  10/03/2018       Home   \n",
       "2     53522022     30308357  Other driver error  02/02/2018       Auto   \n",
       "3     13015401     47830476      Natural causes  06/17/2018       Auto   \n",
       "4     22890252     19269962               Crime  01/13/2018       Auto   \n",
       "...        ...          ...                 ...         ...        ...   \n",
       "1095  97727122     35951012  Other driver error  06/11/2017       Auto   \n",
       "1096  10247193     14818669      Natural causes  03/14/2018       Auto   \n",
       "1097  79807493     85322831  Other driver error  02/09/2018       Auto   \n",
       "1098  69299345     73449366        Other causes  03/21/2018       Auto   \n",
       "1099  58809728     43020876  Other driver error  06/04/2017       Auto   \n",
       "\n",
       "     police_report           claim_type claim_amount  total_policy_claims  \\\n",
       "0               No        Material only        $2980                  1.0   \n",
       "1          Unknown        Material only        $2980                  3.0   \n",
       "2               No        Material only      $3369.5                  1.0   \n",
       "3               No        Material only        $1680                  1.0   \n",
       "4               No        Material only        $2680                  1.0   \n",
       "...            ...                  ...          ...                  ...   \n",
       "1095            No        Material only        $3059                  4.0   \n",
       "1096            No        Material only        $1520                  2.0   \n",
       "1097            No  Material and injury       $23575                  2.0   \n",
       "1098       Unknown  Material and injury       $25120                  1.0   \n",
       "1099           Yes  Material and injury       $36685                  3.0   \n",
       "\n",
       "     fraudulent  \n",
       "0            No  \n",
       "1            No  \n",
       "2           Yes  \n",
       "3            No  \n",
       "4            No  \n",
       "...         ...  \n",
       "1095        Yes  \n",
       "1096         No  \n",
       "1097        Yes  \n",
       "1098         No  \n",
       "1099        Yes  \n",
       "\n",
       "[1100 rows x 10 columns]"
      ]
     },
     "execution_count": 2,
     "metadata": {},
     "output_type": "execute_result"
    }
   ],
   "source": [
    "claim_data=pd.read_csv('C:/users/hp/claims.csv')\n",
    "claim_data"
   ]
  },
  {
   "cell_type": "code",
   "execution_count": 3,
   "id": "1917dfcb",
   "metadata": {},
   "outputs": [
    {
     "data": {
      "text/html": [
       "<div>\n",
       "<style scoped>\n",
       "    .dataframe tbody tr th:only-of-type {\n",
       "        vertical-align: middle;\n",
       "    }\n",
       "\n",
       "    .dataframe tbody tr th {\n",
       "        vertical-align: top;\n",
       "    }\n",
       "\n",
       "    .dataframe thead th {\n",
       "        text-align: right;\n",
       "    }\n",
       "</style>\n",
       "<table border=\"1\" class=\"dataframe\">\n",
       "  <thead>\n",
       "    <tr style=\"text-align: right;\">\n",
       "      <th></th>\n",
       "      <th>CUST_ID</th>\n",
       "      <th>gender</th>\n",
       "      <th>DateOfBirth</th>\n",
       "      <th>State</th>\n",
       "      <th>Contact</th>\n",
       "      <th>Segment</th>\n",
       "    </tr>\n",
       "  </thead>\n",
       "  <tbody>\n",
       "    <tr>\n",
       "      <th>0</th>\n",
       "      <td>21868593</td>\n",
       "      <td>Female</td>\n",
       "      <td>12-Jan-79</td>\n",
       "      <td>VT</td>\n",
       "      <td>789-916-8172</td>\n",
       "      <td>Platinum</td>\n",
       "    </tr>\n",
       "    <tr>\n",
       "      <th>1</th>\n",
       "      <td>75740424</td>\n",
       "      <td>Female</td>\n",
       "      <td>13-Jan-70</td>\n",
       "      <td>ME</td>\n",
       "      <td>265-543-1264</td>\n",
       "      <td>Silver</td>\n",
       "    </tr>\n",
       "    <tr>\n",
       "      <th>2</th>\n",
       "      <td>30308357</td>\n",
       "      <td>Female</td>\n",
       "      <td>11-Mar-84</td>\n",
       "      <td>TN</td>\n",
       "      <td>798-631-4758</td>\n",
       "      <td>Silver</td>\n",
       "    </tr>\n",
       "    <tr>\n",
       "      <th>3</th>\n",
       "      <td>47830476</td>\n",
       "      <td>Female</td>\n",
       "      <td>01-May-86</td>\n",
       "      <td>MA</td>\n",
       "      <td>413-187-7945</td>\n",
       "      <td>Silver</td>\n",
       "    </tr>\n",
       "    <tr>\n",
       "      <th>4</th>\n",
       "      <td>19269962</td>\n",
       "      <td>Male</td>\n",
       "      <td>13-May-77</td>\n",
       "      <td>NV</td>\n",
       "      <td>956-871-8691</td>\n",
       "      <td>Gold</td>\n",
       "    </tr>\n",
       "    <tr>\n",
       "      <th>...</th>\n",
       "      <td>...</td>\n",
       "      <td>...</td>\n",
       "      <td>...</td>\n",
       "      <td>...</td>\n",
       "      <td>...</td>\n",
       "      <td>...</td>\n",
       "    </tr>\n",
       "    <tr>\n",
       "      <th>1080</th>\n",
       "      <td>79539873</td>\n",
       "      <td>Female</td>\n",
       "      <td>15-Mar-81</td>\n",
       "      <td>ND</td>\n",
       "      <td>459-425-4319</td>\n",
       "      <td>Platinum</td>\n",
       "    </tr>\n",
       "    <tr>\n",
       "      <th>1081</th>\n",
       "      <td>42364152</td>\n",
       "      <td>Female</td>\n",
       "      <td>07-Jul-96</td>\n",
       "      <td>ID</td>\n",
       "      <td>529-462-1635</td>\n",
       "      <td>Silver</td>\n",
       "    </tr>\n",
       "    <tr>\n",
       "      <th>1082</th>\n",
       "      <td>19888166</td>\n",
       "      <td>Male</td>\n",
       "      <td>11-Apr-90</td>\n",
       "      <td>WI</td>\n",
       "      <td>712-651-9613</td>\n",
       "      <td>Gold</td>\n",
       "    </tr>\n",
       "    <tr>\n",
       "      <th>1083</th>\n",
       "      <td>11256802</td>\n",
       "      <td>Female</td>\n",
       "      <td>22-Oct-64</td>\n",
       "      <td>LA</td>\n",
       "      <td>469-345-5617</td>\n",
       "      <td>Silver</td>\n",
       "    </tr>\n",
       "    <tr>\n",
       "      <th>1084</th>\n",
       "      <td>61575264</td>\n",
       "      <td>Male</td>\n",
       "      <td>12-Jul-95</td>\n",
       "      <td>WY</td>\n",
       "      <td>182-385-1392</td>\n",
       "      <td>Gold</td>\n",
       "    </tr>\n",
       "  </tbody>\n",
       "</table>\n",
       "<p>1085 rows × 6 columns</p>\n",
       "</div>"
      ],
      "text/plain": [
       "       CUST_ID  gender DateOfBirth State       Contact   Segment\n",
       "0     21868593  Female   12-Jan-79    VT  789-916-8172  Platinum\n",
       "1     75740424  Female   13-Jan-70    ME  265-543-1264    Silver\n",
       "2     30308357  Female   11-Mar-84    TN  798-631-4758    Silver\n",
       "3     47830476  Female   01-May-86    MA  413-187-7945    Silver\n",
       "4     19269962    Male   13-May-77    NV  956-871-8691      Gold\n",
       "...        ...     ...         ...   ...           ...       ...\n",
       "1080  79539873  Female   15-Mar-81    ND  459-425-4319  Platinum\n",
       "1081  42364152  Female   07-Jul-96    ID  529-462-1635    Silver\n",
       "1082  19888166    Male   11-Apr-90    WI  712-651-9613      Gold\n",
       "1083  11256802  Female   22-Oct-64    LA  469-345-5617    Silver\n",
       "1084  61575264    Male   12-Jul-95    WY  182-385-1392      Gold\n",
       "\n",
       "[1085 rows x 6 columns]"
      ]
     },
     "execution_count": 3,
     "metadata": {},
     "output_type": "execute_result"
    }
   ],
   "source": [
    "cust_data=pd.read_csv('C:/users/hp/cust_demographics.csv')\n",
    "cust_data\n"
   ]
  },
  {
   "cell_type": "code",
   "execution_count": 4,
   "id": "de8c878d",
   "metadata": {},
   "outputs": [
    {
     "data": {
      "text/html": [
       "<div>\n",
       "<style scoped>\n",
       "    .dataframe tbody tr th:only-of-type {\n",
       "        vertical-align: middle;\n",
       "    }\n",
       "\n",
       "    .dataframe tbody tr th {\n",
       "        vertical-align: top;\n",
       "    }\n",
       "\n",
       "    .dataframe thead th {\n",
       "        text-align: right;\n",
       "    }\n",
       "</style>\n",
       "<table border=\"1\" class=\"dataframe\">\n",
       "  <thead>\n",
       "    <tr style=\"text-align: right;\">\n",
       "      <th></th>\n",
       "      <th>CUST_ID</th>\n",
       "      <th>gender</th>\n",
       "      <th>DateOfBirth</th>\n",
       "      <th>State</th>\n",
       "      <th>Contact</th>\n",
       "      <th>Segment</th>\n",
       "      <th>claim_id</th>\n",
       "      <th>customer_id</th>\n",
       "      <th>incident_cause</th>\n",
       "      <th>claim_date</th>\n",
       "      <th>claim_area</th>\n",
       "      <th>police_report</th>\n",
       "      <th>claim_type</th>\n",
       "      <th>claim_amount</th>\n",
       "      <th>total_policy_claims</th>\n",
       "      <th>fraudulent</th>\n",
       "    </tr>\n",
       "  </thead>\n",
       "  <tbody>\n",
       "    <tr>\n",
       "      <th>0</th>\n",
       "      <td>21868593</td>\n",
       "      <td>Female</td>\n",
       "      <td>12-Jan-79</td>\n",
       "      <td>VT</td>\n",
       "      <td>789-916-8172</td>\n",
       "      <td>Platinum</td>\n",
       "      <td>54004764.0</td>\n",
       "      <td>21868593.0</td>\n",
       "      <td>Driver error</td>\n",
       "      <td>11/27/2017</td>\n",
       "      <td>Auto</td>\n",
       "      <td>No</td>\n",
       "      <td>Material only</td>\n",
       "      <td>$2980</td>\n",
       "      <td>1.0</td>\n",
       "      <td>No</td>\n",
       "    </tr>\n",
       "    <tr>\n",
       "      <th>1</th>\n",
       "      <td>75740424</td>\n",
       "      <td>Female</td>\n",
       "      <td>13-Jan-70</td>\n",
       "      <td>ME</td>\n",
       "      <td>265-543-1264</td>\n",
       "      <td>Silver</td>\n",
       "      <td>33985796.0</td>\n",
       "      <td>75740424.0</td>\n",
       "      <td>Crime</td>\n",
       "      <td>10/03/2018</td>\n",
       "      <td>Home</td>\n",
       "      <td>Unknown</td>\n",
       "      <td>Material only</td>\n",
       "      <td>$2980</td>\n",
       "      <td>3.0</td>\n",
       "      <td>No</td>\n",
       "    </tr>\n",
       "    <tr>\n",
       "      <th>2</th>\n",
       "      <td>30308357</td>\n",
       "      <td>Female</td>\n",
       "      <td>11-Mar-84</td>\n",
       "      <td>TN</td>\n",
       "      <td>798-631-4758</td>\n",
       "      <td>Silver</td>\n",
       "      <td>53522022.0</td>\n",
       "      <td>30308357.0</td>\n",
       "      <td>Other driver error</td>\n",
       "      <td>02/02/2018</td>\n",
       "      <td>Auto</td>\n",
       "      <td>No</td>\n",
       "      <td>Material only</td>\n",
       "      <td>$3369.5</td>\n",
       "      <td>1.0</td>\n",
       "      <td>Yes</td>\n",
       "    </tr>\n",
       "    <tr>\n",
       "      <th>3</th>\n",
       "      <td>30308357</td>\n",
       "      <td>Female</td>\n",
       "      <td>11-Mar-84</td>\n",
       "      <td>TN</td>\n",
       "      <td>798-631-4758</td>\n",
       "      <td>Silver</td>\n",
       "      <td>63017412.0</td>\n",
       "      <td>30308357.0</td>\n",
       "      <td>Driver error</td>\n",
       "      <td>04/04/2018</td>\n",
       "      <td>Auto</td>\n",
       "      <td>No</td>\n",
       "      <td>Material only</td>\n",
       "      <td>$1950</td>\n",
       "      <td>6.0</td>\n",
       "      <td>No</td>\n",
       "    </tr>\n",
       "    <tr>\n",
       "      <th>4</th>\n",
       "      <td>47830476</td>\n",
       "      <td>Female</td>\n",
       "      <td>01-May-86</td>\n",
       "      <td>MA</td>\n",
       "      <td>413-187-7945</td>\n",
       "      <td>Silver</td>\n",
       "      <td>13015401.0</td>\n",
       "      <td>47830476.0</td>\n",
       "      <td>Natural causes</td>\n",
       "      <td>06/17/2018</td>\n",
       "      <td>Auto</td>\n",
       "      <td>No</td>\n",
       "      <td>Material only</td>\n",
       "      <td>$1680</td>\n",
       "      <td>1.0</td>\n",
       "      <td>No</td>\n",
       "    </tr>\n",
       "    <tr>\n",
       "      <th>...</th>\n",
       "      <td>...</td>\n",
       "      <td>...</td>\n",
       "      <td>...</td>\n",
       "      <td>...</td>\n",
       "      <td>...</td>\n",
       "      <td>...</td>\n",
       "      <td>...</td>\n",
       "      <td>...</td>\n",
       "      <td>...</td>\n",
       "      <td>...</td>\n",
       "      <td>...</td>\n",
       "      <td>...</td>\n",
       "      <td>...</td>\n",
       "      <td>...</td>\n",
       "      <td>...</td>\n",
       "      <td>...</td>\n",
       "    </tr>\n",
       "    <tr>\n",
       "      <th>1087</th>\n",
       "      <td>79539873</td>\n",
       "      <td>Female</td>\n",
       "      <td>15-Mar-81</td>\n",
       "      <td>ND</td>\n",
       "      <td>459-425-4319</td>\n",
       "      <td>Platinum</td>\n",
       "      <td>62020796.0</td>\n",
       "      <td>79539873.0</td>\n",
       "      <td>Other driver error</td>\n",
       "      <td>09/06/2018</td>\n",
       "      <td>Auto</td>\n",
       "      <td>Yes</td>\n",
       "      <td>Material only</td>\n",
       "      <td>$1770</td>\n",
       "      <td>1.0</td>\n",
       "      <td>No</td>\n",
       "    </tr>\n",
       "    <tr>\n",
       "      <th>1088</th>\n",
       "      <td>42364152</td>\n",
       "      <td>Female</td>\n",
       "      <td>07-Jul-96</td>\n",
       "      <td>ID</td>\n",
       "      <td>529-462-1635</td>\n",
       "      <td>Silver</td>\n",
       "      <td>63269067.0</td>\n",
       "      <td>42364152.0</td>\n",
       "      <td>Other causes</td>\n",
       "      <td>05/09/2017</td>\n",
       "      <td>Home</td>\n",
       "      <td>No</td>\n",
       "      <td>Material only</td>\n",
       "      <td>$2800</td>\n",
       "      <td>1.0</td>\n",
       "      <td>No</td>\n",
       "    </tr>\n",
       "    <tr>\n",
       "      <th>1089</th>\n",
       "      <td>19888166</td>\n",
       "      <td>Male</td>\n",
       "      <td>11-Apr-90</td>\n",
       "      <td>WI</td>\n",
       "      <td>712-651-9613</td>\n",
       "      <td>Gold</td>\n",
       "      <td>22690595.0</td>\n",
       "      <td>19888166.0</td>\n",
       "      <td>Other driver error</td>\n",
       "      <td>05/15/2017</td>\n",
       "      <td>Auto</td>\n",
       "      <td>Yes</td>\n",
       "      <td>Injury only</td>\n",
       "      <td>$33080</td>\n",
       "      <td>2.0</td>\n",
       "      <td>No</td>\n",
       "    </tr>\n",
       "    <tr>\n",
       "      <th>1090</th>\n",
       "      <td>11256802</td>\n",
       "      <td>Female</td>\n",
       "      <td>22-Oct-64</td>\n",
       "      <td>LA</td>\n",
       "      <td>469-345-5617</td>\n",
       "      <td>Silver</td>\n",
       "      <td>12376894.0</td>\n",
       "      <td>11256802.0</td>\n",
       "      <td>Other driver error</td>\n",
       "      <td>04/18/2017</td>\n",
       "      <td>Auto</td>\n",
       "      <td>No</td>\n",
       "      <td>Material only</td>\n",
       "      <td>$2840</td>\n",
       "      <td>4.0</td>\n",
       "      <td>No</td>\n",
       "    </tr>\n",
       "    <tr>\n",
       "      <th>1091</th>\n",
       "      <td>61575264</td>\n",
       "      <td>Male</td>\n",
       "      <td>12-Jul-95</td>\n",
       "      <td>WY</td>\n",
       "      <td>182-385-1392</td>\n",
       "      <td>Gold</td>\n",
       "      <td>63226031.0</td>\n",
       "      <td>61575264.0</td>\n",
       "      <td>Natural causes</td>\n",
       "      <td>03/16/2017</td>\n",
       "      <td>Auto</td>\n",
       "      <td>No</td>\n",
       "      <td>Material only</td>\n",
       "      <td>$1490</td>\n",
       "      <td>1.0</td>\n",
       "      <td>No</td>\n",
       "    </tr>\n",
       "  </tbody>\n",
       "</table>\n",
       "<p>1092 rows × 16 columns</p>\n",
       "</div>"
      ],
      "text/plain": [
       "       CUST_ID  gender DateOfBirth State       Contact   Segment    claim_id  \\\n",
       "0     21868593  Female   12-Jan-79    VT  789-916-8172  Platinum  54004764.0   \n",
       "1     75740424  Female   13-Jan-70    ME  265-543-1264    Silver  33985796.0   \n",
       "2     30308357  Female   11-Mar-84    TN  798-631-4758    Silver  53522022.0   \n",
       "3     30308357  Female   11-Mar-84    TN  798-631-4758    Silver  63017412.0   \n",
       "4     47830476  Female   01-May-86    MA  413-187-7945    Silver  13015401.0   \n",
       "...        ...     ...         ...   ...           ...       ...         ...   \n",
       "1087  79539873  Female   15-Mar-81    ND  459-425-4319  Platinum  62020796.0   \n",
       "1088  42364152  Female   07-Jul-96    ID  529-462-1635    Silver  63269067.0   \n",
       "1089  19888166    Male   11-Apr-90    WI  712-651-9613      Gold  22690595.0   \n",
       "1090  11256802  Female   22-Oct-64    LA  469-345-5617    Silver  12376894.0   \n",
       "1091  61575264    Male   12-Jul-95    WY  182-385-1392      Gold  63226031.0   \n",
       "\n",
       "      customer_id      incident_cause  claim_date claim_area police_report  \\\n",
       "0      21868593.0        Driver error  11/27/2017       Auto            No   \n",
       "1      75740424.0               Crime  10/03/2018       Home       Unknown   \n",
       "2      30308357.0  Other driver error  02/02/2018       Auto            No   \n",
       "3      30308357.0        Driver error  04/04/2018       Auto            No   \n",
       "4      47830476.0      Natural causes  06/17/2018       Auto            No   \n",
       "...           ...                 ...         ...        ...           ...   \n",
       "1087   79539873.0  Other driver error  09/06/2018       Auto           Yes   \n",
       "1088   42364152.0        Other causes  05/09/2017       Home            No   \n",
       "1089   19888166.0  Other driver error  05/15/2017       Auto           Yes   \n",
       "1090   11256802.0  Other driver error  04/18/2017       Auto            No   \n",
       "1091   61575264.0      Natural causes  03/16/2017       Auto            No   \n",
       "\n",
       "         claim_type claim_amount  total_policy_claims fraudulent  \n",
       "0     Material only        $2980                  1.0         No  \n",
       "1     Material only        $2980                  3.0         No  \n",
       "2     Material only      $3369.5                  1.0        Yes  \n",
       "3     Material only        $1950                  6.0         No  \n",
       "4     Material only        $1680                  1.0         No  \n",
       "...             ...          ...                  ...        ...  \n",
       "1087  Material only        $1770                  1.0         No  \n",
       "1088  Material only        $2800                  1.0         No  \n",
       "1089    Injury only       $33080                  2.0         No  \n",
       "1090  Material only        $2840                  4.0         No  \n",
       "1091  Material only        $1490                  1.0         No  \n",
       "\n",
       "[1092 rows x 16 columns]"
      ]
     },
     "execution_count": 4,
     "metadata": {},
     "output_type": "execute_result"
    }
   ],
   "source": [
    "insurance_data=pd.merge(cust_data,claim_data,left_on='CUST_ID',right_on='customer_id',how='left')\n",
    "insurance_data"
   ]
  },
  {
   "cell_type": "markdown",
   "id": "bc11fa60",
   "metadata": {},
   "source": [
    "# 2. Perform a data audit for the datatypes and find out if there are any mismatch within the current datatypes of the columns and their business significance."
   ]
  },
  {
   "cell_type": "code",
   "execution_count": 5,
   "id": "afeccf91",
   "metadata": {},
   "outputs": [
    {
     "data": {
      "text/plain": [
       "CUST_ID                  int64\n",
       "gender                  object\n",
       "DateOfBirth             object\n",
       "State                   object\n",
       "Contact                 object\n",
       "Segment                 object\n",
       "claim_id               float64\n",
       "customer_id            float64\n",
       "incident_cause          object\n",
       "claim_date              object\n",
       "claim_area              object\n",
       "police_report           object\n",
       "claim_type              object\n",
       "claim_amount            object\n",
       "total_policy_claims    float64\n",
       "fraudulent              object\n",
       "dtype: object"
      ]
     },
     "execution_count": 5,
     "metadata": {},
     "output_type": "execute_result"
    }
   ],
   "source": [
    "insurance_data.dtypes"
   ]
  },
  {
   "cell_type": "markdown",
   "id": "d9240248",
   "metadata": {},
   "source": [
    "* claim_amount should have been float"
   ]
  },
  {
   "cell_type": "markdown",
   "id": "794a6724",
   "metadata": {},
   "source": [
    "# 3. Convert the column claim_amount to numeric. Use the appropriate modules/attributes to remove the $ sign."
   ]
  },
  {
   "cell_type": "code",
   "execution_count": 6,
   "id": "a15b2cfa",
   "metadata": {},
   "outputs": [
    {
     "data": {
      "text/html": [
       "<div>\n",
       "<style scoped>\n",
       "    .dataframe tbody tr th:only-of-type {\n",
       "        vertical-align: middle;\n",
       "    }\n",
       "\n",
       "    .dataframe tbody tr th {\n",
       "        vertical-align: top;\n",
       "    }\n",
       "\n",
       "    .dataframe thead th {\n",
       "        text-align: right;\n",
       "    }\n",
       "</style>\n",
       "<table border=\"1\" class=\"dataframe\">\n",
       "  <thead>\n",
       "    <tr style=\"text-align: right;\">\n",
       "      <th></th>\n",
       "      <th>CUST_ID</th>\n",
       "      <th>gender</th>\n",
       "      <th>DateOfBirth</th>\n",
       "      <th>State</th>\n",
       "      <th>Contact</th>\n",
       "      <th>Segment</th>\n",
       "      <th>claim_id</th>\n",
       "      <th>customer_id</th>\n",
       "      <th>incident_cause</th>\n",
       "      <th>claim_date</th>\n",
       "      <th>claim_area</th>\n",
       "      <th>police_report</th>\n",
       "      <th>claim_type</th>\n",
       "      <th>claim_amount</th>\n",
       "      <th>total_policy_claims</th>\n",
       "      <th>fraudulent</th>\n",
       "    </tr>\n",
       "  </thead>\n",
       "  <tbody>\n",
       "    <tr>\n",
       "      <th>0</th>\n",
       "      <td>21868593</td>\n",
       "      <td>Female</td>\n",
       "      <td>12-Jan-79</td>\n",
       "      <td>VT</td>\n",
       "      <td>789-916-8172</td>\n",
       "      <td>Platinum</td>\n",
       "      <td>54004764.0</td>\n",
       "      <td>21868593.0</td>\n",
       "      <td>Driver error</td>\n",
       "      <td>11/27/2017</td>\n",
       "      <td>Auto</td>\n",
       "      <td>No</td>\n",
       "      <td>Material only</td>\n",
       "      <td>$2980</td>\n",
       "      <td>1.0</td>\n",
       "      <td>No</td>\n",
       "    </tr>\n",
       "    <tr>\n",
       "      <th>1</th>\n",
       "      <td>75740424</td>\n",
       "      <td>Female</td>\n",
       "      <td>13-Jan-70</td>\n",
       "      <td>ME</td>\n",
       "      <td>265-543-1264</td>\n",
       "      <td>Silver</td>\n",
       "      <td>33985796.0</td>\n",
       "      <td>75740424.0</td>\n",
       "      <td>Crime</td>\n",
       "      <td>10/03/2018</td>\n",
       "      <td>Home</td>\n",
       "      <td>Unknown</td>\n",
       "      <td>Material only</td>\n",
       "      <td>$2980</td>\n",
       "      <td>3.0</td>\n",
       "      <td>No</td>\n",
       "    </tr>\n",
       "  </tbody>\n",
       "</table>\n",
       "</div>"
      ],
      "text/plain": [
       "    CUST_ID  gender DateOfBirth State       Contact   Segment    claim_id  \\\n",
       "0  21868593  Female   12-Jan-79    VT  789-916-8172  Platinum  54004764.0   \n",
       "1  75740424  Female   13-Jan-70    ME  265-543-1264    Silver  33985796.0   \n",
       "\n",
       "   customer_id incident_cause  claim_date claim_area police_report  \\\n",
       "0   21868593.0   Driver error  11/27/2017       Auto            No   \n",
       "1   75740424.0          Crime  10/03/2018       Home       Unknown   \n",
       "\n",
       "      claim_type claim_amount  total_policy_claims fraudulent  \n",
       "0  Material only        $2980                  1.0         No  \n",
       "1  Material only        $2980                  3.0         No  "
      ]
     },
     "execution_count": 6,
     "metadata": {},
     "output_type": "execute_result"
    }
   ],
   "source": [
    "insurance_data.head(2)"
   ]
  },
  {
   "cell_type": "code",
   "execution_count": 7,
   "id": "5f51e9dd",
   "metadata": {},
   "outputs": [
    {
     "name": "stderr",
     "output_type": "stream",
     "text": [
      "C:\\Users\\hp\\AppData\\Local\\Temp\\ipykernel_2004\\1809047740.py:1: FutureWarning: The default value of regex will change from True to False in a future version. In addition, single character regular expressions will *not* be treated as literal strings when regex=True.\n",
      "  insurance_data.loc[:,'claim_amount']=insurance_data['claim_amount'].str.replace('$',' ').astype(float)\n"
     ]
    }
   ],
   "source": [
    "insurance_data.loc[:,'claim_amount']=insurance_data['claim_amount'].str.replace('$',' ').astype(float)"
   ]
  },
  {
   "cell_type": "code",
   "execution_count": 8,
   "id": "ebe2d38c",
   "metadata": {},
   "outputs": [
    {
     "data": {
      "text/plain": [
       "numpy.float64"
      ]
     },
     "execution_count": 8,
     "metadata": {},
     "output_type": "execute_result"
    }
   ],
   "source": [
    "type(insurance_data.loc[:,'claim_amount'][1])"
   ]
  },
  {
   "cell_type": "code",
   "execution_count": 9,
   "id": "ca65d998",
   "metadata": {},
   "outputs": [
    {
     "data": {
      "text/plain": [
       "0        2980.0\n",
       "1        2980.0\n",
       "2        3369.5\n",
       "3        1950.0\n",
       "4        1680.0\n",
       "         ...   \n",
       "1087     1770.0\n",
       "1088     2800.0\n",
       "1089    33080.0\n",
       "1090     2840.0\n",
       "1091     1490.0\n",
       "Name: claim_amount, Length: 1092, dtype: float64"
      ]
     },
     "execution_count": 9,
     "metadata": {},
     "output_type": "execute_result"
    }
   ],
   "source": [
    "insurance_data.claim_amount"
   ]
  },
  {
   "cell_type": "markdown",
   "id": "df62df88",
   "metadata": {},
   "source": [
    "# 4. Of all the injury claims, some of them have gone unreported with the police. Create an alert flag (1,0) for all such claims."
   ]
  },
  {
   "cell_type": "code",
   "execution_count": 10,
   "id": "c626f526",
   "metadata": {},
   "outputs": [
    {
     "data": {
      "text/html": [
       "<div>\n",
       "<style scoped>\n",
       "    .dataframe tbody tr th:only-of-type {\n",
       "        vertical-align: middle;\n",
       "    }\n",
       "\n",
       "    .dataframe tbody tr th {\n",
       "        vertical-align: top;\n",
       "    }\n",
       "\n",
       "    .dataframe thead th {\n",
       "        text-align: right;\n",
       "    }\n",
       "</style>\n",
       "<table border=\"1\" class=\"dataframe\">\n",
       "  <thead>\n",
       "    <tr style=\"text-align: right;\">\n",
       "      <th></th>\n",
       "      <th>claim_type</th>\n",
       "      <th>police_report</th>\n",
       "    </tr>\n",
       "  </thead>\n",
       "  <tbody>\n",
       "    <tr>\n",
       "      <th>18</th>\n",
       "      <td>Injury only</td>\n",
       "      <td>Yes</td>\n",
       "    </tr>\n",
       "    <tr>\n",
       "      <th>23</th>\n",
       "      <td>Injury only</td>\n",
       "      <td>Yes</td>\n",
       "    </tr>\n",
       "    <tr>\n",
       "      <th>27</th>\n",
       "      <td>Injury only</td>\n",
       "      <td>Yes</td>\n",
       "    </tr>\n",
       "    <tr>\n",
       "      <th>50</th>\n",
       "      <td>Injury only</td>\n",
       "      <td>Yes</td>\n",
       "    </tr>\n",
       "    <tr>\n",
       "      <th>54</th>\n",
       "      <td>Injury only</td>\n",
       "      <td>Yes</td>\n",
       "    </tr>\n",
       "    <tr>\n",
       "      <th>...</th>\n",
       "      <td>...</td>\n",
       "      <td>...</td>\n",
       "    </tr>\n",
       "    <tr>\n",
       "      <th>1059</th>\n",
       "      <td>Injury only</td>\n",
       "      <td>Yes</td>\n",
       "    </tr>\n",
       "    <tr>\n",
       "      <th>1060</th>\n",
       "      <td>Injury only</td>\n",
       "      <td>Yes</td>\n",
       "    </tr>\n",
       "    <tr>\n",
       "      <th>1071</th>\n",
       "      <td>Injury only</td>\n",
       "      <td>Yes</td>\n",
       "    </tr>\n",
       "    <tr>\n",
       "      <th>1079</th>\n",
       "      <td>Injury only</td>\n",
       "      <td>Yes</td>\n",
       "    </tr>\n",
       "    <tr>\n",
       "      <th>1089</th>\n",
       "      <td>Injury only</td>\n",
       "      <td>Yes</td>\n",
       "    </tr>\n",
       "  </tbody>\n",
       "</table>\n",
       "<p>70 rows × 2 columns</p>\n",
       "</div>"
      ],
      "text/plain": [
       "       claim_type police_report\n",
       "18    Injury only           Yes\n",
       "23    Injury only           Yes\n",
       "27    Injury only           Yes\n",
       "50    Injury only           Yes\n",
       "54    Injury only           Yes\n",
       "...           ...           ...\n",
       "1059  Injury only           Yes\n",
       "1060  Injury only           Yes\n",
       "1071  Injury only           Yes\n",
       "1079  Injury only           Yes\n",
       "1089  Injury only           Yes\n",
       "\n",
       "[70 rows x 2 columns]"
      ]
     },
     "execution_count": 10,
     "metadata": {},
     "output_type": "execute_result"
    }
   ],
   "source": [
    "insurance_data.loc[(insurance_data.claim_type=='Injury only')&(insurance_data.police_report=='Yes'),['claim_type','police_report']]"
   ]
  },
  {
   "cell_type": "code",
   "execution_count": 11,
   "id": "445702b7",
   "metadata": {},
   "outputs": [],
   "source": [
    "insurance_data.loc[:,'flag']=np.where(insurance_data.police_report=='No',0,np.where(insurance_data.police_report=='Unknown',1,'Yes'))"
   ]
  },
  {
   "cell_type": "code",
   "execution_count": 12,
   "id": "c31491a0",
   "metadata": {},
   "outputs": [
    {
     "data": {
      "text/html": [
       "<div>\n",
       "<style scoped>\n",
       "    .dataframe tbody tr th:only-of-type {\n",
       "        vertical-align: middle;\n",
       "    }\n",
       "\n",
       "    .dataframe tbody tr th {\n",
       "        vertical-align: top;\n",
       "    }\n",
       "\n",
       "    .dataframe thead th {\n",
       "        text-align: right;\n",
       "    }\n",
       "</style>\n",
       "<table border=\"1\" class=\"dataframe\">\n",
       "  <thead>\n",
       "    <tr style=\"text-align: right;\">\n",
       "      <th></th>\n",
       "      <th>claim_type</th>\n",
       "      <th>police_report</th>\n",
       "      <th>flag</th>\n",
       "    </tr>\n",
       "  </thead>\n",
       "  <tbody>\n",
       "    <tr>\n",
       "      <th>8</th>\n",
       "      <td>Injury only</td>\n",
       "      <td>No</td>\n",
       "      <td>0</td>\n",
       "    </tr>\n",
       "    <tr>\n",
       "      <th>18</th>\n",
       "      <td>Injury only</td>\n",
       "      <td>Yes</td>\n",
       "      <td>Yes</td>\n",
       "    </tr>\n",
       "    <tr>\n",
       "      <th>21</th>\n",
       "      <td>Injury only</td>\n",
       "      <td>No</td>\n",
       "      <td>0</td>\n",
       "    </tr>\n",
       "    <tr>\n",
       "      <th>22</th>\n",
       "      <td>Injury only</td>\n",
       "      <td>No</td>\n",
       "      <td>0</td>\n",
       "    </tr>\n",
       "    <tr>\n",
       "      <th>23</th>\n",
       "      <td>Injury only</td>\n",
       "      <td>Yes</td>\n",
       "      <td>Yes</td>\n",
       "    </tr>\n",
       "    <tr>\n",
       "      <th>...</th>\n",
       "      <td>...</td>\n",
       "      <td>...</td>\n",
       "      <td>...</td>\n",
       "    </tr>\n",
       "    <tr>\n",
       "      <th>1069</th>\n",
       "      <td>Injury only</td>\n",
       "      <td>No</td>\n",
       "      <td>0</td>\n",
       "    </tr>\n",
       "    <tr>\n",
       "      <th>1071</th>\n",
       "      <td>Injury only</td>\n",
       "      <td>Yes</td>\n",
       "      <td>Yes</td>\n",
       "    </tr>\n",
       "    <tr>\n",
       "      <th>1079</th>\n",
       "      <td>Injury only</td>\n",
       "      <td>Yes</td>\n",
       "      <td>Yes</td>\n",
       "    </tr>\n",
       "    <tr>\n",
       "      <th>1081</th>\n",
       "      <td>Injury only</td>\n",
       "      <td>Unknown</td>\n",
       "      <td>1</td>\n",
       "    </tr>\n",
       "    <tr>\n",
       "      <th>1089</th>\n",
       "      <td>Injury only</td>\n",
       "      <td>Yes</td>\n",
       "      <td>Yes</td>\n",
       "    </tr>\n",
       "  </tbody>\n",
       "</table>\n",
       "<p>195 rows × 3 columns</p>\n",
       "</div>"
      ],
      "text/plain": [
       "       claim_type police_report flag\n",
       "8     Injury only            No    0\n",
       "18    Injury only           Yes  Yes\n",
       "21    Injury only            No    0\n",
       "22    Injury only            No    0\n",
       "23    Injury only           Yes  Yes\n",
       "...           ...           ...  ...\n",
       "1069  Injury only            No    0\n",
       "1071  Injury only           Yes  Yes\n",
       "1079  Injury only           Yes  Yes\n",
       "1081  Injury only       Unknown    1\n",
       "1089  Injury only           Yes  Yes\n",
       "\n",
       "[195 rows x 3 columns]"
      ]
     },
     "execution_count": 12,
     "metadata": {},
     "output_type": "execute_result"
    }
   ],
   "source": [
    "insurance_data.loc[insurance_data.claim_type=='Injury only',['claim_type','police_report','flag']]"
   ]
  },
  {
   "cell_type": "markdown",
   "id": "8c8242e6",
   "metadata": {},
   "source": [
    "# 5. One customer can claim for insurance more than once and in each claim,multiple categories of claims can be involved. However, customer ID should remain unique.\n",
    "## Retain the most recent observation and delete any duplicated records in the data based on the customer ID column."
   ]
  },
  {
   "cell_type": "code",
   "execution_count": 13,
   "id": "60530ab6",
   "metadata": {},
   "outputs": [],
   "source": [
    "insurance_data.loc[:,'Year']=pd.to_datetime(insurance_data.claim_date).dt.year"
   ]
  },
  {
   "cell_type": "code",
   "execution_count": 14,
   "id": "14b79f27",
   "metadata": {},
   "outputs": [],
   "source": [
    "insurance_data=insurance_data.sort_values(by='Year',axis=0,ascending=False).drop_duplicates(subset='CUST_ID',keep='first')"
   ]
  },
  {
   "cell_type": "code",
   "execution_count": 15,
   "id": "7228dc6d",
   "metadata": {},
   "outputs": [
    {
     "data": {
      "text/plain": [
       "9600820     1\n",
       "64840478    1\n",
       "94267140    1\n",
       "5637733     1\n",
       "65047878    1\n",
       "           ..\n",
       "97169446    1\n",
       "14433043    1\n",
       "16906248    1\n",
       "2632562     1\n",
       "70659761    1\n",
       "Name: CUST_ID, Length: 1085, dtype: int64"
      ]
     },
     "execution_count": 15,
     "metadata": {},
     "output_type": "execute_result"
    }
   ],
   "source": [
    "insurance_data.CUST_ID.value_counts()"
   ]
  },
  {
   "cell_type": "markdown",
   "id": "065ec505",
   "metadata": {},
   "source": [
    "# 6. Check for missing values and impute the missing values with an appropriate value. (mean for continuous and mode for categorical)"
   ]
  },
  {
   "cell_type": "code",
   "execution_count": 16,
   "id": "dfa73378",
   "metadata": {},
   "outputs": [
    {
     "data": {
      "text/plain": [
       "Index(['CUST_ID', 'claim_id', 'customer_id', 'claim_amount',\n",
       "       'total_policy_claims', 'Year'],\n",
       "      dtype='object')"
      ]
     },
     "execution_count": 16,
     "metadata": {},
     "output_type": "execute_result"
    }
   ],
   "source": [
    "insurance_data.select_dtypes('number').columns"
   ]
  },
  {
   "cell_type": "code",
   "execution_count": 17,
   "id": "dd00af46",
   "metadata": {},
   "outputs": [
    {
     "data": {
      "text/plain": [
       "Index(['gender', 'DateOfBirth', 'State', 'Contact', 'Segment',\n",
       "       'incident_cause', 'claim_date', 'claim_area', 'police_report',\n",
       "       'claim_type', 'fraudulent', 'flag'],\n",
       "      dtype='object')"
      ]
     },
     "execution_count": 17,
     "metadata": {},
     "output_type": "execute_result"
    }
   ],
   "source": [
    "insurance_data.select_dtypes('object').columns"
   ]
  },
  {
   "cell_type": "code",
   "execution_count": 18,
   "id": "0e7387be",
   "metadata": {},
   "outputs": [],
   "source": [
    "insurance_data.loc[:,'Year']=insurance_data.Year.astype('object')"
   ]
  },
  {
   "cell_type": "code",
   "execution_count": 19,
   "id": "ea6306f0",
   "metadata": {},
   "outputs": [
    {
     "data": {
      "text/plain": [
       "CUST_ID                  int64\n",
       "gender                  object\n",
       "DateOfBirth             object\n",
       "State                   object\n",
       "Contact                 object\n",
       "Segment                 object\n",
       "claim_id               float64\n",
       "customer_id            float64\n",
       "incident_cause          object\n",
       "claim_date              object\n",
       "claim_area              object\n",
       "police_report           object\n",
       "claim_type              object\n",
       "claim_amount           float64\n",
       "total_policy_claims    float64\n",
       "fraudulent              object\n",
       "flag                    object\n",
       "Year                    object\n",
       "dtype: object"
      ]
     },
     "execution_count": 19,
     "metadata": {},
     "output_type": "execute_result"
    }
   ],
   "source": [
    "insurance_data.dtypes"
   ]
  },
  {
   "cell_type": "code",
   "execution_count": 20,
   "id": "90c8dc04",
   "metadata": {},
   "outputs": [],
   "source": [
    "insurance_data.loc[insurance_data.claim_id.isnull(),'claim_id']=insurance_data.loc[insurance_data.claim_id.isnull(),'claim_id'].fillna(insurance_data.claim_id.mean())"
   ]
  },
  {
   "cell_type": "code",
   "execution_count": 21,
   "id": "fc325c08",
   "metadata": {},
   "outputs": [],
   "source": [
    "insurance_data.loc[insurance_data.customer_id.isnull(),'customer_id']=insurance_data.loc[insurance_data.customer_id.isnull(),'customer_id'].fillna(insurance_data.customer_id.mean())"
   ]
  },
  {
   "cell_type": "code",
   "execution_count": 22,
   "id": "22064c60",
   "metadata": {},
   "outputs": [],
   "source": [
    "insurance_data.loc[insurance_data.total_policy_claims.isnull(),'total_policy_claims']=insurance_data.loc[insurance_data.total_policy_claims.isnull(),'total_policy_claims'].fillna(insurance_data.total_policy_claims.mean())"
   ]
  },
  {
   "cell_type": "code",
   "execution_count": 23,
   "id": "f30dee91",
   "metadata": {},
   "outputs": [],
   "source": [
    "insurance_data.loc[insurance_data.incident_cause.isnull(),'incident_cause']=insurance_data.loc[insurance_data.incident_cause.isnull(),'incident_cause'].fillna(insurance_data.incident_cause.mode())"
   ]
  },
  {
   "cell_type": "code",
   "execution_count": 24,
   "id": "5923ee57",
   "metadata": {},
   "outputs": [],
   "source": [
    "insurance_data.loc[insurance_data.incident_cause.isnull(),'incident_cause']=insurance_data.loc[insurance_data.incident_cause.isnull(),'incident_cause'].fillna('Other causes')"
   ]
  },
  {
   "cell_type": "code",
   "execution_count": 25,
   "id": "d145887f",
   "metadata": {},
   "outputs": [
    {
     "data": {
      "text/plain": [
       "0    Other causes\n",
       "Name: incident_cause, dtype: object"
      ]
     },
     "execution_count": 25,
     "metadata": {},
     "output_type": "execute_result"
    }
   ],
   "source": [
    "insurance_data.incident_cause.mode()"
   ]
  },
  {
   "cell_type": "code",
   "execution_count": 26,
   "id": "b66194a2",
   "metadata": {},
   "outputs": [],
   "source": [
    "insurance_data.loc[insurance_data.Year.isnull(),'Year']=insurance_data.loc[insurance_data.Year.isnull(),'Year'].fillna('2017')"
   ]
  },
  {
   "cell_type": "code",
   "execution_count": 27,
   "id": "924e38ff",
   "metadata": {},
   "outputs": [
    {
     "data": {
      "text/plain": [
       "0    2017.0\n",
       "Name: Year, dtype: object"
      ]
     },
     "execution_count": 27,
     "metadata": {},
     "output_type": "execute_result"
    }
   ],
   "source": [
    "insurance_data.Year.mode()"
   ]
  },
  {
   "cell_type": "code",
   "execution_count": 28,
   "id": "aa7a2ff7",
   "metadata": {},
   "outputs": [],
   "source": [
    "insurance_data.loc[insurance_data.claim_date.isnull(),'claim_date']=insurance_data.loc[insurance_data.claim_date.isnull(),'claim_date'].fillna('04/04/2018')"
   ]
  },
  {
   "cell_type": "code",
   "execution_count": 29,
   "id": "19b5f414",
   "metadata": {},
   "outputs": [
    {
     "data": {
      "text/plain": [
       "0    04/04/2018\n",
       "Name: claim_date, dtype: object"
      ]
     },
     "execution_count": 29,
     "metadata": {},
     "output_type": "execute_result"
    }
   ],
   "source": [
    "insurance_data.claim_date.mode()"
   ]
  },
  {
   "cell_type": "code",
   "execution_count": 30,
   "id": "7405f253",
   "metadata": {},
   "outputs": [],
   "source": [
    "insurance_data.loc[insurance_data.claim_area.isnull(),'claim_area']=insurance_data.loc[insurance_data.claim_area.isnull(),'claim_area'].fillna('Auto')"
   ]
  },
  {
   "cell_type": "code",
   "execution_count": 31,
   "id": "802b3823",
   "metadata": {},
   "outputs": [
    {
     "data": {
      "text/plain": [
       "0    Auto\n",
       "Name: claim_area, dtype: object"
      ]
     },
     "execution_count": 31,
     "metadata": {},
     "output_type": "execute_result"
    }
   ],
   "source": [
    "insurance_data.claim_area.mode()"
   ]
  },
  {
   "cell_type": "code",
   "execution_count": 32,
   "id": "86e5f1be",
   "metadata": {},
   "outputs": [],
   "source": [
    "insurance_data.loc[insurance_data.police_report.isnull(),'police_report']=insurance_data.loc[insurance_data.police_report.isnull(),'police_report'].fillna('No')"
   ]
  },
  {
   "cell_type": "code",
   "execution_count": 33,
   "id": "5c66c13b",
   "metadata": {},
   "outputs": [
    {
     "data": {
      "text/plain": [
       "0    No\n",
       "Name: police_report, dtype: object"
      ]
     },
     "execution_count": 33,
     "metadata": {},
     "output_type": "execute_result"
    }
   ],
   "source": [
    "insurance_data.police_report.mode()"
   ]
  },
  {
   "cell_type": "code",
   "execution_count": 34,
   "id": "2a1f03f7",
   "metadata": {},
   "outputs": [],
   "source": [
    "insurance_data.loc[insurance_data.claim_type.isnull(),'claim_type']=insurance_data.loc[insurance_data.claim_type.isnull(),'claim_type'].fillna('Material only')"
   ]
  },
  {
   "cell_type": "code",
   "execution_count": 35,
   "id": "598595eb",
   "metadata": {},
   "outputs": [
    {
     "data": {
      "text/plain": [
       "0    Material only\n",
       "Name: claim_type, dtype: object"
      ]
     },
     "execution_count": 35,
     "metadata": {},
     "output_type": "execute_result"
    }
   ],
   "source": [
    "insurance_data.claim_type.mode()"
   ]
  },
  {
   "cell_type": "code",
   "execution_count": 36,
   "id": "3cf01617",
   "metadata": {},
   "outputs": [],
   "source": [
    "insurance_data.loc[insurance_data.claim_amount.isnull(),'claim_amount']=insurance_data.loc[insurance_data.claim_amount.isnull(),'claim_amount'].fillna(insurance_data.claim_amount.mean())"
   ]
  },
  {
   "cell_type": "code",
   "execution_count": 37,
   "id": "d43de246",
   "metadata": {},
   "outputs": [
    {
     "data": {
      "text/plain": [
       "12501.72655478778"
      ]
     },
     "execution_count": 37,
     "metadata": {},
     "output_type": "execute_result"
    }
   ],
   "source": [
    "insurance_data.claim_amount.mean()"
   ]
  },
  {
   "cell_type": "code",
   "execution_count": 38,
   "id": "bcce31d5",
   "metadata": {},
   "outputs": [],
   "source": [
    "insurance_data.loc[insurance_data.fraudulent.isnull(),'fraudulent']=insurance_data.loc[insurance_data.fraudulent.isnull(),'fraudulent'].fillna('No')"
   ]
  },
  {
   "cell_type": "code",
   "execution_count": 39,
   "id": "63fafe28",
   "metadata": {},
   "outputs": [
    {
     "data": {
      "text/plain": [
       "0    No\n",
       "Name: fraudulent, dtype: object"
      ]
     },
     "execution_count": 39,
     "metadata": {},
     "output_type": "execute_result"
    }
   ],
   "source": [
    "insurance_data.fraudulent.mode()"
   ]
  },
  {
   "cell_type": "markdown",
   "id": "8f3d18f1",
   "metadata": {},
   "source": [
    "# 7. Calculate the age of customers in years. Based on the age, categorize the customers according to the below criteria\n",
    "## Children < 18\n",
    "## Youth 18-30\n",
    "## Adult 30-60\n",
    "## Senior > 60"
   ]
  },
  {
   "cell_type": "code",
   "execution_count": 40,
   "id": "2f9c388f",
   "metadata": {},
   "outputs": [],
   "source": [
    "insurance_data.loc[:,'DateOfBirth2']=pd.to_datetime(insurance_data.DateOfBirth)"
   ]
  },
  {
   "cell_type": "code",
   "execution_count": 41,
   "id": "75edb457",
   "metadata": {},
   "outputs": [],
   "source": [
    "insurance_data.loc[:,'Day']=insurance_data.DateOfBirth2.dt.day"
   ]
  },
  {
   "cell_type": "code",
   "execution_count": 42,
   "id": "c9df6e1e",
   "metadata": {},
   "outputs": [],
   "source": [
    "insurance_data.loc[:,'month']=insurance_data.DateOfBirth2.dt.month"
   ]
  },
  {
   "cell_type": "code",
   "execution_count": 43,
   "id": "c8e02c90",
   "metadata": {},
   "outputs": [],
   "source": [
    "insurance_data.loc[:,'Year2']=insurance_data.DateOfBirth2.dt.year"
   ]
  },
  {
   "cell_type": "code",
   "execution_count": 44,
   "id": "b2af67df",
   "metadata": {},
   "outputs": [],
   "source": [
    "insurance_data.loc[:,'Year3']=np.where(insurance_data.Year2>2023,insurance_data.Year2-100,insurance_data.Year2)"
   ]
  },
  {
   "cell_type": "code",
   "execution_count": 45,
   "id": "c9f70edd",
   "metadata": {},
   "outputs": [],
   "source": [
    "insurance_data.loc[:,'Final_DateOfBirth']=insurance_data.Day.astype(str)+'-'+insurance_data.month.astype(str)+'-'+insurance_data.Year3.astype(str)"
   ]
  },
  {
   "cell_type": "code",
   "execution_count": 46,
   "id": "930f6c10",
   "metadata": {},
   "outputs": [
    {
     "data": {
      "text/plain": [
       "542    19-2-1962\n",
       "426    25-7-1997\n",
       "414    26-8-1983\n",
       "416    28-7-1971\n",
       "853     5-7-1969\n",
       "         ...    \n",
       "609    22-7-1980\n",
       "636     4-6-1984\n",
       "637    25-5-1984\n",
       "638     6-8-1996\n",
       "639    25-6-1994\n",
       "Name: Final_DateOfBirth, Length: 1085, dtype: object"
      ]
     },
     "execution_count": 46,
     "metadata": {},
     "output_type": "execute_result"
    }
   ],
   "source": [
    "insurance_data.loc[:,'Final_DateOfBirth']"
   ]
  },
  {
   "cell_type": "code",
   "execution_count": 47,
   "id": "97e7538b",
   "metadata": {},
   "outputs": [
    {
     "name": "stderr",
     "output_type": "stream",
     "text": [
      "C:\\Users\\hp\\AppData\\Local\\Temp\\ipykernel_2004\\3699852308.py:1: UserWarning: Parsing '25-10-1993' in DD/MM/YYYY format. Provide format or specify infer_datetime_format=True for consistent parsing.\n",
      "  insurance_data.loc[:,'AgeFinal']=round(((pd.Timestamp.today()-pd.to_datetime(insurance_data.Final_DateOfBirth)).dt.days)/365.25,0)\n",
      "C:\\Users\\hp\\AppData\\Local\\Temp\\ipykernel_2004\\3699852308.py:1: UserWarning: Parsing '28-12-1983' in DD/MM/YYYY format. Provide format or specify infer_datetime_format=True for consistent parsing.\n",
      "  insurance_data.loc[:,'AgeFinal']=round(((pd.Timestamp.today()-pd.to_datetime(insurance_data.Final_DateOfBirth)).dt.days)/365.25,0)\n",
      "C:\\Users\\hp\\AppData\\Local\\Temp\\ipykernel_2004\\3699852308.py:1: UserWarning: Parsing '20-12-1972' in DD/MM/YYYY format. Provide format or specify infer_datetime_format=True for consistent parsing.\n",
      "  insurance_data.loc[:,'AgeFinal']=round(((pd.Timestamp.today()-pd.to_datetime(insurance_data.Final_DateOfBirth)).dt.days)/365.25,0)\n",
      "C:\\Users\\hp\\AppData\\Local\\Temp\\ipykernel_2004\\3699852308.py:1: UserWarning: Parsing '20-11-1979' in DD/MM/YYYY format. Provide format or specify infer_datetime_format=True for consistent parsing.\n",
      "  insurance_data.loc[:,'AgeFinal']=round(((pd.Timestamp.today()-pd.to_datetime(insurance_data.Final_DateOfBirth)).dt.days)/365.25,0)\n",
      "C:\\Users\\hp\\AppData\\Local\\Temp\\ipykernel_2004\\3699852308.py:1: UserWarning: Parsing '30-12-1962' in DD/MM/YYYY format. Provide format or specify infer_datetime_format=True for consistent parsing.\n",
      "  insurance_data.loc[:,'AgeFinal']=round(((pd.Timestamp.today()-pd.to_datetime(insurance_data.Final_DateOfBirth)).dt.days)/365.25,0)\n",
      "C:\\Users\\hp\\AppData\\Local\\Temp\\ipykernel_2004\\3699852308.py:1: UserWarning: Parsing '16-10-1965' in DD/MM/YYYY format. Provide format or specify infer_datetime_format=True for consistent parsing.\n",
      "  insurance_data.loc[:,'AgeFinal']=round(((pd.Timestamp.today()-pd.to_datetime(insurance_data.Final_DateOfBirth)).dt.days)/365.25,0)\n",
      "C:\\Users\\hp\\AppData\\Local\\Temp\\ipykernel_2004\\3699852308.py:1: UserWarning: Parsing '14-11-1992' in DD/MM/YYYY format. Provide format or specify infer_datetime_format=True for consistent parsing.\n",
      "  insurance_data.loc[:,'AgeFinal']=round(((pd.Timestamp.today()-pd.to_datetime(insurance_data.Final_DateOfBirth)).dt.days)/365.25,0)\n",
      "C:\\Users\\hp\\AppData\\Local\\Temp\\ipykernel_2004\\3699852308.py:1: UserWarning: Parsing '28-10-1997' in DD/MM/YYYY format. Provide format or specify infer_datetime_format=True for consistent parsing.\n",
      "  insurance_data.loc[:,'AgeFinal']=round(((pd.Timestamp.today()-pd.to_datetime(insurance_data.Final_DateOfBirth)).dt.days)/365.25,0)\n",
      "C:\\Users\\hp\\AppData\\Local\\Temp\\ipykernel_2004\\3699852308.py:1: UserWarning: Parsing '27-12-1998' in DD/MM/YYYY format. Provide format or specify infer_datetime_format=True for consistent parsing.\n",
      "  insurance_data.loc[:,'AgeFinal']=round(((pd.Timestamp.today()-pd.to_datetime(insurance_data.Final_DateOfBirth)).dt.days)/365.25,0)\n",
      "C:\\Users\\hp\\AppData\\Local\\Temp\\ipykernel_2004\\3699852308.py:1: UserWarning: Parsing '26-10-1960' in DD/MM/YYYY format. Provide format or specify infer_datetime_format=True for consistent parsing.\n",
      "  insurance_data.loc[:,'AgeFinal']=round(((pd.Timestamp.today()-pd.to_datetime(insurance_data.Final_DateOfBirth)).dt.days)/365.25,0)\n",
      "C:\\Users\\hp\\AppData\\Local\\Temp\\ipykernel_2004\\3699852308.py:1: UserWarning: Parsing '19-12-1968' in DD/MM/YYYY format. Provide format or specify infer_datetime_format=True for consistent parsing.\n",
      "  insurance_data.loc[:,'AgeFinal']=round(((pd.Timestamp.today()-pd.to_datetime(insurance_data.Final_DateOfBirth)).dt.days)/365.25,0)\n",
      "C:\\Users\\hp\\AppData\\Local\\Temp\\ipykernel_2004\\3699852308.py:1: UserWarning: Parsing '18-10-1973' in DD/MM/YYYY format. Provide format or specify infer_datetime_format=True for consistent parsing.\n",
      "  insurance_data.loc[:,'AgeFinal']=round(((pd.Timestamp.today()-pd.to_datetime(insurance_data.Final_DateOfBirth)).dt.days)/365.25,0)\n",
      "C:\\Users\\hp\\AppData\\Local\\Temp\\ipykernel_2004\\3699852308.py:1: UserWarning: Parsing '26-11-1986' in DD/MM/YYYY format. Provide format or specify infer_datetime_format=True for consistent parsing.\n",
      "  insurance_data.loc[:,'AgeFinal']=round(((pd.Timestamp.today()-pd.to_datetime(insurance_data.Final_DateOfBirth)).dt.days)/365.25,0)\n",
      "C:\\Users\\hp\\AppData\\Local\\Temp\\ipykernel_2004\\3699852308.py:1: UserWarning: Parsing '16-12-1975' in DD/MM/YYYY format. Provide format or specify infer_datetime_format=True for consistent parsing.\n",
      "  insurance_data.loc[:,'AgeFinal']=round(((pd.Timestamp.today()-pd.to_datetime(insurance_data.Final_DateOfBirth)).dt.days)/365.25,0)\n",
      "C:\\Users\\hp\\AppData\\Local\\Temp\\ipykernel_2004\\3699852308.py:1: UserWarning: Parsing '17-10-1980' in DD/MM/YYYY format. Provide format or specify infer_datetime_format=True for consistent parsing.\n",
      "  insurance_data.loc[:,'AgeFinal']=round(((pd.Timestamp.today()-pd.to_datetime(insurance_data.Final_DateOfBirth)).dt.days)/365.25,0)\n",
      "C:\\Users\\hp\\AppData\\Local\\Temp\\ipykernel_2004\\3699852308.py:1: UserWarning: Parsing '21-12-1984' in DD/MM/YYYY format. Provide format or specify infer_datetime_format=True for consistent parsing.\n",
      "  insurance_data.loc[:,'AgeFinal']=round(((pd.Timestamp.today()-pd.to_datetime(insurance_data.Final_DateOfBirth)).dt.days)/365.25,0)\n",
      "C:\\Users\\hp\\AppData\\Local\\Temp\\ipykernel_2004\\3699852308.py:1: UserWarning: Parsing '22-11-1978' in DD/MM/YYYY format. Provide format or specify infer_datetime_format=True for consistent parsing.\n",
      "  insurance_data.loc[:,'AgeFinal']=round(((pd.Timestamp.today()-pd.to_datetime(insurance_data.Final_DateOfBirth)).dt.days)/365.25,0)\n",
      "C:\\Users\\hp\\AppData\\Local\\Temp\\ipykernel_2004\\3699852308.py:1: UserWarning: Parsing '17-12-1976' in DD/MM/YYYY format. Provide format or specify infer_datetime_format=True for consistent parsing.\n",
      "  insurance_data.loc[:,'AgeFinal']=round(((pd.Timestamp.today()-pd.to_datetime(insurance_data.Final_DateOfBirth)).dt.days)/365.25,0)\n",
      "C:\\Users\\hp\\AppData\\Local\\Temp\\ipykernel_2004\\3699852308.py:1: UserWarning: Parsing '14-12-1995' in DD/MM/YYYY format. Provide format or specify infer_datetime_format=True for consistent parsing.\n",
      "  insurance_data.loc[:,'AgeFinal']=round(((pd.Timestamp.today()-pd.to_datetime(insurance_data.Final_DateOfBirth)).dt.days)/365.25,0)\n",
      "C:\\Users\\hp\\AppData\\Local\\Temp\\ipykernel_2004\\3699852308.py:1: UserWarning: Parsing '14-11-1984' in DD/MM/YYYY format. Provide format or specify infer_datetime_format=True for consistent parsing.\n",
      "  insurance_data.loc[:,'AgeFinal']=round(((pd.Timestamp.today()-pd.to_datetime(insurance_data.Final_DateOfBirth)).dt.days)/365.25,0)\n",
      "C:\\Users\\hp\\AppData\\Local\\Temp\\ipykernel_2004\\3699852308.py:1: UserWarning: Parsing '21-11-1981' in DD/MM/YYYY format. Provide format or specify infer_datetime_format=True for consistent parsing.\n",
      "  insurance_data.loc[:,'AgeFinal']=round(((pd.Timestamp.today()-pd.to_datetime(insurance_data.Final_DateOfBirth)).dt.days)/365.25,0)\n",
      "C:\\Users\\hp\\AppData\\Local\\Temp\\ipykernel_2004\\3699852308.py:1: UserWarning: Parsing '27-10-1974' in DD/MM/YYYY format. Provide format or specify infer_datetime_format=True for consistent parsing.\n",
      "  insurance_data.loc[:,'AgeFinal']=round(((pd.Timestamp.today()-pd.to_datetime(insurance_data.Final_DateOfBirth)).dt.days)/365.25,0)\n",
      "C:\\Users\\hp\\AppData\\Local\\Temp\\ipykernel_2004\\3699852308.py:1: UserWarning: Parsing '17-12-1964' in DD/MM/YYYY format. Provide format or specify infer_datetime_format=True for consistent parsing.\n",
      "  insurance_data.loc[:,'AgeFinal']=round(((pd.Timestamp.today()-pd.to_datetime(insurance_data.Final_DateOfBirth)).dt.days)/365.25,0)\n",
      "C:\\Users\\hp\\AppData\\Local\\Temp\\ipykernel_2004\\3699852308.py:1: UserWarning: Parsing '18-10-1972' in DD/MM/YYYY format. Provide format or specify infer_datetime_format=True for consistent parsing.\n",
      "  insurance_data.loc[:,'AgeFinal']=round(((pd.Timestamp.today()-pd.to_datetime(insurance_data.Final_DateOfBirth)).dt.days)/365.25,0)\n",
      "C:\\Users\\hp\\AppData\\Local\\Temp\\ipykernel_2004\\3699852308.py:1: UserWarning: Parsing '17-10-1986' in DD/MM/YYYY format. Provide format or specify infer_datetime_format=True for consistent parsing.\n",
      "  insurance_data.loc[:,'AgeFinal']=round(((pd.Timestamp.today()-pd.to_datetime(insurance_data.Final_DateOfBirth)).dt.days)/365.25,0)\n",
      "C:\\Users\\hp\\AppData\\Local\\Temp\\ipykernel_2004\\3699852308.py:1: UserWarning: Parsing '27-12-1975' in DD/MM/YYYY format. Provide format or specify infer_datetime_format=True for consistent parsing.\n",
      "  insurance_data.loc[:,'AgeFinal']=round(((pd.Timestamp.today()-pd.to_datetime(insurance_data.Final_DateOfBirth)).dt.days)/365.25,0)\n",
      "C:\\Users\\hp\\AppData\\Local\\Temp\\ipykernel_2004\\3699852308.py:1: UserWarning: Parsing '29-10-1984' in DD/MM/YYYY format. Provide format or specify infer_datetime_format=True for consistent parsing.\n",
      "  insurance_data.loc[:,'AgeFinal']=round(((pd.Timestamp.today()-pd.to_datetime(insurance_data.Final_DateOfBirth)).dt.days)/365.25,0)\n",
      "C:\\Users\\hp\\AppData\\Local\\Temp\\ipykernel_2004\\3699852308.py:1: UserWarning: Parsing '20-12-1966' in DD/MM/YYYY format. Provide format or specify infer_datetime_format=True for consistent parsing.\n",
      "  insurance_data.loc[:,'AgeFinal']=round(((pd.Timestamp.today()-pd.to_datetime(insurance_data.Final_DateOfBirth)).dt.days)/365.25,0)\n",
      "C:\\Users\\hp\\AppData\\Local\\Temp\\ipykernel_2004\\3699852308.py:1: UserWarning: Parsing '23-10-1984' in DD/MM/YYYY format. Provide format or specify infer_datetime_format=True for consistent parsing.\n",
      "  insurance_data.loc[:,'AgeFinal']=round(((pd.Timestamp.today()-pd.to_datetime(insurance_data.Final_DateOfBirth)).dt.days)/365.25,0)\n",
      "C:\\Users\\hp\\AppData\\Local\\Temp\\ipykernel_2004\\3699852308.py:1: UserWarning: Parsing '17-12-1975' in DD/MM/YYYY format. Provide format or specify infer_datetime_format=True for consistent parsing.\n",
      "  insurance_data.loc[:,'AgeFinal']=round(((pd.Timestamp.today()-pd.to_datetime(insurance_data.Final_DateOfBirth)).dt.days)/365.25,0)\n",
      "C:\\Users\\hp\\AppData\\Local\\Temp\\ipykernel_2004\\3699852308.py:1: UserWarning: Parsing '23-11-1973' in DD/MM/YYYY format. Provide format or specify infer_datetime_format=True for consistent parsing.\n",
      "  insurance_data.loc[:,'AgeFinal']=round(((pd.Timestamp.today()-pd.to_datetime(insurance_data.Final_DateOfBirth)).dt.days)/365.25,0)\n",
      "C:\\Users\\hp\\AppData\\Local\\Temp\\ipykernel_2004\\3699852308.py:1: UserWarning: Parsing '18-11-1997' in DD/MM/YYYY format. Provide format or specify infer_datetime_format=True for consistent parsing.\n",
      "  insurance_data.loc[:,'AgeFinal']=round(((pd.Timestamp.today()-pd.to_datetime(insurance_data.Final_DateOfBirth)).dt.days)/365.25,0)\n",
      "C:\\Users\\hp\\AppData\\Local\\Temp\\ipykernel_2004\\3699852308.py:1: UserWarning: Parsing '18-11-1965' in DD/MM/YYYY format. Provide format or specify infer_datetime_format=True for consistent parsing.\n",
      "  insurance_data.loc[:,'AgeFinal']=round(((pd.Timestamp.today()-pd.to_datetime(insurance_data.Final_DateOfBirth)).dt.days)/365.25,0)\n",
      "C:\\Users\\hp\\AppData\\Local\\Temp\\ipykernel_2004\\3699852308.py:1: UserWarning: Parsing '25-11-1998' in DD/MM/YYYY format. Provide format or specify infer_datetime_format=True for consistent parsing.\n",
      "  insurance_data.loc[:,'AgeFinal']=round(((pd.Timestamp.today()-pd.to_datetime(insurance_data.Final_DateOfBirth)).dt.days)/365.25,0)\n",
      "C:\\Users\\hp\\AppData\\Local\\Temp\\ipykernel_2004\\3699852308.py:1: UserWarning: Parsing '22-12-1976' in DD/MM/YYYY format. Provide format or specify infer_datetime_format=True for consistent parsing.\n",
      "  insurance_data.loc[:,'AgeFinal']=round(((pd.Timestamp.today()-pd.to_datetime(insurance_data.Final_DateOfBirth)).dt.days)/365.25,0)\n",
      "C:\\Users\\hp\\AppData\\Local\\Temp\\ipykernel_2004\\3699852308.py:1: UserWarning: Parsing '27-12-1993' in DD/MM/YYYY format. Provide format or specify infer_datetime_format=True for consistent parsing.\n",
      "  insurance_data.loc[:,'AgeFinal']=round(((pd.Timestamp.today()-pd.to_datetime(insurance_data.Final_DateOfBirth)).dt.days)/365.25,0)\n",
      "C:\\Users\\hp\\AppData\\Local\\Temp\\ipykernel_2004\\3699852308.py:1: UserWarning: Parsing '26-12-1972' in DD/MM/YYYY format. Provide format or specify infer_datetime_format=True for consistent parsing.\n",
      "  insurance_data.loc[:,'AgeFinal']=round(((pd.Timestamp.today()-pd.to_datetime(insurance_data.Final_DateOfBirth)).dt.days)/365.25,0)\n",
      "C:\\Users\\hp\\AppData\\Local\\Temp\\ipykernel_2004\\3699852308.py:1: UserWarning: Parsing '27-12-1999' in DD/MM/YYYY format. Provide format or specify infer_datetime_format=True for consistent parsing.\n",
      "  insurance_data.loc[:,'AgeFinal']=round(((pd.Timestamp.today()-pd.to_datetime(insurance_data.Final_DateOfBirth)).dt.days)/365.25,0)\n",
      "C:\\Users\\hp\\AppData\\Local\\Temp\\ipykernel_2004\\3699852308.py:1: UserWarning: Parsing '16-12-1981' in DD/MM/YYYY format. Provide format or specify infer_datetime_format=True for consistent parsing.\n",
      "  insurance_data.loc[:,'AgeFinal']=round(((pd.Timestamp.today()-pd.to_datetime(insurance_data.Final_DateOfBirth)).dt.days)/365.25,0)\n",
      "C:\\Users\\hp\\AppData\\Local\\Temp\\ipykernel_2004\\3699852308.py:1: UserWarning: Parsing '29-10-1974' in DD/MM/YYYY format. Provide format or specify infer_datetime_format=True for consistent parsing.\n",
      "  insurance_data.loc[:,'AgeFinal']=round(((pd.Timestamp.today()-pd.to_datetime(insurance_data.Final_DateOfBirth)).dt.days)/365.25,0)\n",
      "C:\\Users\\hp\\AppData\\Local\\Temp\\ipykernel_2004\\3699852308.py:1: UserWarning: Parsing '27-10-1995' in DD/MM/YYYY format. Provide format or specify infer_datetime_format=True for consistent parsing.\n",
      "  insurance_data.loc[:,'AgeFinal']=round(((pd.Timestamp.today()-pd.to_datetime(insurance_data.Final_DateOfBirth)).dt.days)/365.25,0)\n",
      "C:\\Users\\hp\\AppData\\Local\\Temp\\ipykernel_2004\\3699852308.py:1: UserWarning: Parsing '28-12-1962' in DD/MM/YYYY format. Provide format or specify infer_datetime_format=True for consistent parsing.\n",
      "  insurance_data.loc[:,'AgeFinal']=round(((pd.Timestamp.today()-pd.to_datetime(insurance_data.Final_DateOfBirth)).dt.days)/365.25,0)\n",
      "C:\\Users\\hp\\AppData\\Local\\Temp\\ipykernel_2004\\3699852308.py:1: UserWarning: Parsing '17-11-1963' in DD/MM/YYYY format. Provide format or specify infer_datetime_format=True for consistent parsing.\n",
      "  insurance_data.loc[:,'AgeFinal']=round(((pd.Timestamp.today()-pd.to_datetime(insurance_data.Final_DateOfBirth)).dt.days)/365.25,0)\n",
      "C:\\Users\\hp\\AppData\\Local\\Temp\\ipykernel_2004\\3699852308.py:1: UserWarning: Parsing '15-12-1968' in DD/MM/YYYY format. Provide format or specify infer_datetime_format=True for consistent parsing.\n",
      "  insurance_data.loc[:,'AgeFinal']=round(((pd.Timestamp.today()-pd.to_datetime(insurance_data.Final_DateOfBirth)).dt.days)/365.25,0)\n",
      "C:\\Users\\hp\\AppData\\Local\\Temp\\ipykernel_2004\\3699852308.py:1: UserWarning: Parsing '23-12-1982' in DD/MM/YYYY format. Provide format or specify infer_datetime_format=True for consistent parsing.\n",
      "  insurance_data.loc[:,'AgeFinal']=round(((pd.Timestamp.today()-pd.to_datetime(insurance_data.Final_DateOfBirth)).dt.days)/365.25,0)\n",
      "C:\\Users\\hp\\AppData\\Local\\Temp\\ipykernel_2004\\3699852308.py:1: UserWarning: Parsing '16-11-1971' in DD/MM/YYYY format. Provide format or specify infer_datetime_format=True for consistent parsing.\n",
      "  insurance_data.loc[:,'AgeFinal']=round(((pd.Timestamp.today()-pd.to_datetime(insurance_data.Final_DateOfBirth)).dt.days)/365.25,0)\n",
      "C:\\Users\\hp\\AppData\\Local\\Temp\\ipykernel_2004\\3699852308.py:1: UserWarning: Parsing '17-12-1994' in DD/MM/YYYY format. Provide format or specify infer_datetime_format=True for consistent parsing.\n",
      "  insurance_data.loc[:,'AgeFinal']=round(((pd.Timestamp.today()-pd.to_datetime(insurance_data.Final_DateOfBirth)).dt.days)/365.25,0)\n",
      "C:\\Users\\hp\\AppData\\Local\\Temp\\ipykernel_2004\\3699852308.py:1: UserWarning: Parsing '18-11-1963' in DD/MM/YYYY format. Provide format or specify infer_datetime_format=True for consistent parsing.\n",
      "  insurance_data.loc[:,'AgeFinal']=round(((pd.Timestamp.today()-pd.to_datetime(insurance_data.Final_DateOfBirth)).dt.days)/365.25,0)\n",
      "C:\\Users\\hp\\AppData\\Local\\Temp\\ipykernel_2004\\3699852308.py:1: UserWarning: Parsing '23-11-1993' in DD/MM/YYYY format. Provide format or specify infer_datetime_format=True for consistent parsing.\n",
      "  insurance_data.loc[:,'AgeFinal']=round(((pd.Timestamp.today()-pd.to_datetime(insurance_data.Final_DateOfBirth)).dt.days)/365.25,0)\n",
      "C:\\Users\\hp\\AppData\\Local\\Temp\\ipykernel_2004\\3699852308.py:1: UserWarning: Parsing '22-10-1986' in DD/MM/YYYY format. Provide format or specify infer_datetime_format=True for consistent parsing.\n",
      "  insurance_data.loc[:,'AgeFinal']=round(((pd.Timestamp.today()-pd.to_datetime(insurance_data.Final_DateOfBirth)).dt.days)/365.25,0)\n",
      "C:\\Users\\hp\\AppData\\Local\\Temp\\ipykernel_2004\\3699852308.py:1: UserWarning: Parsing '30-11-1991' in DD/MM/YYYY format. Provide format or specify infer_datetime_format=True for consistent parsing.\n",
      "  insurance_data.loc[:,'AgeFinal']=round(((pd.Timestamp.today()-pd.to_datetime(insurance_data.Final_DateOfBirth)).dt.days)/365.25,0)\n",
      "C:\\Users\\hp\\AppData\\Local\\Temp\\ipykernel_2004\\3699852308.py:1: UserWarning: Parsing '25-10-1970' in DD/MM/YYYY format. Provide format or specify infer_datetime_format=True for consistent parsing.\n",
      "  insurance_data.loc[:,'AgeFinal']=round(((pd.Timestamp.today()-pd.to_datetime(insurance_data.Final_DateOfBirth)).dt.days)/365.25,0)\n",
      "C:\\Users\\hp\\AppData\\Local\\Temp\\ipykernel_2004\\3699852308.py:1: UserWarning: Parsing '26-12-1963' in DD/MM/YYYY format. Provide format or specify infer_datetime_format=True for consistent parsing.\n",
      "  insurance_data.loc[:,'AgeFinal']=round(((pd.Timestamp.today()-pd.to_datetime(insurance_data.Final_DateOfBirth)).dt.days)/365.25,0)\n",
      "C:\\Users\\hp\\AppData\\Local\\Temp\\ipykernel_2004\\3699852308.py:1: UserWarning: Parsing '13-10-1985' in DD/MM/YYYY format. Provide format or specify infer_datetime_format=True for consistent parsing.\n",
      "  insurance_data.loc[:,'AgeFinal']=round(((pd.Timestamp.today()-pd.to_datetime(insurance_data.Final_DateOfBirth)).dt.days)/365.25,0)\n",
      "C:\\Users\\hp\\AppData\\Local\\Temp\\ipykernel_2004\\3699852308.py:1: UserWarning: Parsing '19-11-1980' in DD/MM/YYYY format. Provide format or specify infer_datetime_format=True for consistent parsing.\n",
      "  insurance_data.loc[:,'AgeFinal']=round(((pd.Timestamp.today()-pd.to_datetime(insurance_data.Final_DateOfBirth)).dt.days)/365.25,0)\n",
      "C:\\Users\\hp\\AppData\\Local\\Temp\\ipykernel_2004\\3699852308.py:1: UserWarning: Parsing '28-11-1999' in DD/MM/YYYY format. Provide format or specify infer_datetime_format=True for consistent parsing.\n",
      "  insurance_data.loc[:,'AgeFinal']=round(((pd.Timestamp.today()-pd.to_datetime(insurance_data.Final_DateOfBirth)).dt.days)/365.25,0)\n",
      "C:\\Users\\hp\\AppData\\Local\\Temp\\ipykernel_2004\\3699852308.py:1: UserWarning: Parsing '18-12-1976' in DD/MM/YYYY format. Provide format or specify infer_datetime_format=True for consistent parsing.\n",
      "  insurance_data.loc[:,'AgeFinal']=round(((pd.Timestamp.today()-pd.to_datetime(insurance_data.Final_DateOfBirth)).dt.days)/365.25,0)\n",
      "C:\\Users\\hp\\AppData\\Local\\Temp\\ipykernel_2004\\3699852308.py:1: UserWarning: Parsing '15-10-1982' in DD/MM/YYYY format. Provide format or specify infer_datetime_format=True for consistent parsing.\n",
      "  insurance_data.loc[:,'AgeFinal']=round(((pd.Timestamp.today()-pd.to_datetime(insurance_data.Final_DateOfBirth)).dt.days)/365.25,0)\n",
      "C:\\Users\\hp\\AppData\\Local\\Temp\\ipykernel_2004\\3699852308.py:1: UserWarning: Parsing '29-11-1963' in DD/MM/YYYY format. Provide format or specify infer_datetime_format=True for consistent parsing.\n",
      "  insurance_data.loc[:,'AgeFinal']=round(((pd.Timestamp.today()-pd.to_datetime(insurance_data.Final_DateOfBirth)).dt.days)/365.25,0)\n",
      "C:\\Users\\hp\\AppData\\Local\\Temp\\ipykernel_2004\\3699852308.py:1: UserWarning: Parsing '31-12-1978' in DD/MM/YYYY format. Provide format or specify infer_datetime_format=True for consistent parsing.\n",
      "  insurance_data.loc[:,'AgeFinal']=round(((pd.Timestamp.today()-pd.to_datetime(insurance_data.Final_DateOfBirth)).dt.days)/365.25,0)\n",
      "C:\\Users\\hp\\AppData\\Local\\Temp\\ipykernel_2004\\3699852308.py:1: UserWarning: Parsing '14-12-1985' in DD/MM/YYYY format. Provide format or specify infer_datetime_format=True for consistent parsing.\n",
      "  insurance_data.loc[:,'AgeFinal']=round(((pd.Timestamp.today()-pd.to_datetime(insurance_data.Final_DateOfBirth)).dt.days)/365.25,0)\n",
      "C:\\Users\\hp\\AppData\\Local\\Temp\\ipykernel_2004\\3699852308.py:1: UserWarning: Parsing '22-12-1965' in DD/MM/YYYY format. Provide format or specify infer_datetime_format=True for consistent parsing.\n",
      "  insurance_data.loc[:,'AgeFinal']=round(((pd.Timestamp.today()-pd.to_datetime(insurance_data.Final_DateOfBirth)).dt.days)/365.25,0)\n",
      "C:\\Users\\hp\\AppData\\Local\\Temp\\ipykernel_2004\\3699852308.py:1: UserWarning: Parsing '17-12-1979' in DD/MM/YYYY format. Provide format or specify infer_datetime_format=True for consistent parsing.\n",
      "  insurance_data.loc[:,'AgeFinal']=round(((pd.Timestamp.today()-pd.to_datetime(insurance_data.Final_DateOfBirth)).dt.days)/365.25,0)\n",
      "C:\\Users\\hp\\AppData\\Local\\Temp\\ipykernel_2004\\3699852308.py:1: UserWarning: Parsing '22-11-1984' in DD/MM/YYYY format. Provide format or specify infer_datetime_format=True for consistent parsing.\n",
      "  insurance_data.loc[:,'AgeFinal']=round(((pd.Timestamp.today()-pd.to_datetime(insurance_data.Final_DateOfBirth)).dt.days)/365.25,0)\n",
      "C:\\Users\\hp\\AppData\\Local\\Temp\\ipykernel_2004\\3699852308.py:1: UserWarning: Parsing '23-10-1980' in DD/MM/YYYY format. Provide format or specify infer_datetime_format=True for consistent parsing.\n",
      "  insurance_data.loc[:,'AgeFinal']=round(((pd.Timestamp.today()-pd.to_datetime(insurance_data.Final_DateOfBirth)).dt.days)/365.25,0)\n",
      "C:\\Users\\hp\\AppData\\Local\\Temp\\ipykernel_2004\\3699852308.py:1: UserWarning: Parsing '25-11-1967' in DD/MM/YYYY format. Provide format or specify infer_datetime_format=True for consistent parsing.\n",
      "  insurance_data.loc[:,'AgeFinal']=round(((pd.Timestamp.today()-pd.to_datetime(insurance_data.Final_DateOfBirth)).dt.days)/365.25,0)\n",
      "C:\\Users\\hp\\AppData\\Local\\Temp\\ipykernel_2004\\3699852308.py:1: UserWarning: Parsing '21-11-1980' in DD/MM/YYYY format. Provide format or specify infer_datetime_format=True for consistent parsing.\n",
      "  insurance_data.loc[:,'AgeFinal']=round(((pd.Timestamp.today()-pd.to_datetime(insurance_data.Final_DateOfBirth)).dt.days)/365.25,0)\n",
      "C:\\Users\\hp\\AppData\\Local\\Temp\\ipykernel_2004\\3699852308.py:1: UserWarning: Parsing '18-11-1961' in DD/MM/YYYY format. Provide format or specify infer_datetime_format=True for consistent parsing.\n",
      "  insurance_data.loc[:,'AgeFinal']=round(((pd.Timestamp.today()-pd.to_datetime(insurance_data.Final_DateOfBirth)).dt.days)/365.25,0)\n",
      "C:\\Users\\hp\\AppData\\Local\\Temp\\ipykernel_2004\\3699852308.py:1: UserWarning: Parsing '14-11-1982' in DD/MM/YYYY format. Provide format or specify infer_datetime_format=True for consistent parsing.\n",
      "  insurance_data.loc[:,'AgeFinal']=round(((pd.Timestamp.today()-pd.to_datetime(insurance_data.Final_DateOfBirth)).dt.days)/365.25,0)\n",
      "C:\\Users\\hp\\AppData\\Local\\Temp\\ipykernel_2004\\3699852308.py:1: UserWarning: Parsing '22-12-1985' in DD/MM/YYYY format. Provide format or specify infer_datetime_format=True for consistent parsing.\n",
      "  insurance_data.loc[:,'AgeFinal']=round(((pd.Timestamp.today()-pd.to_datetime(insurance_data.Final_DateOfBirth)).dt.days)/365.25,0)\n",
      "C:\\Users\\hp\\AppData\\Local\\Temp\\ipykernel_2004\\3699852308.py:1: UserWarning: Parsing '30-12-1985' in DD/MM/YYYY format. Provide format or specify infer_datetime_format=True for consistent parsing.\n",
      "  insurance_data.loc[:,'AgeFinal']=round(((pd.Timestamp.today()-pd.to_datetime(insurance_data.Final_DateOfBirth)).dt.days)/365.25,0)\n",
      "C:\\Users\\hp\\AppData\\Local\\Temp\\ipykernel_2004\\3699852308.py:1: UserWarning: Parsing '28-10-1987' in DD/MM/YYYY format. Provide format or specify infer_datetime_format=True for consistent parsing.\n",
      "  insurance_data.loc[:,'AgeFinal']=round(((pd.Timestamp.today()-pd.to_datetime(insurance_data.Final_DateOfBirth)).dt.days)/365.25,0)\n",
      "C:\\Users\\hp\\AppData\\Local\\Temp\\ipykernel_2004\\3699852308.py:1: UserWarning: Parsing '29-10-1996' in DD/MM/YYYY format. Provide format or specify infer_datetime_format=True for consistent parsing.\n",
      "  insurance_data.loc[:,'AgeFinal']=round(((pd.Timestamp.today()-pd.to_datetime(insurance_data.Final_DateOfBirth)).dt.days)/365.25,0)\n",
      "C:\\Users\\hp\\AppData\\Local\\Temp\\ipykernel_2004\\3699852308.py:1: UserWarning: Parsing '23-12-1971' in DD/MM/YYYY format. Provide format or specify infer_datetime_format=True for consistent parsing.\n",
      "  insurance_data.loc[:,'AgeFinal']=round(((pd.Timestamp.today()-pd.to_datetime(insurance_data.Final_DateOfBirth)).dt.days)/365.25,0)\n",
      "C:\\Users\\hp\\AppData\\Local\\Temp\\ipykernel_2004\\3699852308.py:1: UserWarning: Parsing '21-10-1991' in DD/MM/YYYY format. Provide format or specify infer_datetime_format=True for consistent parsing.\n",
      "  insurance_data.loc[:,'AgeFinal']=round(((pd.Timestamp.today()-pd.to_datetime(insurance_data.Final_DateOfBirth)).dt.days)/365.25,0)\n",
      "C:\\Users\\hp\\AppData\\Local\\Temp\\ipykernel_2004\\3699852308.py:1: UserWarning: Parsing '29-10-1963' in DD/MM/YYYY format. Provide format or specify infer_datetime_format=True for consistent parsing.\n",
      "  insurance_data.loc[:,'AgeFinal']=round(((pd.Timestamp.today()-pd.to_datetime(insurance_data.Final_DateOfBirth)).dt.days)/365.25,0)\n",
      "C:\\Users\\hp\\AppData\\Local\\Temp\\ipykernel_2004\\3699852308.py:1: UserWarning: Parsing '26-10-1988' in DD/MM/YYYY format. Provide format or specify infer_datetime_format=True for consistent parsing.\n",
      "  insurance_data.loc[:,'AgeFinal']=round(((pd.Timestamp.today()-pd.to_datetime(insurance_data.Final_DateOfBirth)).dt.days)/365.25,0)\n",
      "C:\\Users\\hp\\AppData\\Local\\Temp\\ipykernel_2004\\3699852308.py:1: UserWarning: Parsing '26-10-1982' in DD/MM/YYYY format. Provide format or specify infer_datetime_format=True for consistent parsing.\n",
      "  insurance_data.loc[:,'AgeFinal']=round(((pd.Timestamp.today()-pd.to_datetime(insurance_data.Final_DateOfBirth)).dt.days)/365.25,0)\n",
      "C:\\Users\\hp\\AppData\\Local\\Temp\\ipykernel_2004\\3699852308.py:1: UserWarning: Parsing '21-11-1974' in DD/MM/YYYY format. Provide format or specify infer_datetime_format=True for consistent parsing.\n",
      "  insurance_data.loc[:,'AgeFinal']=round(((pd.Timestamp.today()-pd.to_datetime(insurance_data.Final_DateOfBirth)).dt.days)/365.25,0)\n",
      "C:\\Users\\hp\\AppData\\Local\\Temp\\ipykernel_2004\\3699852308.py:1: UserWarning: Parsing '16-12-1989' in DD/MM/YYYY format. Provide format or specify infer_datetime_format=True for consistent parsing.\n",
      "  insurance_data.loc[:,'AgeFinal']=round(((pd.Timestamp.today()-pd.to_datetime(insurance_data.Final_DateOfBirth)).dt.days)/365.25,0)\n",
      "C:\\Users\\hp\\AppData\\Local\\Temp\\ipykernel_2004\\3699852308.py:1: UserWarning: Parsing '25-10-1999' in DD/MM/YYYY format. Provide format or specify infer_datetime_format=True for consistent parsing.\n",
      "  insurance_data.loc[:,'AgeFinal']=round(((pd.Timestamp.today()-pd.to_datetime(insurance_data.Final_DateOfBirth)).dt.days)/365.25,0)\n",
      "C:\\Users\\hp\\AppData\\Local\\Temp\\ipykernel_2004\\3699852308.py:1: UserWarning: Parsing '22-10-1964' in DD/MM/YYYY format. Provide format or specify infer_datetime_format=True for consistent parsing.\n",
      "  insurance_data.loc[:,'AgeFinal']=round(((pd.Timestamp.today()-pd.to_datetime(insurance_data.Final_DateOfBirth)).dt.days)/365.25,0)\n",
      "C:\\Users\\hp\\AppData\\Local\\Temp\\ipykernel_2004\\3699852308.py:1: UserWarning: Parsing '23-11-1967' in DD/MM/YYYY format. Provide format or specify infer_datetime_format=True for consistent parsing.\n",
      "  insurance_data.loc[:,'AgeFinal']=round(((pd.Timestamp.today()-pd.to_datetime(insurance_data.Final_DateOfBirth)).dt.days)/365.25,0)\n",
      "C:\\Users\\hp\\AppData\\Local\\Temp\\ipykernel_2004\\3699852308.py:1: UserWarning: Parsing '21-10-1968' in DD/MM/YYYY format. Provide format or specify infer_datetime_format=True for consistent parsing.\n",
      "  insurance_data.loc[:,'AgeFinal']=round(((pd.Timestamp.today()-pd.to_datetime(insurance_data.Final_DateOfBirth)).dt.days)/365.25,0)\n",
      "C:\\Users\\hp\\AppData\\Local\\Temp\\ipykernel_2004\\3699852308.py:1: UserWarning: Parsing '16-11-1972' in DD/MM/YYYY format. Provide format or specify infer_datetime_format=True for consistent parsing.\n",
      "  insurance_data.loc[:,'AgeFinal']=round(((pd.Timestamp.today()-pd.to_datetime(insurance_data.Final_DateOfBirth)).dt.days)/365.25,0)\n",
      "C:\\Users\\hp\\AppData\\Local\\Temp\\ipykernel_2004\\3699852308.py:1: UserWarning: Parsing '28-11-1983' in DD/MM/YYYY format. Provide format or specify infer_datetime_format=True for consistent parsing.\n",
      "  insurance_data.loc[:,'AgeFinal']=round(((pd.Timestamp.today()-pd.to_datetime(insurance_data.Final_DateOfBirth)).dt.days)/365.25,0)\n",
      "C:\\Users\\hp\\AppData\\Local\\Temp\\ipykernel_2004\\3699852308.py:1: UserWarning: Parsing '16-10-1971' in DD/MM/YYYY format. Provide format or specify infer_datetime_format=True for consistent parsing.\n",
      "  insurance_data.loc[:,'AgeFinal']=round(((pd.Timestamp.today()-pd.to_datetime(insurance_data.Final_DateOfBirth)).dt.days)/365.25,0)\n",
      "C:\\Users\\hp\\AppData\\Local\\Temp\\ipykernel_2004\\3699852308.py:1: UserWarning: Parsing '16-11-1969' in DD/MM/YYYY format. Provide format or specify infer_datetime_format=True for consistent parsing.\n",
      "  insurance_data.loc[:,'AgeFinal']=round(((pd.Timestamp.today()-pd.to_datetime(insurance_data.Final_DateOfBirth)).dt.days)/365.25,0)\n",
      "C:\\Users\\hp\\AppData\\Local\\Temp\\ipykernel_2004\\3699852308.py:1: UserWarning: Parsing '14-10-1972' in DD/MM/YYYY format. Provide format or specify infer_datetime_format=True for consistent parsing.\n",
      "  insurance_data.loc[:,'AgeFinal']=round(((pd.Timestamp.today()-pd.to_datetime(insurance_data.Final_DateOfBirth)).dt.days)/365.25,0)\n",
      "C:\\Users\\hp\\AppData\\Local\\Temp\\ipykernel_2004\\3699852308.py:1: UserWarning: Parsing '21-10-1997' in DD/MM/YYYY format. Provide format or specify infer_datetime_format=True for consistent parsing.\n",
      "  insurance_data.loc[:,'AgeFinal']=round(((pd.Timestamp.today()-pd.to_datetime(insurance_data.Final_DateOfBirth)).dt.days)/365.25,0)\n",
      "C:\\Users\\hp\\AppData\\Local\\Temp\\ipykernel_2004\\3699852308.py:1: UserWarning: Parsing '18-11-1970' in DD/MM/YYYY format. Provide format or specify infer_datetime_format=True for consistent parsing.\n",
      "  insurance_data.loc[:,'AgeFinal']=round(((pd.Timestamp.today()-pd.to_datetime(insurance_data.Final_DateOfBirth)).dt.days)/365.25,0)\n",
      "C:\\Users\\hp\\AppData\\Local\\Temp\\ipykernel_2004\\3699852308.py:1: UserWarning: Parsing '28-12-1996' in DD/MM/YYYY format. Provide format or specify infer_datetime_format=True for consistent parsing.\n",
      "  insurance_data.loc[:,'AgeFinal']=round(((pd.Timestamp.today()-pd.to_datetime(insurance_data.Final_DateOfBirth)).dt.days)/365.25,0)\n",
      "C:\\Users\\hp\\AppData\\Local\\Temp\\ipykernel_2004\\3699852308.py:1: UserWarning: Parsing '21-12-1962' in DD/MM/YYYY format. Provide format or specify infer_datetime_format=True for consistent parsing.\n",
      "  insurance_data.loc[:,'AgeFinal']=round(((pd.Timestamp.today()-pd.to_datetime(insurance_data.Final_DateOfBirth)).dt.days)/365.25,0)\n",
      "C:\\Users\\hp\\AppData\\Local\\Temp\\ipykernel_2004\\3699852308.py:1: UserWarning: Parsing '17-11-1982' in DD/MM/YYYY format. Provide format or specify infer_datetime_format=True for consistent parsing.\n",
      "  insurance_data.loc[:,'AgeFinal']=round(((pd.Timestamp.today()-pd.to_datetime(insurance_data.Final_DateOfBirth)).dt.days)/365.25,0)\n",
      "C:\\Users\\hp\\AppData\\Local\\Temp\\ipykernel_2004\\3699852308.py:1: UserWarning: Parsing '29-11-1967' in DD/MM/YYYY format. Provide format or specify infer_datetime_format=True for consistent parsing.\n",
      "  insurance_data.loc[:,'AgeFinal']=round(((pd.Timestamp.today()-pd.to_datetime(insurance_data.Final_DateOfBirth)).dt.days)/365.25,0)\n",
      "C:\\Users\\hp\\AppData\\Local\\Temp\\ipykernel_2004\\3699852308.py:1: UserWarning: Parsing '22-11-1964' in DD/MM/YYYY format. Provide format or specify infer_datetime_format=True for consistent parsing.\n",
      "  insurance_data.loc[:,'AgeFinal']=round(((pd.Timestamp.today()-pd.to_datetime(insurance_data.Final_DateOfBirth)).dt.days)/365.25,0)\n",
      "C:\\Users\\hp\\AppData\\Local\\Temp\\ipykernel_2004\\3699852308.py:1: UserWarning: Parsing '24-11-1989' in DD/MM/YYYY format. Provide format or specify infer_datetime_format=True for consistent parsing.\n",
      "  insurance_data.loc[:,'AgeFinal']=round(((pd.Timestamp.today()-pd.to_datetime(insurance_data.Final_DateOfBirth)).dt.days)/365.25,0)\n",
      "C:\\Users\\hp\\AppData\\Local\\Temp\\ipykernel_2004\\3699852308.py:1: UserWarning: Parsing '21-12-1970' in DD/MM/YYYY format. Provide format or specify infer_datetime_format=True for consistent parsing.\n",
      "  insurance_data.loc[:,'AgeFinal']=round(((pd.Timestamp.today()-pd.to_datetime(insurance_data.Final_DateOfBirth)).dt.days)/365.25,0)\n",
      "C:\\Users\\hp\\AppData\\Local\\Temp\\ipykernel_2004\\3699852308.py:1: UserWarning: Parsing '21-12-1977' in DD/MM/YYYY format. Provide format or specify infer_datetime_format=True for consistent parsing.\n",
      "  insurance_data.loc[:,'AgeFinal']=round(((pd.Timestamp.today()-pd.to_datetime(insurance_data.Final_DateOfBirth)).dt.days)/365.25,0)\n",
      "C:\\Users\\hp\\AppData\\Local\\Temp\\ipykernel_2004\\3699852308.py:1: UserWarning: Parsing '18-12-1964' in DD/MM/YYYY format. Provide format or specify infer_datetime_format=True for consistent parsing.\n",
      "  insurance_data.loc[:,'AgeFinal']=round(((pd.Timestamp.today()-pd.to_datetime(insurance_data.Final_DateOfBirth)).dt.days)/365.25,0)\n",
      "C:\\Users\\hp\\AppData\\Local\\Temp\\ipykernel_2004\\3699852308.py:1: UserWarning: Parsing '22-11-1994' in DD/MM/YYYY format. Provide format or specify infer_datetime_format=True for consistent parsing.\n",
      "  insurance_data.loc[:,'AgeFinal']=round(((pd.Timestamp.today()-pd.to_datetime(insurance_data.Final_DateOfBirth)).dt.days)/365.25,0)\n",
      "C:\\Users\\hp\\AppData\\Local\\Temp\\ipykernel_2004\\3699852308.py:1: UserWarning: Parsing '15-11-1987' in DD/MM/YYYY format. Provide format or specify infer_datetime_format=True for consistent parsing.\n",
      "  insurance_data.loc[:,'AgeFinal']=round(((pd.Timestamp.today()-pd.to_datetime(insurance_data.Final_DateOfBirth)).dt.days)/365.25,0)\n",
      "C:\\Users\\hp\\AppData\\Local\\Temp\\ipykernel_2004\\3699852308.py:1: UserWarning: Parsing '29-12-1994' in DD/MM/YYYY format. Provide format or specify infer_datetime_format=True for consistent parsing.\n",
      "  insurance_data.loc[:,'AgeFinal']=round(((pd.Timestamp.today()-pd.to_datetime(insurance_data.Final_DateOfBirth)).dt.days)/365.25,0)\n",
      "C:\\Users\\hp\\AppData\\Local\\Temp\\ipykernel_2004\\3699852308.py:1: UserWarning: Parsing '13-12-1962' in DD/MM/YYYY format. Provide format or specify infer_datetime_format=True for consistent parsing.\n",
      "  insurance_data.loc[:,'AgeFinal']=round(((pd.Timestamp.today()-pd.to_datetime(insurance_data.Final_DateOfBirth)).dt.days)/365.25,0)\n",
      "C:\\Users\\hp\\AppData\\Local\\Temp\\ipykernel_2004\\3699852308.py:1: UserWarning: Parsing '19-10-1984' in DD/MM/YYYY format. Provide format or specify infer_datetime_format=True for consistent parsing.\n",
      "  insurance_data.loc[:,'AgeFinal']=round(((pd.Timestamp.today()-pd.to_datetime(insurance_data.Final_DateOfBirth)).dt.days)/365.25,0)\n",
      "C:\\Users\\hp\\AppData\\Local\\Temp\\ipykernel_2004\\3699852308.py:1: UserWarning: Parsing '24-10-1961' in DD/MM/YYYY format. Provide format or specify infer_datetime_format=True for consistent parsing.\n",
      "  insurance_data.loc[:,'AgeFinal']=round(((pd.Timestamp.today()-pd.to_datetime(insurance_data.Final_DateOfBirth)).dt.days)/365.25,0)\n",
      "C:\\Users\\hp\\AppData\\Local\\Temp\\ipykernel_2004\\3699852308.py:1: UserWarning: Parsing '13-11-1971' in DD/MM/YYYY format. Provide format or specify infer_datetime_format=True for consistent parsing.\n",
      "  insurance_data.loc[:,'AgeFinal']=round(((pd.Timestamp.today()-pd.to_datetime(insurance_data.Final_DateOfBirth)).dt.days)/365.25,0)\n",
      "C:\\Users\\hp\\AppData\\Local\\Temp\\ipykernel_2004\\3699852308.py:1: UserWarning: Parsing '20-10-1976' in DD/MM/YYYY format. Provide format or specify infer_datetime_format=True for consistent parsing.\n",
      "  insurance_data.loc[:,'AgeFinal']=round(((pd.Timestamp.today()-pd.to_datetime(insurance_data.Final_DateOfBirth)).dt.days)/365.25,0)\n",
      "C:\\Users\\hp\\AppData\\Local\\Temp\\ipykernel_2004\\3699852308.py:1: UserWarning: Parsing '20-10-1982' in DD/MM/YYYY format. Provide format or specify infer_datetime_format=True for consistent parsing.\n",
      "  insurance_data.loc[:,'AgeFinal']=round(((pd.Timestamp.today()-pd.to_datetime(insurance_data.Final_DateOfBirth)).dt.days)/365.25,0)\n",
      "C:\\Users\\hp\\AppData\\Local\\Temp\\ipykernel_2004\\3699852308.py:1: UserWarning: Parsing '21-10-1964' in DD/MM/YYYY format. Provide format or specify infer_datetime_format=True for consistent parsing.\n",
      "  insurance_data.loc[:,'AgeFinal']=round(((pd.Timestamp.today()-pd.to_datetime(insurance_data.Final_DateOfBirth)).dt.days)/365.25,0)\n",
      "C:\\Users\\hp\\AppData\\Local\\Temp\\ipykernel_2004\\3699852308.py:1: UserWarning: Parsing '23-12-1980' in DD/MM/YYYY format. Provide format or specify infer_datetime_format=True for consistent parsing.\n",
      "  insurance_data.loc[:,'AgeFinal']=round(((pd.Timestamp.today()-pd.to_datetime(insurance_data.Final_DateOfBirth)).dt.days)/365.25,0)\n",
      "C:\\Users\\hp\\AppData\\Local\\Temp\\ipykernel_2004\\3699852308.py:1: UserWarning: Parsing '20-12-1981' in DD/MM/YYYY format. Provide format or specify infer_datetime_format=True for consistent parsing.\n",
      "  insurance_data.loc[:,'AgeFinal']=round(((pd.Timestamp.today()-pd.to_datetime(insurance_data.Final_DateOfBirth)).dt.days)/365.25,0)\n",
      "C:\\Users\\hp\\AppData\\Local\\Temp\\ipykernel_2004\\3699852308.py:1: UserWarning: Parsing '30-10-1984' in DD/MM/YYYY format. Provide format or specify infer_datetime_format=True for consistent parsing.\n",
      "  insurance_data.loc[:,'AgeFinal']=round(((pd.Timestamp.today()-pd.to_datetime(insurance_data.Final_DateOfBirth)).dt.days)/365.25,0)\n",
      "C:\\Users\\hp\\AppData\\Local\\Temp\\ipykernel_2004\\3699852308.py:1: UserWarning: Parsing '28-10-1967' in DD/MM/YYYY format. Provide format or specify infer_datetime_format=True for consistent parsing.\n",
      "  insurance_data.loc[:,'AgeFinal']=round(((pd.Timestamp.today()-pd.to_datetime(insurance_data.Final_DateOfBirth)).dt.days)/365.25,0)\n",
      "C:\\Users\\hp\\AppData\\Local\\Temp\\ipykernel_2004\\3699852308.py:1: UserWarning: Parsing '14-10-1990' in DD/MM/YYYY format. Provide format or specify infer_datetime_format=True for consistent parsing.\n",
      "  insurance_data.loc[:,'AgeFinal']=round(((pd.Timestamp.today()-pd.to_datetime(insurance_data.Final_DateOfBirth)).dt.days)/365.25,0)\n",
      "C:\\Users\\hp\\AppData\\Local\\Temp\\ipykernel_2004\\3699852308.py:1: UserWarning: Parsing '14-11-1965' in DD/MM/YYYY format. Provide format or specify infer_datetime_format=True for consistent parsing.\n",
      "  insurance_data.loc[:,'AgeFinal']=round(((pd.Timestamp.today()-pd.to_datetime(insurance_data.Final_DateOfBirth)).dt.days)/365.25,0)\n",
      "C:\\Users\\hp\\AppData\\Local\\Temp\\ipykernel_2004\\3699852308.py:1: UserWarning: Parsing '16-10-1986' in DD/MM/YYYY format. Provide format or specify infer_datetime_format=True for consistent parsing.\n",
      "  insurance_data.loc[:,'AgeFinal']=round(((pd.Timestamp.today()-pd.to_datetime(insurance_data.Final_DateOfBirth)).dt.days)/365.25,0)\n",
      "C:\\Users\\hp\\AppData\\Local\\Temp\\ipykernel_2004\\3699852308.py:1: UserWarning: Parsing '18-11-1960' in DD/MM/YYYY format. Provide format or specify infer_datetime_format=True for consistent parsing.\n",
      "  insurance_data.loc[:,'AgeFinal']=round(((pd.Timestamp.today()-pd.to_datetime(insurance_data.Final_DateOfBirth)).dt.days)/365.25,0)\n",
      "C:\\Users\\hp\\AppData\\Local\\Temp\\ipykernel_2004\\3699852308.py:1: UserWarning: Parsing '25-12-1969' in DD/MM/YYYY format. Provide format or specify infer_datetime_format=True for consistent parsing.\n",
      "  insurance_data.loc[:,'AgeFinal']=round(((pd.Timestamp.today()-pd.to_datetime(insurance_data.Final_DateOfBirth)).dt.days)/365.25,0)\n",
      "C:\\Users\\hp\\AppData\\Local\\Temp\\ipykernel_2004\\3699852308.py:1: UserWarning: Parsing '28-10-1995' in DD/MM/YYYY format. Provide format or specify infer_datetime_format=True for consistent parsing.\n",
      "  insurance_data.loc[:,'AgeFinal']=round(((pd.Timestamp.today()-pd.to_datetime(insurance_data.Final_DateOfBirth)).dt.days)/365.25,0)\n",
      "C:\\Users\\hp\\AppData\\Local\\Temp\\ipykernel_2004\\3699852308.py:1: UserWarning: Parsing '25-11-1994' in DD/MM/YYYY format. Provide format or specify infer_datetime_format=True for consistent parsing.\n",
      "  insurance_data.loc[:,'AgeFinal']=round(((pd.Timestamp.today()-pd.to_datetime(insurance_data.Final_DateOfBirth)).dt.days)/365.25,0)\n",
      "C:\\Users\\hp\\AppData\\Local\\Temp\\ipykernel_2004\\3699852308.py:1: UserWarning: Parsing '26-11-1989' in DD/MM/YYYY format. Provide format or specify infer_datetime_format=True for consistent parsing.\n",
      "  insurance_data.loc[:,'AgeFinal']=round(((pd.Timestamp.today()-pd.to_datetime(insurance_data.Final_DateOfBirth)).dt.days)/365.25,0)\n",
      "C:\\Users\\hp\\AppData\\Local\\Temp\\ipykernel_2004\\3699852308.py:1: UserWarning: Parsing '27-12-1971' in DD/MM/YYYY format. Provide format or specify infer_datetime_format=True for consistent parsing.\n",
      "  insurance_data.loc[:,'AgeFinal']=round(((pd.Timestamp.today()-pd.to_datetime(insurance_data.Final_DateOfBirth)).dt.days)/365.25,0)\n",
      "C:\\Users\\hp\\AppData\\Local\\Temp\\ipykernel_2004\\3699852308.py:1: UserWarning: Parsing '31-12-1967' in DD/MM/YYYY format. Provide format or specify infer_datetime_format=True for consistent parsing.\n",
      "  insurance_data.loc[:,'AgeFinal']=round(((pd.Timestamp.today()-pd.to_datetime(insurance_data.Final_DateOfBirth)).dt.days)/365.25,0)\n",
      "C:\\Users\\hp\\AppData\\Local\\Temp\\ipykernel_2004\\3699852308.py:1: UserWarning: Parsing '14-12-1998' in DD/MM/YYYY format. Provide format or specify infer_datetime_format=True for consistent parsing.\n",
      "  insurance_data.loc[:,'AgeFinal']=round(((pd.Timestamp.today()-pd.to_datetime(insurance_data.Final_DateOfBirth)).dt.days)/365.25,0)\n",
      "C:\\Users\\hp\\AppData\\Local\\Temp\\ipykernel_2004\\3699852308.py:1: UserWarning: Parsing '24-11-1971' in DD/MM/YYYY format. Provide format or specify infer_datetime_format=True for consistent parsing.\n",
      "  insurance_data.loc[:,'AgeFinal']=round(((pd.Timestamp.today()-pd.to_datetime(insurance_data.Final_DateOfBirth)).dt.days)/365.25,0)\n",
      "C:\\Users\\hp\\AppData\\Local\\Temp\\ipykernel_2004\\3699852308.py:1: UserWarning: Parsing '27-10-1994' in DD/MM/YYYY format. Provide format or specify infer_datetime_format=True for consistent parsing.\n",
      "  insurance_data.loc[:,'AgeFinal']=round(((pd.Timestamp.today()-pd.to_datetime(insurance_data.Final_DateOfBirth)).dt.days)/365.25,0)\n",
      "C:\\Users\\hp\\AppData\\Local\\Temp\\ipykernel_2004\\3699852308.py:1: UserWarning: Parsing '23-11-1975' in DD/MM/YYYY format. Provide format or specify infer_datetime_format=True for consistent parsing.\n",
      "  insurance_data.loc[:,'AgeFinal']=round(((pd.Timestamp.today()-pd.to_datetime(insurance_data.Final_DateOfBirth)).dt.days)/365.25,0)\n",
      "C:\\Users\\hp\\AppData\\Local\\Temp\\ipykernel_2004\\3699852308.py:1: UserWarning: Parsing '24-11-1967' in DD/MM/YYYY format. Provide format or specify infer_datetime_format=True for consistent parsing.\n",
      "  insurance_data.loc[:,'AgeFinal']=round(((pd.Timestamp.today()-pd.to_datetime(insurance_data.Final_DateOfBirth)).dt.days)/365.25,0)\n",
      "C:\\Users\\hp\\AppData\\Local\\Temp\\ipykernel_2004\\3699852308.py:1: UserWarning: Parsing '30-11-1973' in DD/MM/YYYY format. Provide format or specify infer_datetime_format=True for consistent parsing.\n",
      "  insurance_data.loc[:,'AgeFinal']=round(((pd.Timestamp.today()-pd.to_datetime(insurance_data.Final_DateOfBirth)).dt.days)/365.25,0)\n",
      "C:\\Users\\hp\\AppData\\Local\\Temp\\ipykernel_2004\\3699852308.py:1: UserWarning: Parsing '13-11-1965' in DD/MM/YYYY format. Provide format or specify infer_datetime_format=True for consistent parsing.\n",
      "  insurance_data.loc[:,'AgeFinal']=round(((pd.Timestamp.today()-pd.to_datetime(insurance_data.Final_DateOfBirth)).dt.days)/365.25,0)\n",
      "C:\\Users\\hp\\AppData\\Local\\Temp\\ipykernel_2004\\3699852308.py:1: UserWarning: Parsing '18-12-1989' in DD/MM/YYYY format. Provide format or specify infer_datetime_format=True for consistent parsing.\n",
      "  insurance_data.loc[:,'AgeFinal']=round(((pd.Timestamp.today()-pd.to_datetime(insurance_data.Final_DateOfBirth)).dt.days)/365.25,0)\n",
      "C:\\Users\\hp\\AppData\\Local\\Temp\\ipykernel_2004\\3699852308.py:1: UserWarning: Parsing '15-12-1989' in DD/MM/YYYY format. Provide format or specify infer_datetime_format=True for consistent parsing.\n",
      "  insurance_data.loc[:,'AgeFinal']=round(((pd.Timestamp.today()-pd.to_datetime(insurance_data.Final_DateOfBirth)).dt.days)/365.25,0)\n",
      "C:\\Users\\hp\\AppData\\Local\\Temp\\ipykernel_2004\\3699852308.py:1: UserWarning: Parsing '31-12-1998' in DD/MM/YYYY format. Provide format or specify infer_datetime_format=True for consistent parsing.\n",
      "  insurance_data.loc[:,'AgeFinal']=round(((pd.Timestamp.today()-pd.to_datetime(insurance_data.Final_DateOfBirth)).dt.days)/365.25,0)\n",
      "C:\\Users\\hp\\AppData\\Local\\Temp\\ipykernel_2004\\3699852308.py:1: UserWarning: Parsing '16-12-1999' in DD/MM/YYYY format. Provide format or specify infer_datetime_format=True for consistent parsing.\n",
      "  insurance_data.loc[:,'AgeFinal']=round(((pd.Timestamp.today()-pd.to_datetime(insurance_data.Final_DateOfBirth)).dt.days)/365.25,0)\n",
      "C:\\Users\\hp\\AppData\\Local\\Temp\\ipykernel_2004\\3699852308.py:1: UserWarning: Parsing '16-11-1985' in DD/MM/YYYY format. Provide format or specify infer_datetime_format=True for consistent parsing.\n",
      "  insurance_data.loc[:,'AgeFinal']=round(((pd.Timestamp.today()-pd.to_datetime(insurance_data.Final_DateOfBirth)).dt.days)/365.25,0)\n",
      "C:\\Users\\hp\\AppData\\Local\\Temp\\ipykernel_2004\\3699852308.py:1: UserWarning: Parsing '24-11-1994' in DD/MM/YYYY format. Provide format or specify infer_datetime_format=True for consistent parsing.\n",
      "  insurance_data.loc[:,'AgeFinal']=round(((pd.Timestamp.today()-pd.to_datetime(insurance_data.Final_DateOfBirth)).dt.days)/365.25,0)\n"
     ]
    },
    {
     "name": "stderr",
     "output_type": "stream",
     "text": [
      "C:\\Users\\hp\\AppData\\Local\\Temp\\ipykernel_2004\\3699852308.py:1: UserWarning: Parsing '31-10-1999' in DD/MM/YYYY format. Provide format or specify infer_datetime_format=True for consistent parsing.\n",
      "  insurance_data.loc[:,'AgeFinal']=round(((pd.Timestamp.today()-pd.to_datetime(insurance_data.Final_DateOfBirth)).dt.days)/365.25,0)\n",
      "C:\\Users\\hp\\AppData\\Local\\Temp\\ipykernel_2004\\3699852308.py:1: UserWarning: Parsing '13-12-1981' in DD/MM/YYYY format. Provide format or specify infer_datetime_format=True for consistent parsing.\n",
      "  insurance_data.loc[:,'AgeFinal']=round(((pd.Timestamp.today()-pd.to_datetime(insurance_data.Final_DateOfBirth)).dt.days)/365.25,0)\n",
      "C:\\Users\\hp\\AppData\\Local\\Temp\\ipykernel_2004\\3699852308.py:1: UserWarning: Parsing '14-12-1981' in DD/MM/YYYY format. Provide format or specify infer_datetime_format=True for consistent parsing.\n",
      "  insurance_data.loc[:,'AgeFinal']=round(((pd.Timestamp.today()-pd.to_datetime(insurance_data.Final_DateOfBirth)).dt.days)/365.25,0)\n",
      "C:\\Users\\hp\\AppData\\Local\\Temp\\ipykernel_2004\\3699852308.py:1: UserWarning: Parsing '22-12-1993' in DD/MM/YYYY format. Provide format or specify infer_datetime_format=True for consistent parsing.\n",
      "  insurance_data.loc[:,'AgeFinal']=round(((pd.Timestamp.today()-pd.to_datetime(insurance_data.Final_DateOfBirth)).dt.days)/365.25,0)\n",
      "C:\\Users\\hp\\AppData\\Local\\Temp\\ipykernel_2004\\3699852308.py:1: UserWarning: Parsing '20-10-1987' in DD/MM/YYYY format. Provide format or specify infer_datetime_format=True for consistent parsing.\n",
      "  insurance_data.loc[:,'AgeFinal']=round(((pd.Timestamp.today()-pd.to_datetime(insurance_data.Final_DateOfBirth)).dt.days)/365.25,0)\n",
      "C:\\Users\\hp\\AppData\\Local\\Temp\\ipykernel_2004\\3699852308.py:1: UserWarning: Parsing '15-11-1998' in DD/MM/YYYY format. Provide format or specify infer_datetime_format=True for consistent parsing.\n",
      "  insurance_data.loc[:,'AgeFinal']=round(((pd.Timestamp.today()-pd.to_datetime(insurance_data.Final_DateOfBirth)).dt.days)/365.25,0)\n",
      "C:\\Users\\hp\\AppData\\Local\\Temp\\ipykernel_2004\\3699852308.py:1: UserWarning: Parsing '21-10-1967' in DD/MM/YYYY format. Provide format or specify infer_datetime_format=True for consistent parsing.\n",
      "  insurance_data.loc[:,'AgeFinal']=round(((pd.Timestamp.today()-pd.to_datetime(insurance_data.Final_DateOfBirth)).dt.days)/365.25,0)\n",
      "C:\\Users\\hp\\AppData\\Local\\Temp\\ipykernel_2004\\3699852308.py:1: UserWarning: Parsing '22-12-1970' in DD/MM/YYYY format. Provide format or specify infer_datetime_format=True for consistent parsing.\n",
      "  insurance_data.loc[:,'AgeFinal']=round(((pd.Timestamp.today()-pd.to_datetime(insurance_data.Final_DateOfBirth)).dt.days)/365.25,0)\n",
      "C:\\Users\\hp\\AppData\\Local\\Temp\\ipykernel_2004\\3699852308.py:1: UserWarning: Parsing '14-11-1996' in DD/MM/YYYY format. Provide format or specify infer_datetime_format=True for consistent parsing.\n",
      "  insurance_data.loc[:,'AgeFinal']=round(((pd.Timestamp.today()-pd.to_datetime(insurance_data.Final_DateOfBirth)).dt.days)/365.25,0)\n",
      "C:\\Users\\hp\\AppData\\Local\\Temp\\ipykernel_2004\\3699852308.py:1: UserWarning: Parsing '18-10-1984' in DD/MM/YYYY format. Provide format or specify infer_datetime_format=True for consistent parsing.\n",
      "  insurance_data.loc[:,'AgeFinal']=round(((pd.Timestamp.today()-pd.to_datetime(insurance_data.Final_DateOfBirth)).dt.days)/365.25,0)\n",
      "C:\\Users\\hp\\AppData\\Local\\Temp\\ipykernel_2004\\3699852308.py:1: UserWarning: Parsing '15-12-1998' in DD/MM/YYYY format. Provide format or specify infer_datetime_format=True for consistent parsing.\n",
      "  insurance_data.loc[:,'AgeFinal']=round(((pd.Timestamp.today()-pd.to_datetime(insurance_data.Final_DateOfBirth)).dt.days)/365.25,0)\n",
      "C:\\Users\\hp\\AppData\\Local\\Temp\\ipykernel_2004\\3699852308.py:1: UserWarning: Parsing '16-12-1993' in DD/MM/YYYY format. Provide format or specify infer_datetime_format=True for consistent parsing.\n",
      "  insurance_data.loc[:,'AgeFinal']=round(((pd.Timestamp.today()-pd.to_datetime(insurance_data.Final_DateOfBirth)).dt.days)/365.25,0)\n",
      "C:\\Users\\hp\\AppData\\Local\\Temp\\ipykernel_2004\\3699852308.py:1: UserWarning: Parsing '24-10-1980' in DD/MM/YYYY format. Provide format or specify infer_datetime_format=True for consistent parsing.\n",
      "  insurance_data.loc[:,'AgeFinal']=round(((pd.Timestamp.today()-pd.to_datetime(insurance_data.Final_DateOfBirth)).dt.days)/365.25,0)\n",
      "C:\\Users\\hp\\AppData\\Local\\Temp\\ipykernel_2004\\3699852308.py:1: UserWarning: Parsing '19-10-1977' in DD/MM/YYYY format. Provide format or specify infer_datetime_format=True for consistent parsing.\n",
      "  insurance_data.loc[:,'AgeFinal']=round(((pd.Timestamp.today()-pd.to_datetime(insurance_data.Final_DateOfBirth)).dt.days)/365.25,0)\n",
      "C:\\Users\\hp\\AppData\\Local\\Temp\\ipykernel_2004\\3699852308.py:1: UserWarning: Parsing '13-10-1963' in DD/MM/YYYY format. Provide format or specify infer_datetime_format=True for consistent parsing.\n",
      "  insurance_data.loc[:,'AgeFinal']=round(((pd.Timestamp.today()-pd.to_datetime(insurance_data.Final_DateOfBirth)).dt.days)/365.25,0)\n",
      "C:\\Users\\hp\\AppData\\Local\\Temp\\ipykernel_2004\\3699852308.py:1: UserWarning: Parsing '22-10-1992' in DD/MM/YYYY format. Provide format or specify infer_datetime_format=True for consistent parsing.\n",
      "  insurance_data.loc[:,'AgeFinal']=round(((pd.Timestamp.today()-pd.to_datetime(insurance_data.Final_DateOfBirth)).dt.days)/365.25,0)\n",
      "C:\\Users\\hp\\AppData\\Local\\Temp\\ipykernel_2004\\3699852308.py:1: UserWarning: Parsing '27-12-1967' in DD/MM/YYYY format. Provide format or specify infer_datetime_format=True for consistent parsing.\n",
      "  insurance_data.loc[:,'AgeFinal']=round(((pd.Timestamp.today()-pd.to_datetime(insurance_data.Final_DateOfBirth)).dt.days)/365.25,0)\n",
      "C:\\Users\\hp\\AppData\\Local\\Temp\\ipykernel_2004\\3699852308.py:1: UserWarning: Parsing '27-10-1998' in DD/MM/YYYY format. Provide format or specify infer_datetime_format=True for consistent parsing.\n",
      "  insurance_data.loc[:,'AgeFinal']=round(((pd.Timestamp.today()-pd.to_datetime(insurance_data.Final_DateOfBirth)).dt.days)/365.25,0)\n",
      "C:\\Users\\hp\\AppData\\Local\\Temp\\ipykernel_2004\\3699852308.py:1: UserWarning: Parsing '24-12-1996' in DD/MM/YYYY format. Provide format or specify infer_datetime_format=True for consistent parsing.\n",
      "  insurance_data.loc[:,'AgeFinal']=round(((pd.Timestamp.today()-pd.to_datetime(insurance_data.Final_DateOfBirth)).dt.days)/365.25,0)\n",
      "C:\\Users\\hp\\AppData\\Local\\Temp\\ipykernel_2004\\3699852308.py:1: UserWarning: Parsing '15-12-1994' in DD/MM/YYYY format. Provide format or specify infer_datetime_format=True for consistent parsing.\n",
      "  insurance_data.loc[:,'AgeFinal']=round(((pd.Timestamp.today()-pd.to_datetime(insurance_data.Final_DateOfBirth)).dt.days)/365.25,0)\n",
      "C:\\Users\\hp\\AppData\\Local\\Temp\\ipykernel_2004\\3699852308.py:1: UserWarning: Parsing '18-12-1979' in DD/MM/YYYY format. Provide format or specify infer_datetime_format=True for consistent parsing.\n",
      "  insurance_data.loc[:,'AgeFinal']=round(((pd.Timestamp.today()-pd.to_datetime(insurance_data.Final_DateOfBirth)).dt.days)/365.25,0)\n",
      "C:\\Users\\hp\\AppData\\Local\\Temp\\ipykernel_2004\\3699852308.py:1: UserWarning: Parsing '29-12-1997' in DD/MM/YYYY format. Provide format or specify infer_datetime_format=True for consistent parsing.\n",
      "  insurance_data.loc[:,'AgeFinal']=round(((pd.Timestamp.today()-pd.to_datetime(insurance_data.Final_DateOfBirth)).dt.days)/365.25,0)\n",
      "C:\\Users\\hp\\AppData\\Local\\Temp\\ipykernel_2004\\3699852308.py:1: UserWarning: Parsing '18-12-1983' in DD/MM/YYYY format. Provide format or specify infer_datetime_format=True for consistent parsing.\n",
      "  insurance_data.loc[:,'AgeFinal']=round(((pd.Timestamp.today()-pd.to_datetime(insurance_data.Final_DateOfBirth)).dt.days)/365.25,0)\n",
      "C:\\Users\\hp\\AppData\\Local\\Temp\\ipykernel_2004\\3699852308.py:1: UserWarning: Parsing '30-12-1974' in DD/MM/YYYY format. Provide format or specify infer_datetime_format=True for consistent parsing.\n",
      "  insurance_data.loc[:,'AgeFinal']=round(((pd.Timestamp.today()-pd.to_datetime(insurance_data.Final_DateOfBirth)).dt.days)/365.25,0)\n",
      "C:\\Users\\hp\\AppData\\Local\\Temp\\ipykernel_2004\\3699852308.py:1: UserWarning: Parsing '28-10-1999' in DD/MM/YYYY format. Provide format or specify infer_datetime_format=True for consistent parsing.\n",
      "  insurance_data.loc[:,'AgeFinal']=round(((pd.Timestamp.today()-pd.to_datetime(insurance_data.Final_DateOfBirth)).dt.days)/365.25,0)\n",
      "C:\\Users\\hp\\AppData\\Local\\Temp\\ipykernel_2004\\3699852308.py:1: UserWarning: Parsing '20-12-1963' in DD/MM/YYYY format. Provide format or specify infer_datetime_format=True for consistent parsing.\n",
      "  insurance_data.loc[:,'AgeFinal']=round(((pd.Timestamp.today()-pd.to_datetime(insurance_data.Final_DateOfBirth)).dt.days)/365.25,0)\n",
      "C:\\Users\\hp\\AppData\\Local\\Temp\\ipykernel_2004\\3699852308.py:1: UserWarning: Parsing '23-10-1971' in DD/MM/YYYY format. Provide format or specify infer_datetime_format=True for consistent parsing.\n",
      "  insurance_data.loc[:,'AgeFinal']=round(((pd.Timestamp.today()-pd.to_datetime(insurance_data.Final_DateOfBirth)).dt.days)/365.25,0)\n",
      "C:\\Users\\hp\\AppData\\Local\\Temp\\ipykernel_2004\\3699852308.py:1: UserWarning: Parsing '23-12-1974' in DD/MM/YYYY format. Provide format or specify infer_datetime_format=True for consistent parsing.\n",
      "  insurance_data.loc[:,'AgeFinal']=round(((pd.Timestamp.today()-pd.to_datetime(insurance_data.Final_DateOfBirth)).dt.days)/365.25,0)\n",
      "C:\\Users\\hp\\AppData\\Local\\Temp\\ipykernel_2004\\3699852308.py:1: UserWarning: Parsing '30-12-1977' in DD/MM/YYYY format. Provide format or specify infer_datetime_format=True for consistent parsing.\n",
      "  insurance_data.loc[:,'AgeFinal']=round(((pd.Timestamp.today()-pd.to_datetime(insurance_data.Final_DateOfBirth)).dt.days)/365.25,0)\n",
      "C:\\Users\\hp\\AppData\\Local\\Temp\\ipykernel_2004\\3699852308.py:1: UserWarning: Parsing '28-12-1970' in DD/MM/YYYY format. Provide format or specify infer_datetime_format=True for consistent parsing.\n",
      "  insurance_data.loc[:,'AgeFinal']=round(((pd.Timestamp.today()-pd.to_datetime(insurance_data.Final_DateOfBirth)).dt.days)/365.25,0)\n",
      "C:\\Users\\hp\\AppData\\Local\\Temp\\ipykernel_2004\\3699852308.py:1: UserWarning: Parsing '16-12-1994' in DD/MM/YYYY format. Provide format or specify infer_datetime_format=True for consistent parsing.\n",
      "  insurance_data.loc[:,'AgeFinal']=round(((pd.Timestamp.today()-pd.to_datetime(insurance_data.Final_DateOfBirth)).dt.days)/365.25,0)\n",
      "C:\\Users\\hp\\AppData\\Local\\Temp\\ipykernel_2004\\3699852308.py:1: UserWarning: Parsing '22-12-1960' in DD/MM/YYYY format. Provide format or specify infer_datetime_format=True for consistent parsing.\n",
      "  insurance_data.loc[:,'AgeFinal']=round(((pd.Timestamp.today()-pd.to_datetime(insurance_data.Final_DateOfBirth)).dt.days)/365.25,0)\n",
      "C:\\Users\\hp\\AppData\\Local\\Temp\\ipykernel_2004\\3699852308.py:1: UserWarning: Parsing '14-11-1985' in DD/MM/YYYY format. Provide format or specify infer_datetime_format=True for consistent parsing.\n",
      "  insurance_data.loc[:,'AgeFinal']=round(((pd.Timestamp.today()-pd.to_datetime(insurance_data.Final_DateOfBirth)).dt.days)/365.25,0)\n",
      "C:\\Users\\hp\\AppData\\Local\\Temp\\ipykernel_2004\\3699852308.py:1: UserWarning: Parsing '14-11-1991' in DD/MM/YYYY format. Provide format or specify infer_datetime_format=True for consistent parsing.\n",
      "  insurance_data.loc[:,'AgeFinal']=round(((pd.Timestamp.today()-pd.to_datetime(insurance_data.Final_DateOfBirth)).dt.days)/365.25,0)\n",
      "C:\\Users\\hp\\AppData\\Local\\Temp\\ipykernel_2004\\3699852308.py:1: UserWarning: Parsing '16-11-1974' in DD/MM/YYYY format. Provide format or specify infer_datetime_format=True for consistent parsing.\n",
      "  insurance_data.loc[:,'AgeFinal']=round(((pd.Timestamp.today()-pd.to_datetime(insurance_data.Final_DateOfBirth)).dt.days)/365.25,0)\n",
      "C:\\Users\\hp\\AppData\\Local\\Temp\\ipykernel_2004\\3699852308.py:1: UserWarning: Parsing '16-12-1997' in DD/MM/YYYY format. Provide format or specify infer_datetime_format=True for consistent parsing.\n",
      "  insurance_data.loc[:,'AgeFinal']=round(((pd.Timestamp.today()-pd.to_datetime(insurance_data.Final_DateOfBirth)).dt.days)/365.25,0)\n"
     ]
    }
   ],
   "source": [
    "insurance_data.loc[:,'AgeFinal']=round(((pd.Timestamp.today()-pd.to_datetime(insurance_data.Final_DateOfBirth)).dt.days)/365.25,0)"
   ]
  },
  {
   "cell_type": "code",
   "execution_count": 48,
   "id": "98da6ed4",
   "metadata": {},
   "outputs": [
    {
     "data": {
      "text/plain": [
       "542    61.0\n",
       "426    25.0\n",
       "414    39.0\n",
       "416    51.0\n",
       "853    54.0\n",
       "       ... \n",
       "609    42.0\n",
       "636    39.0\n",
       "637    39.0\n",
       "638    27.0\n",
       "639    29.0\n",
       "Name: AgeFinal, Length: 1085, dtype: float64"
      ]
     },
     "execution_count": 48,
     "metadata": {},
     "output_type": "execute_result"
    }
   ],
   "source": [
    "insurance_data.loc[:,'AgeFinal']"
   ]
  },
  {
   "cell_type": "markdown",
   "id": "294968d6",
   "metadata": {},
   "source": [
    "Children < 18\n",
    "Youth 18-30\n",
    "Adult 30-60\n",
    "Senior > 60"
   ]
  },
  {
   "cell_type": "code",
   "execution_count": 49,
   "id": "16cf2f1b",
   "metadata": {},
   "outputs": [],
   "source": [
    "insurance_data.loc[:,'AgeCategory']=np.where(insurance_data.AgeFinal<18,'Children',np.where(insurance_data.AgeFinal.between(18,30,inclusive='both'),'Youth',np.where(insurance_data.AgeFinal.between(30,60,inclusive='right'),'Adult','Senior')))"
   ]
  },
  {
   "cell_type": "code",
   "execution_count": 50,
   "id": "7d29beb1",
   "metadata": {},
   "outputs": [
    {
     "data": {
      "text/html": [
       "<div>\n",
       "<style scoped>\n",
       "    .dataframe tbody tr th:only-of-type {\n",
       "        vertical-align: middle;\n",
       "    }\n",
       "\n",
       "    .dataframe tbody tr th {\n",
       "        vertical-align: top;\n",
       "    }\n",
       "\n",
       "    .dataframe thead th {\n",
       "        text-align: right;\n",
       "    }\n",
       "</style>\n",
       "<table border=\"1\" class=\"dataframe\">\n",
       "  <thead>\n",
       "    <tr style=\"text-align: right;\">\n",
       "      <th></th>\n",
       "      <th>AgeFinal</th>\n",
       "      <th>AgeCategory</th>\n",
       "    </tr>\n",
       "  </thead>\n",
       "  <tbody>\n",
       "    <tr>\n",
       "      <th>542</th>\n",
       "      <td>61.0</td>\n",
       "      <td>Senior</td>\n",
       "    </tr>\n",
       "    <tr>\n",
       "      <th>426</th>\n",
       "      <td>25.0</td>\n",
       "      <td>Youth</td>\n",
       "    </tr>\n",
       "    <tr>\n",
       "      <th>414</th>\n",
       "      <td>39.0</td>\n",
       "      <td>Adult</td>\n",
       "    </tr>\n",
       "    <tr>\n",
       "      <th>416</th>\n",
       "      <td>51.0</td>\n",
       "      <td>Adult</td>\n",
       "    </tr>\n",
       "    <tr>\n",
       "      <th>853</th>\n",
       "      <td>54.0</td>\n",
       "      <td>Adult</td>\n",
       "    </tr>\n",
       "    <tr>\n",
       "      <th>...</th>\n",
       "      <td>...</td>\n",
       "      <td>...</td>\n",
       "    </tr>\n",
       "    <tr>\n",
       "      <th>609</th>\n",
       "      <td>42.0</td>\n",
       "      <td>Adult</td>\n",
       "    </tr>\n",
       "    <tr>\n",
       "      <th>636</th>\n",
       "      <td>39.0</td>\n",
       "      <td>Adult</td>\n",
       "    </tr>\n",
       "    <tr>\n",
       "      <th>637</th>\n",
       "      <td>39.0</td>\n",
       "      <td>Adult</td>\n",
       "    </tr>\n",
       "    <tr>\n",
       "      <th>638</th>\n",
       "      <td>27.0</td>\n",
       "      <td>Youth</td>\n",
       "    </tr>\n",
       "    <tr>\n",
       "      <th>639</th>\n",
       "      <td>29.0</td>\n",
       "      <td>Youth</td>\n",
       "    </tr>\n",
       "  </tbody>\n",
       "</table>\n",
       "<p>1085 rows × 2 columns</p>\n",
       "</div>"
      ],
      "text/plain": [
       "     AgeFinal AgeCategory\n",
       "542      61.0      Senior\n",
       "426      25.0       Youth\n",
       "414      39.0       Adult\n",
       "416      51.0       Adult\n",
       "853      54.0       Adult\n",
       "..        ...         ...\n",
       "609      42.0       Adult\n",
       "636      39.0       Adult\n",
       "637      39.0       Adult\n",
       "638      27.0       Youth\n",
       "639      29.0       Youth\n",
       "\n",
       "[1085 rows x 2 columns]"
      ]
     },
     "execution_count": 50,
     "metadata": {},
     "output_type": "execute_result"
    }
   ],
   "source": [
    "insurance_data.loc[:,['AgeFinal','AgeCategory']]"
   ]
  },
  {
   "cell_type": "markdown",
   "id": "bd763ebd",
   "metadata": {},
   "source": [
    "# 8. What is the average amount claimed by the customers from various segments?"
   ]
  },
  {
   "cell_type": "code",
   "execution_count": 51,
   "id": "9bb431b6",
   "metadata": {},
   "outputs": [
    {
     "data": {
      "text/plain": [
       "CUST_ID   Segment \n",
       "154557    Platinum    12501.726555\n",
       "263204    Silver      39192.000000\n",
       "287476    Silver       1621.500000\n",
       "441097    Gold        37040.000000\n",
       "524545    Gold        35250.000000\n",
       "                          ...     \n",
       "99674324  Silver      21480.000000\n",
       "99723844  Gold        14360.000000\n",
       "99761663  Silver       1242.000000\n",
       "99892000  Gold         2415.000000\n",
       "99961993  Platinum     2310.000000\n",
       "Name: claim_amount, Length: 1085, dtype: float64"
      ]
     },
     "execution_count": 51,
     "metadata": {},
     "output_type": "execute_result"
    }
   ],
   "source": [
    "insurance_data.groupby(['CUST_ID','Segment'])['claim_amount'].mean()"
   ]
  },
  {
   "cell_type": "markdown",
   "id": "322b46b0",
   "metadata": {},
   "source": [
    "# 9. What is the total claim amount based on incident cause for all the claims that have been done at least 20 days prior to 1st of October, 2018."
   ]
  },
  {
   "cell_type": "code",
   "execution_count": 52,
   "id": "6512b05f",
   "metadata": {},
   "outputs": [],
   "source": [
    "insurance_data.claim_date=pd.to_datetime(insurance_data.claim_date)"
   ]
  },
  {
   "cell_type": "code",
   "execution_count": 53,
   "id": "ee234cf4",
   "metadata": {},
   "outputs": [
    {
     "data": {
      "text/plain": [
       "542   2018-09-06\n",
       "426   2018-05-21\n",
       "414   2018-09-06\n",
       "416   2018-09-12\n",
       "853   2018-02-22\n",
       "         ...    \n",
       "609   2018-04-04\n",
       "636   2018-04-04\n",
       "637   2018-04-04\n",
       "638   2018-04-04\n",
       "639   2018-04-04\n",
       "Name: claim_date, Length: 1085, dtype: datetime64[ns]"
      ]
     },
     "execution_count": 53,
     "metadata": {},
     "output_type": "execute_result"
    }
   ],
   "source": [
    "insurance_data.claim_date"
   ]
  },
  {
   "cell_type": "code",
   "execution_count": 54,
   "id": "f7ce78cf",
   "metadata": {},
   "outputs": [
    {
     "data": {
      "text/plain": [
       "Timestamp('2018-09-11 00:00:00')"
      ]
     },
     "execution_count": 54,
     "metadata": {},
     "output_type": "execute_result"
    }
   ],
   "source": [
    "prior=pd.Timestamp('2018-10-01')-pd.DateOffset(days=20)\n",
    "prior"
   ]
  },
  {
   "cell_type": "code",
   "execution_count": 55,
   "id": "2f7953f4",
   "metadata": {},
   "outputs": [
    {
     "data": {
      "text/plain": [
       "incident_cause      claim_type         \n",
       "Crime               Material only            6840.000000\n",
       "Driver error        Material and injury     12501.726555\n",
       "                    Material only            2130.000000\n",
       "Natural causes      Material only            8418.000000\n",
       "Other causes        Injury only             91302.000000\n",
       "                    Material and injury    136714.000000\n",
       "                    Material only           19241.726555\n",
       "Other driver error  Material and injury     36620.000000\n",
       "                    Material only           10979.500000\n",
       "Name: claim_amount, dtype: float64"
      ]
     },
     "execution_count": 55,
     "metadata": {},
     "output_type": "execute_result"
    }
   ],
   "source": [
    "insurance_data.loc[(insurance_data.claim_date.between(prior,'2018-10-01'))].groupby(['incident_cause','claim_type'])['claim_amount'].sum()"
   ]
  },
  {
   "cell_type": "markdown",
   "id": "c76b8596",
   "metadata": {},
   "source": [
    "# 10. How many adults from TX, DE and AK claimed insurance for driver related issues and causes?"
   ]
  },
  {
   "cell_type": "code",
   "execution_count": 56,
   "id": "e60aeccb",
   "metadata": {},
   "outputs": [
    {
     "data": {
      "text/plain": [
       "13"
      ]
     },
     "execution_count": 56,
     "metadata": {},
     "output_type": "execute_result"
    }
   ],
   "source": [
    "len(insurance_data.loc[((insurance_data.State.isin(['TX','DE','AK']))&(insurance_data.incident_cause=='Other driver error'))])"
   ]
  },
  {
   "cell_type": "markdown",
   "id": "09731088",
   "metadata": {},
   "source": [
    "# 11. Draw a pie chart between the aggregated value of claim amount based on gender and segment. Represent the claim amount as a percentage on the pie chart."
   ]
  },
  {
   "cell_type": "code",
   "execution_count": 64,
   "id": "63531e23",
   "metadata": {},
   "outputs": [
    {
     "data": {
      "image/png": "[encoded data removed]",
      "text/plain": [
       "<Figure size 576x576 with 1 Axes>"
      ]
     },
     "metadata": {},
     "output_type": "display_data"
    }
   ],
   "source": [
    "plt.figure(figsize=(8,8))\n",
    "round((insurance_data.groupby(['gender','Segment'])['claim_amount'].sum()/insurance_data.claim_amount.sum())*100,0).plot(kind='pie',shadow=True,autopct='%1.0f%%')\n",
    "plt.show()"
   ]
  },
  {
   "cell_type": "markdown",
   "id": "170ef816",
   "metadata": {},
   "source": [
    "# 12. Among males and females, which gender had claimed the most for any type of driver related issues? E.g. This metric can be compared using a bar chart"
   ]
  },
  {
   "cell_type": "code",
   "execution_count": 58,
   "id": "e2780c6d",
   "metadata": {},
   "outputs": [
    {
     "data": {
      "text/plain": [
       "gender\n",
       "Female    148\n",
       "Male       95\n",
       "Name: incident_cause, dtype: int64"
      ]
     },
     "execution_count": 58,
     "metadata": {},
     "output_type": "execute_result"
    }
   ],
   "source": [
    "insurance_data.loc[insurance_data.incident_cause=='Other driver error'].groupby('gender')['incident_cause'].count()"
   ]
  },
  {
   "cell_type": "markdown",
   "id": "91da5f39",
   "metadata": {},
   "source": [
    "# 13. Which age group had the maximum fraudulent policy claims? Visualize it on a bar chart."
   ]
  },
  {
   "cell_type": "code",
   "execution_count": 59,
   "id": "ea8d8984",
   "metadata": {},
   "outputs": [
    {
     "data": {
      "text/plain": [
       "AgeCategory\n",
       "Adult     188\n",
       "Senior     15\n",
       "Youth      42\n",
       "Name: fraudulent, dtype: int64"
      ]
     },
     "execution_count": 59,
     "metadata": {},
     "output_type": "execute_result"
    }
   ],
   "source": [
    "insurance_data.loc[insurance_data.fraudulent=='Yes'].groupby('AgeCategory')['fraudulent'].count()"
   ]
  },
  {
   "cell_type": "code",
   "execution_count": 60,
   "id": "c7f47902",
   "metadata": {},
   "outputs": [
    {
     "data": {
      "image/png": "[encoded data removed]",
      "text/plain": [
       "<Figure size 576x576 with 1 Axes>"
      ]
     },
     "metadata": {},
     "output_type": "display_data"
    }
   ],
   "source": [
    "plt.figure(figsize=(8,8))\n",
    "(((insurance_data.loc[insurance_data.fraudulent=='Yes'].groupby('AgeCategory')['fraudulent'].count())/(insurance_data.loc[insurance_data.fraudulent=='Yes'].groupby('AgeCategory')['fraudulent'].count().sum()))*100).plot(kind='pie',autopct='%1.0f%%')\n",
    "plt.show()"
   ]
  },
  {
   "cell_type": "markdown",
   "id": "2e7496c9",
   "metadata": {},
   "source": [
    "# 14. Visualize the monthly trend of the total amount that has been claimed by  he customers. Ensure that on the “month” axis, the month is in a chronological order not alphabetical order."
   ]
  },
  {
   "cell_type": "code",
   "execution_count": 61,
   "id": "2aa68828",
   "metadata": {},
   "outputs": [
    {
     "data": {
      "text/plain": [
       "<function matplotlib.pyplot.show(close=None, block=None)>"
      ]
     },
     "execution_count": 61,
     "metadata": {},
     "output_type": "execute_result"
    },
    {
     "data": {
      "image/png": "[encoded data removed]",
      "text/plain": [
       "<Figure size 1440x576 with 1 Axes>"
      ]
     },
     "metadata": {
      "needs_background": "light"
     },
     "output_type": "display_data"
    }
   ],
   "source": [
    "plt.figure(figsize=(20,8))\n",
    "insurance_data.groupby(pd.to_datetime(insurance_data.claim_date))['claim_amount'].sum().plot(kind='line')\n",
    "plt.show"
   ]
  },
  {
   "cell_type": "markdown",
   "id": "c0692bed",
   "metadata": {},
   "source": [
    "# 15. What is the average claim amount for gender and age categories and suitably represent the above using a facetted bar chart, one facet that represents fraudulent claims and the other for non-fraudulent claims."
   ]
  },
  {
   "cell_type": "code",
   "execution_count": 62,
   "id": "558c88f2",
   "metadata": {},
   "outputs": [
    {
     "data": {
      "image/png": "[encoded data removed]",
      "text/plain": [
       "<Figure size 1440x720 with 2 Axes>"
      ]
     },
     "metadata": {
      "needs_background": "light"
     },
     "output_type": "display_data"
    }
   ],
   "source": [
    "fig,ax=plt.subplots(1,2,figsize=(20,10))\n",
    "insurance_data.loc[insurance_data.fraudulent=='Yes'].groupby(['gender','AgeCategory'])['claim_amount'].mean().plot(kind='bar',ax=ax[0],label='fraudulent claims',color='red')\n",
    "insurance_data.loc[insurance_data.fraudulent=='No'].groupby(['gender','AgeCategory'])['claim_amount'].mean().plot(kind='bar',ax=ax[1],label='non-fraudulent claims',color='green')\n",
    "plt.legend()\n",
    "plt.show()"
   ]
  },
  {
   "cell_type": "markdown",
   "id": "f35c1604",
   "metadata": {},
   "source": [
    "# Based on the conclusions from exploratory analysis as well as suitable statistical tests, answer the below questions. Please include a detailed write-up on the parameters taken into consideration, the Hypothesis testing steps, conclusion from the p-values and the business implications of the statements.\n",
    "## 16. Is there any similarity in the amount claimed by males and females?"
   ]
  },
  {
   "cell_type": "code",
   "execution_count": 69,
   "id": "cc3ea1b6",
   "metadata": {},
   "outputs": [],
   "source": [
    "Male_amount=insurance_data.loc[insurance_data.gender=='Male','claim_amount']"
   ]
  },
  {
   "cell_type": "code",
   "execution_count": 76,
   "id": "c8985237",
   "metadata": {},
   "outputs": [
    {
     "data": {
      "text/plain": [
       "12883.459510093911"
      ]
     },
     "execution_count": 76,
     "metadata": {},
     "output_type": "execute_result"
    }
   ],
   "source": [
    "Male_amount.mean()"
   ]
  },
  {
   "cell_type": "code",
   "execution_count": 70,
   "id": "2b4fff2c",
   "metadata": {},
   "outputs": [],
   "source": [
    "female_amount=insurance_data.loc[insurance_data.gender=='Female','claim_amount']"
   ]
  },
  {
   "cell_type": "code",
   "execution_count": 77,
   "id": "479473d8",
   "metadata": {},
   "outputs": [
    {
     "data": {
      "text/plain": [
       "12104.925193351097"
      ]
     },
     "execution_count": 77,
     "metadata": {},
     "output_type": "execute_result"
    }
   ],
   "source": [
    "female_amount.mean()"
   ]
  },
  {
   "cell_type": "code",
   "execution_count": 119,
   "id": "6dcf5fe0",
   "metadata": {},
   "outputs": [
    {
     "data": {
      "image/png": "[encoded data removed]",
      "text/plain": [
       "<Figure size 720x576 with 1 Axes>"
      ]
     },
     "metadata": {},
     "output_type": "display_data"
    }
   ],
   "source": [
    "plt.figure(figsize=(10,8))\n",
    "sns.set(style='whitegrid')\n",
    "sns.histplot(Male_amount,color='green')\n",
    "sns.histplot(female_amount,color='yellow')\n",
    "plt.axvline(Male_amount.mean(),linestyle='--',color='r')\n",
    "plt.axvline(female_amount.mean(),linestyle='--',color='orange')\n",
    "plt.show()"
   ]
  },
  {
   "cell_type": "code",
   "execution_count": 99,
   "id": "aa2b360f",
   "metadata": {},
   "outputs": [
    {
     "data": {
      "text/plain": [
       "Ttest_indResult(statistic=0.9624541122991915, pvalue=0.3360363827572097)"
      ]
     },
     "execution_count": 99,
     "metadata": {},
     "output_type": "execute_result"
    }
   ],
   "source": [
    "stats.ttest_ind(Male_amount,female_amount)"
   ]
  },
  {
   "cell_type": "code",
   "execution_count": 102,
   "id": "8184b203",
   "metadata": {},
   "outputs": [],
   "source": [
    "#H0:we assume that no similarity between Male claim amount and Female claim amount\n",
    "#Ha:both are dependent(have similarity)\n",
    "#since p vale is less than 5% we reject the null hypothesis \n",
    "#CI interval: 95%\n",
    "#pvalue:5%"
   ]
  },
  {
   "cell_type": "markdown",
   "id": "877ea1ad",
   "metadata": {},
   "source": [
    "# 17. Is there any relationship between age category and segment?"
   ]
  },
  {
   "cell_type": "code",
   "execution_count": 108,
   "id": "466547c9",
   "metadata": {},
   "outputs": [
    {
     "data": {
      "text/html": [
       "<div>\n",
       "<style scoped>\n",
       "    .dataframe tbody tr th:only-of-type {\n",
       "        vertical-align: middle;\n",
       "    }\n",
       "\n",
       "    .dataframe tbody tr th {\n",
       "        vertical-align: top;\n",
       "    }\n",
       "\n",
       "    .dataframe thead th {\n",
       "        text-align: right;\n",
       "    }\n",
       "</style>\n",
       "<table border=\"1\" class=\"dataframe\">\n",
       "  <thead>\n",
       "    <tr style=\"text-align: right;\">\n",
       "      <th>Segment</th>\n",
       "      <th>Gold</th>\n",
       "      <th>Platinum</th>\n",
       "      <th>Silver</th>\n",
       "    </tr>\n",
       "    <tr>\n",
       "      <th>AgeCategory</th>\n",
       "      <th></th>\n",
       "      <th></th>\n",
       "      <th></th>\n",
       "    </tr>\n",
       "  </thead>\n",
       "  <tbody>\n",
       "    <tr>\n",
       "      <th>Adult</th>\n",
       "      <td>275</td>\n",
       "      <td>271</td>\n",
       "      <td>254</td>\n",
       "    </tr>\n",
       "    <tr>\n",
       "      <th>Senior</th>\n",
       "      <td>25</td>\n",
       "      <td>21</td>\n",
       "      <td>20</td>\n",
       "    </tr>\n",
       "    <tr>\n",
       "      <th>Youth</th>\n",
       "      <td>72</td>\n",
       "      <td>72</td>\n",
       "      <td>75</td>\n",
       "    </tr>\n",
       "  </tbody>\n",
       "</table>\n",
       "</div>"
      ],
      "text/plain": [
       "Segment      Gold  Platinum  Silver\n",
       "AgeCategory                        \n",
       "Adult         275       271     254\n",
       "Senior         25        21      20\n",
       "Youth          72        72      75"
      ]
     },
     "execution_count": 108,
     "metadata": {},
     "output_type": "execute_result"
    }
   ],
   "source": [
    "observed=pd.crosstab(insurance_data.AgeCategory,insurance_data.Segment)\n",
    "observed"
   ]
  },
  {
   "cell_type": "code",
   "execution_count": 109,
   "id": "94fae6c0",
   "metadata": {},
   "outputs": [
    {
     "data": {
      "text/plain": [
       "(0.8999510444068287,\n",
       " 0.9245678432259937,\n",
       " 4,\n",
       " array([[274.28571429, 268.38709677, 257.32718894],\n",
       "        [ 22.62857143,  22.14193548,  21.22949309],\n",
       "        [ 75.08571429,  73.47096774,  70.44331797]]))"
      ]
     },
     "execution_count": 109,
     "metadata": {},
     "output_type": "execute_result"
    }
   ],
   "source": [
    "stats.chi2_contingency(observed)"
   ]
  },
  {
   "cell_type": "code",
   "execution_count": 110,
   "id": "2e533a3b",
   "metadata": {},
   "outputs": [],
   "source": [
    "#H0:both are independent(Agecategory and segement)\n",
    "#Ha:both are independent(Agecategory and segement)\n",
    "# See the expected values are similar to observed values\n",
    "#and pvalue is also greater than 5% it means that Agecategory and segment are independent of each other\n",
    "#we consider the null hypothesis"
   ]
  },
  {
   "cell_type": "markdown",
   "id": "6563cd70",
   "metadata": {},
   "source": [
    "# 18. The current year has shown a significant rise in claim amounts as compared to 2016-17 fiscal average which was $10,000."
   ]
  },
  {
   "cell_type": "code",
   "execution_count": 142,
   "id": "b9e3c624",
   "metadata": {},
   "outputs": [],
   "source": [
    "#H0:population mean>10000(null hupothesis)\n",
    "#HA:population mean<10000"
   ]
  },
  {
   "cell_type": "code",
   "execution_count": 131,
   "id": "0677c94e",
   "metadata": {},
   "outputs": [
    {
     "data": {
      "image/png": "[encoded data removed]",
      "text/plain": [
       "<Figure size 720x576 with 1 Axes>"
      ]
     },
     "metadata": {},
     "output_type": "display_data"
    }
   ],
   "source": [
    "plt.figure(figsize=(10,8))\n",
    "sns.histplot(insurance_data.claim_amount)\n",
    "plt.axvline(insurance_data.claim_amount.mean(),linestyle='--',color='r',label='fiscal year 2017-18')\n",
    "plt.axvline(10000,linestyle='--',color='y',label='fiscal year 2016-17')\n",
    "plt.legend()\n",
    "plt.show()"
   ]
  },
  {
   "cell_type": "code",
   "execution_count": 133,
   "id": "ab588437",
   "metadata": {},
   "outputs": [
    {
     "data": {
      "text/plain": [
       "Ttest_1sampResult(statistic=6.186830635443131, pvalue=8.687643050107797e-10)"
      ]
     },
     "execution_count": 133,
     "metadata": {},
     "output_type": "execute_result"
    }
   ],
   "source": [
    "stats.ttest_1samp(insurance_data.claim_amount,10000)"
   ]
  },
  {
   "cell_type": "code",
   "execution_count": 135,
   "id": "b6a3de53",
   "metadata": {},
   "outputs": [
    {
     "data": {
      "text/plain": [
       "12501.72655478778"
      ]
     },
     "execution_count": 135,
     "metadata": {},
     "output_type": "execute_result"
    }
   ],
   "source": [
    "insurance_data.claim_amount.mean()"
   ]
  },
  {
   "cell_type": "code",
   "execution_count": 136,
   "id": "306db562",
   "metadata": {},
   "outputs": [
    {
     "data": {
      "text/plain": [
       "13319.45577432928"
      ]
     },
     "execution_count": 136,
     "metadata": {},
     "output_type": "execute_result"
    }
   ],
   "source": [
    "insurance_data.claim_amount.std()"
   ]
  },
  {
   "cell_type": "code",
   "execution_count": 140,
   "id": "6ee5cc1d",
   "metadata": {},
   "outputs": [
    {
     "data": {
      "text/plain": [
       "6.186830635443175"
      ]
     },
     "execution_count": 140,
     "metadata": {},
     "output_type": "execute_result"
    }
   ],
   "source": [
    "# t value manually \n",
    "(12501.72655478778-10000)/(13319.45577432928/1085**0.5)"
   ]
  },
  {
   "cell_type": "code",
   "execution_count": 137,
   "id": "0f6a8f3c",
   "metadata": {},
   "outputs": [
    {
     "data": {
      "text/plain": [
       "1085"
      ]
     },
     "execution_count": 137,
     "metadata": {},
     "output_type": "execute_result"
    }
   ],
   "source": [
    "len(insurance_data.claim_amount)"
   ]
  },
  {
   "cell_type": "code",
   "execution_count": 143,
   "id": "98fc35e2",
   "metadata": {},
   "outputs": [],
   "source": [
    "# since pvalue is greater than 5% i.e 8.687643050107797,we consider the null hypothesis H0:population mean>10000\n"
   ]
  },
  {
   "cell_type": "markdown",
   "id": "1b6705d4",
   "metadata": {},
   "source": [
    "# 19. Is there any difference between age groups and insurance claims?"
   ]
  },
  {
   "cell_type": "code",
   "execution_count": 185,
   "id": "25f0e837",
   "metadata": {},
   "outputs": [
    {
     "data": {
      "text/plain": [
       "<AxesSubplot:xlabel='AgeCategory'>"
      ]
     },
     "execution_count": 185,
     "metadata": {},
     "output_type": "execute_result"
    },
    {
     "data": {
      "image/png": "[encoded data removed]",
      "text/plain": [
       "<Figure size 432x288 with 1 Axes>"
      ]
     },
     "metadata": {},
     "output_type": "display_data"
    }
   ],
   "source": [
    "insurance_data.pivot_table(index='AgeCategory',values='claim_amount',aggfunc='count').plot(kind='bar')"
   ]
  },
  {
   "cell_type": "code",
   "execution_count": 186,
   "id": "18605426",
   "metadata": {},
   "outputs": [],
   "source": [
    "#Adult people have claimed very high \n",
    "#Senior people have claimed very less \n",
    "#Youth people have claimed in between adult and senior"
   ]
  },
  {
   "cell_type": "markdown",
   "id": "162aaae5",
   "metadata": {},
   "source": [
    "# 20. Is there any relationship between total number of policy claims and the claimed amount?"
   ]
  },
  {
   "cell_type": "code",
   "execution_count": 222,
   "id": "08a5df55",
   "metadata": {},
   "outputs": [
    {
     "data": {
      "text/plain": [
       "<AxesSubplot:xlabel='total_policy_claims'>"
      ]
     },
     "execution_count": 222,
     "metadata": {},
     "output_type": "execute_result"
    },
    {
     "data": {
      "image/png": "[encoded data removed]",
      "text/plain": [
       "<Figure size 432x288 with 1 Axes>"
      ]
     },
     "metadata": {},
     "output_type": "display_data"
    }
   ],
   "source": [
    "insurance_data.loc[:,['total_policy_claims','claim_amount']].groupby('total_policy_claims')['claim_amount'].sum().plot(kind='line')"
   ]
  },
  {
   "cell_type": "code",
   "execution_count": 226,
   "id": "ca6b5053",
   "metadata": {},
   "outputs": [
    {
     "data": {
      "text/plain": [
       "<matplotlib.collections.PathCollection at 0x2b531c29b80>"
      ]
     },
     "execution_count": 226,
     "metadata": {},
     "output_type": "execute_result"
    },
    {
     "data": {
      "image/png": "[encoded data removed]",
      "text/plain": [
       "<Figure size 432x288 with 1 Axes>"
      ]
     },
     "metadata": {},
     "output_type": "display_data"
    }
   ],
   "source": [
    "plt.scatter(x=insurance_data.total_policy_claims,y=insurance_data.claim_amount)"
   ]
  },
  {
   "cell_type": "code",
   "execution_count": 221,
   "id": "04868354",
   "metadata": {},
   "outputs": [
    {
     "data": {
      "text/plain": [
       "-0.021909487420303703"
      ]
     },
     "execution_count": 221,
     "metadata": {},
     "output_type": "execute_result"
    }
   ],
   "source": [
    "insurance_data.total_policy_claims.corr(insurance_data.claim_amount)"
   ]
  },
  {
   "cell_type": "code",
   "execution_count": 223,
   "id": "56e8502b",
   "metadata": {},
   "outputs": [
    {
     "data": {
      "text/plain": [
       "(-0.02190948742030377, 0.4709472448744761)"
      ]
     },
     "execution_count": 223,
     "metadata": {},
     "output_type": "execute_result"
    }
   ],
   "source": [
    "stats.pearsonr(insurance_data.total_policy_claims,insurance_data.claim_amount)"
   ]
  },
  {
   "cell_type": "code",
   "execution_count": 225,
   "id": "8ceeb1e1",
   "metadata": {},
   "outputs": [],
   "source": [
    "#since correlation cofficient is less than 0.5 i.e -0.0219, \n",
    "#the relation ship between totalpolicy claim and claim amount is very bad "
   ]
  },
  {
   "cell_type": "code",
   "execution_count": 234,
   "id": "d75e5b43",
   "metadata": {},
   "outputs": [
    {
     "data": {
      "text/html": [
       "<div>\n",
       "<style scoped>\n",
       "    .dataframe tbody tr th:only-of-type {\n",
       "        vertical-align: middle;\n",
       "    }\n",
       "\n",
       "    .dataframe tbody tr th {\n",
       "        vertical-align: top;\n",
       "    }\n",
       "\n",
       "    .dataframe thead th {\n",
       "        text-align: right;\n",
       "    }\n",
       "</style>\n",
       "<table border=\"1\" class=\"dataframe\">\n",
       "  <thead>\n",
       "    <tr style=\"text-align: right;\">\n",
       "      <th></th>\n",
       "      <th>CUST_ID</th>\n",
       "      <th>claim_id</th>\n",
       "      <th>customer_id</th>\n",
       "      <th>claim_amount</th>\n",
       "      <th>total_policy_claims</th>\n",
       "      <th>Day</th>\n",
       "      <th>month</th>\n",
       "      <th>Year2</th>\n",
       "      <th>Year3</th>\n",
       "      <th>AgeFinal</th>\n",
       "    </tr>\n",
       "  </thead>\n",
       "  <tbody>\n",
       "    <tr>\n",
       "      <th>CUST_ID</th>\n",
       "      <td>1.000000</td>\n",
       "      <td>0.072107</td>\n",
       "      <td>0.997971</td>\n",
       "      <td>-0.049152</td>\n",
       "      <td>-0.013224</td>\n",
       "      <td>0.011782</td>\n",
       "      <td>0.013272</td>\n",
       "      <td>0.023044</td>\n",
       "      <td>-0.010855</td>\n",
       "      <td>0.011182</td>\n",
       "    </tr>\n",
       "    <tr>\n",
       "      <th>claim_id</th>\n",
       "      <td>0.072107</td>\n",
       "      <td>1.000000</td>\n",
       "      <td>0.072254</td>\n",
       "      <td>0.040408</td>\n",
       "      <td>-0.013760</td>\n",
       "      <td>-0.001401</td>\n",
       "      <td>0.029587</td>\n",
       "      <td>-0.025571</td>\n",
       "      <td>-0.032010</td>\n",
       "      <td>0.030996</td>\n",
       "    </tr>\n",
       "    <tr>\n",
       "      <th>customer_id</th>\n",
       "      <td>0.997971</td>\n",
       "      <td>0.072254</td>\n",
       "      <td>1.000000</td>\n",
       "      <td>-0.049252</td>\n",
       "      <td>-0.013251</td>\n",
       "      <td>0.011372</td>\n",
       "      <td>0.012244</td>\n",
       "      <td>0.024383</td>\n",
       "      <td>-0.013646</td>\n",
       "      <td>0.013943</td>\n",
       "    </tr>\n",
       "    <tr>\n",
       "      <th>claim_amount</th>\n",
       "      <td>-0.049152</td>\n",
       "      <td>0.040408</td>\n",
       "      <td>-0.049252</td>\n",
       "      <td>1.000000</td>\n",
       "      <td>-0.021909</td>\n",
       "      <td>0.028154</td>\n",
       "      <td>-0.011863</td>\n",
       "      <td>-0.035839</td>\n",
       "      <td>0.003070</td>\n",
       "      <td>-0.002792</td>\n",
       "    </tr>\n",
       "    <tr>\n",
       "      <th>total_policy_claims</th>\n",
       "      <td>-0.013224</td>\n",
       "      <td>-0.013760</td>\n",
       "      <td>-0.013251</td>\n",
       "      <td>-0.021909</td>\n",
       "      <td>1.000000</td>\n",
       "      <td>-0.063614</td>\n",
       "      <td>-0.014210</td>\n",
       "      <td>0.011416</td>\n",
       "      <td>0.025774</td>\n",
       "      <td>-0.025327</td>\n",
       "    </tr>\n",
       "    <tr>\n",
       "      <th>Day</th>\n",
       "      <td>0.011782</td>\n",
       "      <td>-0.001401</td>\n",
       "      <td>0.011372</td>\n",
       "      <td>0.028154</td>\n",
       "      <td>-0.063614</td>\n",
       "      <td>1.000000</td>\n",
       "      <td>-0.046473</td>\n",
       "      <td>-0.000378</td>\n",
       "      <td>-0.005614</td>\n",
       "      <td>0.000090</td>\n",
       "    </tr>\n",
       "    <tr>\n",
       "      <th>month</th>\n",
       "      <td>0.013272</td>\n",
       "      <td>0.029587</td>\n",
       "      <td>0.012244</td>\n",
       "      <td>-0.011863</td>\n",
       "      <td>-0.014210</td>\n",
       "      <td>-0.046473</td>\n",
       "      <td>1.000000</td>\n",
       "      <td>-0.008585</td>\n",
       "      <td>-0.008776</td>\n",
       "      <td>-0.014989</td>\n",
       "    </tr>\n",
       "    <tr>\n",
       "      <th>Year2</th>\n",
       "      <td>0.023044</td>\n",
       "      <td>-0.025571</td>\n",
       "      <td>0.024383</td>\n",
       "      <td>-0.035839</td>\n",
       "      <td>0.011416</td>\n",
       "      <td>-0.000378</td>\n",
       "      <td>-0.008585</td>\n",
       "      <td>1.000000</td>\n",
       "      <td>-0.702331</td>\n",
       "      <td>0.701995</td>\n",
       "    </tr>\n",
       "    <tr>\n",
       "      <th>Year3</th>\n",
       "      <td>-0.010855</td>\n",
       "      <td>-0.032010</td>\n",
       "      <td>-0.013646</td>\n",
       "      <td>0.003070</td>\n",
       "      <td>0.025774</td>\n",
       "      <td>-0.005614</td>\n",
       "      <td>-0.008776</td>\n",
       "      <td>-0.702331</td>\n",
       "      <td>1.000000</td>\n",
       "      <td>-0.999083</td>\n",
       "    </tr>\n",
       "    <tr>\n",
       "      <th>AgeFinal</th>\n",
       "      <td>0.011182</td>\n",
       "      <td>0.030996</td>\n",
       "      <td>0.013943</td>\n",
       "      <td>-0.002792</td>\n",
       "      <td>-0.025327</td>\n",
       "      <td>0.000090</td>\n",
       "      <td>-0.014989</td>\n",
       "      <td>0.701995</td>\n",
       "      <td>-0.999083</td>\n",
       "      <td>1.000000</td>\n",
       "    </tr>\n",
       "  </tbody>\n",
       "</table>\n",
       "</div>"
      ],
      "text/plain": [
       "                      CUST_ID  claim_id  customer_id  claim_amount  \\\n",
       "CUST_ID              1.000000  0.072107     0.997971     -0.049152   \n",
       "claim_id             0.072107  1.000000     0.072254      0.040408   \n",
       "customer_id          0.997971  0.072254     1.000000     -0.049252   \n",
       "claim_amount        -0.049152  0.040408    -0.049252      1.000000   \n",
       "total_policy_claims -0.013224 -0.013760    -0.013251     -0.021909   \n",
       "Day                  0.011782 -0.001401     0.011372      0.028154   \n",
       "month                0.013272  0.029587     0.012244     -0.011863   \n",
       "Year2                0.023044 -0.025571     0.024383     -0.035839   \n",
       "Year3               -0.010855 -0.032010    -0.013646      0.003070   \n",
       "AgeFinal             0.011182  0.030996     0.013943     -0.002792   \n",
       "\n",
       "                     total_policy_claims       Day     month     Year2  \\\n",
       "CUST_ID                        -0.013224  0.011782  0.013272  0.023044   \n",
       "claim_id                       -0.013760 -0.001401  0.029587 -0.025571   \n",
       "customer_id                    -0.013251  0.011372  0.012244  0.024383   \n",
       "claim_amount                   -0.021909  0.028154 -0.011863 -0.035839   \n",
       "total_policy_claims             1.000000 -0.063614 -0.014210  0.011416   \n",
       "Day                            -0.063614  1.000000 -0.046473 -0.000378   \n",
       "month                          -0.014210 -0.046473  1.000000 -0.008585   \n",
       "Year2                           0.011416 -0.000378 -0.008585  1.000000   \n",
       "Year3                           0.025774 -0.005614 -0.008776 -0.702331   \n",
       "AgeFinal                       -0.025327  0.000090 -0.014989  0.701995   \n",
       "\n",
       "                        Year3  AgeFinal  \n",
       "CUST_ID             -0.010855  0.011182  \n",
       "claim_id            -0.032010  0.030996  \n",
       "customer_id         -0.013646  0.013943  \n",
       "claim_amount         0.003070 -0.002792  \n",
       "total_policy_claims  0.025774 -0.025327  \n",
       "Day                 -0.005614  0.000090  \n",
       "month               -0.008776 -0.014989  \n",
       "Year2               -0.702331  0.701995  \n",
       "Year3                1.000000 -0.999083  \n",
       "AgeFinal            -0.999083  1.000000  "
      ]
     },
     "execution_count": 234,
     "metadata": {},
     "output_type": "execute_result"
    }
   ],
   "source": [
    "insurance_data.corr()"
   ]
  },
  {
   "cell_type": "code",
   "execution_count": null,
   "id": "7795e987",
   "metadata": {},
   "outputs": [],
   "source": []
  }
 ],
 "metadata": {
  "kernelspec": {
   "display_name": "Python 3 (ipykernel)",
   "language": "python",
   "name": "python3"
  },
  "language_info": {
   "codemirror_mode": {
    "name": "ipython",
    "version": 3
   },
   "file_extension": ".py",
   "mimetype": "text/x-python",
   "name": "python",
   "nbconvert_exporter": "python",
   "pygments_lexer": "ipython3",
   "version": "3.9.12"
  }
 },
 "nbformat": 4,
 "nbformat_minor": 5
}
